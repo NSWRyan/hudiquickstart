{
 "cells": [
  {
   "cell_type": "markdown",
   "metadata": {},
   "source": [
    "### Clean up first"
   ]
  },
  {
   "cell_type": "code",
   "execution_count": 1,
   "metadata": {},
   "outputs": [
    {
     "name": "stdout",
     "output_type": "stream",
     "text": [
      "/tmp/hudi/\n",
      "\n",
      "0 directories, 0 files\n",
      "\n"
     ]
    },
    {
     "data": {
      "text/html": [
       "<div class=\"jp-RenderedText\">\n",
       "<pre><code><span style=\"color: rgb(0, 187, 0)\"><span class=\"ansi-green-fg\">import </span></span><span style=\"color: rgb(0, 187, 187)\"><span class=\"ansi-cyan-fg\">sys.process._</span></span>\n",
       "<span style=\"color: rgb(0, 187, 187)\"><span class=\"ansi-cyan-fg\">res1_1</span></span>: <span style=\"color: rgb(0, 187, 0)\"><span class=\"ansi-green-fg\">String</span></span> = <span style=\"color: rgb(0, 187, 0)\"><span class=\"ansi-green-fg\">&quot;&quot;</span></span>\n",
       "<span style=\"color: rgb(0, 187, 187)\"><span class=\"ansi-cyan-fg\">res1_2</span></span>: <span style=\"color: rgb(0, 187, 0)\"><span class=\"ansi-green-fg\">String</span></span> = <span style=\"color: rgb(0, 187, 0)\"><span class=\"ansi-green-fg\">&quot;&quot;</span></span>\n",
       "<span style=\"color: rgb(0, 187, 187)\"><span class=\"ansi-cyan-fg\">result3</span></span>: <span style=\"color: rgb(0, 187, 0)\"><span class=\"ansi-green-fg\">String</span></span> = <span style=\"color: white\"><span class=\"ansi-white-fg\">[lazy]</span></span></code></pre>\n",
       "</div>"
      ],
      "text/plain": [
       "\u001b[32mimport \u001b[39m\u001b[36msys.process._\u001b[39m\n",
       "\u001b[36mres1_1\u001b[39m: \u001b[32mString\u001b[39m = \u001b[32m\"\"\u001b[39m\n",
       "\u001b[36mres1_2\u001b[39m: \u001b[32mString\u001b[39m = \u001b[32m\"\"\u001b[39m\n",
       "\u001b[36mresult3\u001b[39m: \u001b[32mString\u001b[39m = \u001b[37m[lazy]\u001b[39m"
      ]
     },
     "metadata": {},
     "output_type": "display_data"
    }
   ],
   "source": [
    "import sys.process._\n",
    "\"rm -rf /tmp/hudi/\".!!\n",
    "\"mkdir -p /tmp/hudi\".!!\n",
    "lazy val result3 = \"tree -a /tmp/hudi/\".!!\n",
    "println(result3)\n"
   ]
  },
  {
   "cell_type": "markdown",
   "metadata": {},
   "source": [
    "### Setup project"
   ]
  },
  {
   "cell_type": "code",
   "execution_count": 2,
   "metadata": {},
   "outputs": [
    {
     "name": "stderr",
     "output_type": "stream",
     "text": [
      "Using Spark's default log4j profile: org/apache/spark/log4j2-defaults.properties\n"
     ]
    },
    {
     "name": "stdout",
     "output_type": "stream",
     "text": [
      "25/03/04 00:02:50 WARN Utils: Your hostname, DESKTOP-M94RUSC resolves to a loopback address: 127.0.1.1; using 172.17.75.227 instead (on interface eth0)\n",
      "25/03/04 00:02:50 WARN Utils: Set SPARK_LOCAL_IP if you need to bind to another address\n",
      "25/03/04 00:02:50 INFO SparkContext: Running Spark version 3.3.2\n",
      "25/03/04 00:02:50 WARN NativeCodeLoader: Unable to load native-hadoop library for your platform... using builtin-java classes where applicable\n",
      "25/03/04 00:02:50 INFO ResourceUtils: ==============================================================\n",
      "25/03/04 00:02:50 INFO ResourceUtils: No custom resources configured for spark.driver.\n",
      "25/03/04 00:02:50 INFO ResourceUtils: ==============================================================\n",
      "25/03/04 00:02:50 INFO SparkContext: Submitted application: HudiLocalSession\n",
      "25/03/04 00:02:50 INFO ResourceProfile: Default ResourceProfile created, executor resources: Map(cores -> name: cores, amount: 1, script: , vendor: , memory -> name: memory, amount: 1024, script: , vendor: , offHeap -> name: offHeap, amount: 0, script: , vendor: ), task resources: Map(cpus -> name: cpus, amount: 1.0)\n",
      "25/03/04 00:02:50 INFO ResourceProfile: Limiting resource is cpu\n",
      "25/03/04 00:02:50 INFO ResourceProfileManager: Added ResourceProfile id: 0\n",
      "25/03/04 00:02:50 INFO SecurityManager: Changing view acls to: ryan\n",
      "25/03/04 00:02:50 INFO SecurityManager: Changing modify acls to: ryan\n",
      "25/03/04 00:02:50 INFO SecurityManager: Changing view acls groups to: \n",
      "25/03/04 00:02:50 INFO SecurityManager: Changing modify acls groups to: \n",
      "25/03/04 00:02:50 INFO SecurityManager: SecurityManager: authentication disabled; ui acls disabled; users  with view permissions: Set(ryan); groups with view permissions: Set(); users  with modify permissions: Set(ryan); groups with modify permissions: Set()\n",
      "25/03/04 00:02:50 INFO Utils: Successfully started service 'sparkDriver' on port 44945.\n",
      "25/03/04 00:02:50 INFO SparkEnv: Registering MapOutputTracker\n",
      "25/03/04 00:02:50 INFO SparkEnv: Registering BlockManagerMaster\n",
      "25/03/04 00:02:50 INFO BlockManagerMasterEndpoint: Using org.apache.spark.storage.DefaultTopologyMapper for getting topology information\n",
      "25/03/04 00:02:50 INFO BlockManagerMasterEndpoint: BlockManagerMasterEndpoint up\n",
      "25/03/04 00:02:50 INFO SparkEnv: Registering BlockManagerMasterHeartbeat\n",
      "25/03/04 00:02:50 INFO DiskBlockManager: Created local directory at /tmp/blockmgr-7f2c7304-fcb4-4be0-b936-f1e693812187\n",
      "25/03/04 00:02:50 INFO MemoryStore: MemoryStore started with capacity 4.4 GiB\n",
      "25/03/04 00:02:50 INFO SparkEnv: Registering OutputCommitCoordinator\n",
      "25/03/04 00:02:51 WARN Utils: Service 'SparkUI' could not bind on port 4040. Attempting port 4041.\n",
      "25/03/04 00:02:51 INFO Utils: Successfully started service 'SparkUI' on port 4041.\n",
      "25/03/04 00:02:51 INFO Executor: Starting executor ID driver on host 172.17.75.227\n",
      "25/03/04 00:02:51 INFO Executor: Starting executor with user classpath (userClassPathFirst = false): ''\n",
      "25/03/04 00:02:51 INFO Utils: Successfully started service 'org.apache.spark.network.netty.NettyBlockTransferService' on port 38591.\n",
      "25/03/04 00:02:51 INFO NettyBlockTransferService: Server created on 172.17.75.227:38591\n",
      "25/03/04 00:02:51 INFO BlockManager: Using org.apache.spark.storage.RandomBlockReplicationPolicy for block replication policy\n",
      "25/03/04 00:02:51 INFO BlockManagerMaster: Registering BlockManager BlockManagerId(driver, 172.17.75.227, 38591, None)\n",
      "25/03/04 00:02:51 INFO BlockManagerMasterEndpoint: Registering block manager 172.17.75.227:38591 with 4.4 GiB RAM, BlockManagerId(driver, 172.17.75.227, 38591, None)\n",
      "25/03/04 00:02:51 INFO BlockManagerMaster: Registered BlockManager BlockManagerId(driver, 172.17.75.227, 38591, None)\n",
      "25/03/04 00:02:51 INFO BlockManager: Initialized BlockManager: BlockManagerId(driver, 172.17.75.227, 38591, None)\n",
      "Spark with Hudi is ready!\n"
     ]
    },
    {
     "data": {
      "text/plain": [
       "\u001b[32mimport \u001b[39m\u001b[36m$ivy.$\u001b[39m\n",
       "\u001b[32mimport \u001b[39m\u001b[36m$ivy.$\u001b[39m\n",
       "\u001b[32mimport \u001b[39m\u001b[36m$ivy.$\u001b[39m\n",
       "\u001b[32mimport \u001b[39m\u001b[36m$cp.$\u001b[39m\n",
       "\u001b[32mimport \u001b[39m\u001b[36morg.apache.spark.sql._\u001b[39m\n",
       "\u001b[32mimport \u001b[39m\u001b[36morg.apache.spark.sql.functions._\u001b[39m\n",
       "\u001b[32mimport \u001b[39m\u001b[36morg.apache.hudi.QuickstartUtils._\u001b[39m\n",
       "\u001b[32mimport \u001b[39m\u001b[36morg.apache.spark.sql.hive.HiveExternalCatalog\u001b[39m\n",
       "\u001b[32mimport \u001b[39m\u001b[36mscala.collection.JavaConversions._\u001b[39m\n",
       "\u001b[32mimport \u001b[39m\u001b[36morg.apache.spark.sql.SaveMode._\u001b[39m\n",
       "\u001b[32mimport \u001b[39m\u001b[36morg.apache.hudi.DataSourceReadOptions._\u001b[39m\n",
       "\u001b[32mimport \u001b[39m\u001b[36morg.apache.hudi.DataSourceWriteOptions._\u001b[39m\n",
       "\u001b[32mimport \u001b[39m\u001b[36morg.apache.hudi.common.table.HoodieTableConfig._\u001b[39m\n",
       "\u001b[32mimport \u001b[39m\u001b[36morg.apache.hudi.config.HoodieWriteConfig._\u001b[39m\n",
       "\u001b[32mimport \u001b[39m\u001b[36morg.apache.hudi.keygen.constant.KeyGeneratorOptions._\u001b[39m\n",
       "\u001b[32mimport \u001b[39m\u001b[36morg.apache.hudi.common.model.HoodieRecord\u001b[39m\n",
       "\u001b[32mimport \u001b[39m\u001b[36mcom.payloads.CustomMergeIntoConnector\u001b[39m\n",
       "\u001b[36mspark\u001b[39m: \u001b[32mSparkSession\u001b[39m = org.apache.spark.sql.SparkSession@6a4783f6"
      ]
     },
     "execution_count": 2,
     "metadata": {},
     "output_type": "execute_result"
    }
   ],
   "source": [
    "import $ivy.`org.apache.hudi:hudi-spark3.3-bundle_2.12:1.0.0`\n",
    "// import $ivy.`org.apache.hudi:hudi-common:1.0.0`\n",
    "import $ivy.`org.apache.spark:spark-sql_2.12:3.3.2`\n",
    "import $ivy.`org.apache.spark:spark-hive_2.12:3.3.2`\n",
    "import $cp.`CustomMergeIntoConnector.jar`\n",
    "\n",
    "import org.apache.spark.sql._\n",
    "import org.apache.spark.sql.functions._\n",
    "import org.apache.hudi.QuickstartUtils._\n",
    "import org.apache.spark.sql.hive.HiveExternalCatalog\n",
    "import scala.collection.JavaConversions._\n",
    "import org.apache.spark.sql.SaveMode._\n",
    "import org.apache.hudi.DataSourceReadOptions._\n",
    "import org.apache.hudi.DataSourceWriteOptions._\n",
    "import org.apache.hudi.common.table.HoodieTableConfig._\n",
    "import org.apache.hudi.config.HoodieWriteConfig._\n",
    "import org.apache.hudi.keygen.constant.KeyGeneratorOptions._\n",
    "import org.apache.hudi.common.model.HoodieRecord\n",
    "import com.payloads.CustomMergeIntoConnector\n",
    "\n",
    "val spark = SparkSession.builder()\n",
    "  .appName(\"HudiLocalSession\")\n",
    "  .master(\"local[*]\")  // Runs on local machine\n",
    "  .config(\"spark.serializer\", \"org.apache.spark.serializer.KryoSerializer\")\n",
    "  .config(\"spark.sql.extensions\", \"org.apache.spark.sql.hudi.HoodieSparkSessionExtension\")\n",
    "  .config(\"spark.sql.catalog.spark_catalog\", \"org.apache.spark.sql.hudi.catalog.HoodieCatalog\")\n",
    "  .config(\"spark.kryo.registrator\", \"org.apache.spark.HoodieSparkKryoRegistrar\")\n",
    "  .config(\"spark.driver.extraJavaOptions\", \"-Dscala.repl.maxprintstring=0\")\n",
    "  .getOrCreate()\n",
    "spark.sparkContext.setLogLevel(\"ERROR\")\n",
    "  \n",
    "// http://localhost:4040/jobs/\n",
    "println(\"Spark with Hudi is ready!\")"
   ]
  },
  {
   "cell_type": "code",
   "execution_count": 3,
   "metadata": {},
   "outputs": [
    {
     "name": "stdout",
     "output_type": "stream",
     "text": [
      "/tmp/hudi/\n",
      "\n",
      "0 directories, 0 files\n",
      "\n"
     ]
    },
    {
     "data": {
      "text/html": [
       "<div class=\"jp-RenderedText\">\n",
       "<pre><code><span style=\"color: rgb(0, 187, 187)\"><span class=\"ansi-cyan-fg\">result</span></span>: <span style=\"color: rgb(0, 187, 0)\"><span class=\"ansi-green-fg\">String</span></span> = <span style=\"color: white\"><span class=\"ansi-white-fg\">[lazy]</span></span></code></pre>\n",
       "</div>"
      ],
      "text/plain": [
       "\u001b[36mresult\u001b[39m: \u001b[32mString\u001b[39m = \u001b[37m[lazy]\u001b[39m"
      ]
     },
     "metadata": {},
     "output_type": "display_data"
    }
   ],
   "source": [
    "lazy val result = \"tree -a /tmp/hudi/\".!!\n",
    "println(result)"
   ]
  },
  {
   "cell_type": "markdown",
   "metadata": {},
   "source": [
    "### Create and Insert Table"
   ]
  },
  {
   "cell_type": "code",
   "execution_count": 4,
   "metadata": {},
   "outputs": [
    {
     "name": "stdout",
     "output_type": "stream",
     "text": [
      "# WARNING: Unable to get Instrumentation. Dynamic Attach failed. You may add this JAR as -javaagent manually, or supply -Djdk.attach.allowAttachSelf\n",
      "# WARNING: Unable to attach Serviceability Agent. Unable to attach even with module exceptions: [org.apache.hudi.org.openjdk.jol.vm.sa.SASupportException: Sense failed., org.apache.hudi.org.openjdk.jol.vm.sa.SASupportException: Sense failed., org.apache.hudi.org.openjdk.jol.vm.sa.SASupportException: Sense failed.]\n"
     ]
    },
    {
     "data": {
      "text/html": [
       "<div class=\"jp-RenderedText\">\n",
       "<pre><code><span style=\"color: rgb(0, 187, 187)\"><span class=\"ansi-cyan-fg\">columns</span></span>: <span style=\"color: rgb(0, 187, 0)\"><span class=\"ansi-green-fg\">Seq</span></span>[<span style=\"color: rgb(0, 187, 0)\"><span class=\"ansi-green-fg\">String</span></span>] = <span style=\"color: yellow\"><span class=\"ansi-yellow-fg\">List</span></span>(<span style=\"color: rgb(0, 187, 0)\"><span class=\"ansi-green-fg\">&quot;ts&quot;</span></span>, <span style=\"color: rgb(0, 187, 0)\"><span class=\"ansi-green-fg\">&quot;uuid&quot;</span></span>, <span style=\"color: rgb(0, 187, 0)\"><span class=\"ansi-green-fg\">&quot;rider&quot;</span></span>, <span style=\"color: rgb(0, 187, 0)\"><span class=\"ansi-green-fg\">&quot;driver&quot;</span></span>, <span style=\"color: rgb(0, 187, 0)\"><span class=\"ansi-green-fg\">&quot;fare&quot;</span></span>, <span style=\"color: rgb(0, 187, 0)\"><span class=\"ansi-green-fg\">&quot;city&quot;</span></span>)\n",
       "<span style=\"color: rgb(0, 187, 187)\"><span class=\"ansi-cyan-fg\">data</span></span>: <span style=\"color: rgb(0, 187, 0)\"><span class=\"ansi-green-fg\">Seq</span></span>[(<span style=\"color: rgb(0, 187, 0)\"><span class=\"ansi-green-fg\">Long</span></span>, <span style=\"color: rgb(0, 187, 0)\"><span class=\"ansi-green-fg\">String</span></span>, <span style=\"color: rgb(0, 187, 0)\"><span class=\"ansi-green-fg\">String</span></span>, <span style=\"color: rgb(0, 187, 0)\"><span class=\"ansi-green-fg\">String</span></span>, <span style=\"color: rgb(0, 187, 0)\"><span class=\"ansi-green-fg\">Double</span></span>, <span style=\"color: rgb(0, 187, 0)\"><span class=\"ansi-green-fg\">String</span></span>)] = <span style=\"color: yellow\"><span class=\"ansi-yellow-fg\">List</span></span>(\n",
       "  (\n",
       "    <span style=\"color: rgb(0, 187, 0)\"><span class=\"ansi-green-fg\">1695159649087L</span></span>,\n",
       "    <span style=\"color: rgb(0, 187, 0)\"><span class=\"ansi-green-fg\">&quot;334e26e9-8355-45cc-97c6-c31daf0df330&quot;</span></span>,\n",
       "    <span style=\"color: rgb(0, 187, 0)\"><span class=\"ansi-green-fg\">&quot;rider-A&quot;</span></span>,\n",
       "    <span style=\"color: rgb(0, 187, 0)\"><span class=\"ansi-green-fg\">&quot;driver-K&quot;</span></span>,\n",
       "    <span style=\"color: rgb(0, 187, 0)\"><span class=\"ansi-green-fg\">19.1</span></span>,\n",
       "    <span style=\"color: rgb(0, 187, 0)\"><span class=\"ansi-green-fg\">&quot;san_francisco&quot;</span></span>\n",
       "  ),\n",
       "  (\n",
       "    <span style=\"color: rgb(0, 187, 0)\"><span class=\"ansi-green-fg\">1695091554788L</span></span>,\n",
       "    <span style=\"color: rgb(0, 187, 0)\"><span class=\"ansi-green-fg\">&quot;e96c4396-3fad-413a-a942-4cb36106d721&quot;</span></span>,\n",
       "    <span style=\"color: rgb(0, 187, 0)\"><span class=\"ansi-green-fg\">&quot;rider-C&quot;</span></span>,\n",
       "    <span style=\"color: rgb(0, 187, 0)\"><span class=\"ansi-green-fg\">&quot;driver-M&quot;</span></span>,\n",
       "    <span style=\"color: rgb(0, 187, 0)\"><span class=\"ansi-green-fg\">27.7</span></span>,\n",
       "    <span style=\"color: rgb(0, 187, 0)\"><span class=\"ansi-green-fg\">&quot;san_francisco&quot;</span></span>\n",
       "  ),\n",
       "  (\n",
       "    <span style=\"color: rgb(0, 187, 0)\"><span class=\"ansi-green-fg\">1695046462179L</span></span>,\n",
       "    <span style=\"color: rgb(0, 187, 0)\"><span class=\"ansi-green-fg\">&quot;9909a8b1-2d15-4d3d-8ec9-efc48c536a00&quot;</span></span>,\n",
       "    <span style=\"color: rgb(0, 187, 0)\"><span class=\"ansi-green-fg\">&quot;rider-D&quot;</span></span>,\n",
       "    <span style=\"color: rgb(0, 187, 0)\"><span class=\"ansi-green-fg\">&quot;driver-L&quot;</span></span>,\n",
       "    <span style=\"color: rgb(0, 187, 0)\"><span class=\"ansi-green-fg\">33.9</span></span>,\n",
       "    <span style=\"color: rgb(0, 187, 0)\"><span class=\"ansi-green-fg\">&quot;san_francisco&quot;</span></span>\n",
       "  ),\n",
       "  (\n",
       "    <span style=\"color: rgb(0, 187, 0)\"><span class=\"ansi-green-fg\">1695516137016L</span></span>,\n",
       "    <span style=\"color: rgb(0, 187, 0)\"><span class=\"ansi-green-fg\">&quot;e3cf430c-889d-4015-bc98-59bdce1e530c&quot;</span></span>,\n",
       "    <span style=\"color: rgb(0, 187, 0)\"><span class=\"ansi-green-fg\">&quot;rider-F&quot;</span></span>,\n",
       "    <span style=\"color: rgb(0, 187, 0)\"><span class=\"ansi-green-fg\">&quot;driver-P&quot;</span></span>,\n",
       "    <span style=\"color: rgb(0, 187, 0)\"><span class=\"ansi-green-fg\">34.15</span></span>,\n",
       "    <span style=\"color: rgb(0, 187, 0)\"><span class=\"ansi-green-fg\">&quot;sao_paulo&quot;</span></span>\n",
       "  ),\n",
       "  (\n",
       "    <span style=\"color: rgb(0, 187, 0)\"><span class=\"ansi-green-fg\">1695115999911L</span></span>,\n",
       "    <span style=\"color: rgb(0, 187, 0)\"><span class=\"ansi-green-fg\">&quot;c8abbe79-8d89-47ea-b4ce-4d224bae5bfa&quot;</span></span>,\n",
       "    <span style=\"color: rgb(0, 187, 0)\"><span class=\"ansi-green-fg\">&quot;rider-J&quot;</span></span>,\n",
       "    <span style=\"color: rgb(0, 187, 0)\"><span class=\"ansi-green-fg\">&quot;driver-T&quot;</span></span>,\n",
       "    <span style=\"color: rgb(0, 187, 0)\"><span class=\"ansi-green-fg\">17.85</span></span>,\n",
       "...\n",
       "<span style=\"color: rgb(0, 187, 187)\"><span class=\"ansi-cyan-fg\">tableName</span></span>: <span style=\"color: rgb(0, 187, 0)\"><span class=\"ansi-green-fg\">String</span></span> = <span style=\"color: rgb(0, 187, 0)\"><span class=\"ansi-green-fg\">&quot;trips_table&quot;</span></span>\n",
       "<span style=\"color: rgb(0, 187, 187)\"><span class=\"ansi-cyan-fg\">basePath</span></span>: <span style=\"color: rgb(0, 187, 0)\"><span class=\"ansi-green-fg\">String</span></span> = <span style=\"color: rgb(0, 187, 0)\"><span class=\"ansi-green-fg\">&quot;file:///tmp/hudi/trips_table&quot;</span></span>\n",
       "<span style=\"color: rgb(0, 187, 187)\"><span class=\"ansi-cyan-fg\">inserts</span></span>: <span style=\"color: rgb(0, 187, 0)\"><span class=\"ansi-green-fg\">DataFrame</span></span> = [ts: bigint, uuid: string ... 4 more fields]</code></pre>\n",
       "</div>"
      ],
      "text/plain": [
       "\u001b[36mcolumns\u001b[39m: \u001b[32mSeq\u001b[39m[\u001b[32mString\u001b[39m] = \u001b[33mList\u001b[39m(\u001b[32m\"ts\"\u001b[39m, \u001b[32m\"uuid\"\u001b[39m, \u001b[32m\"rider\"\u001b[39m, \u001b[32m\"driver\"\u001b[39m, \u001b[32m\"fare\"\u001b[39m, \u001b[32m\"city\"\u001b[39m)\n",
       "\u001b[36mdata\u001b[39m: \u001b[32mSeq\u001b[39m[(\u001b[32mLong\u001b[39m, \u001b[32mString\u001b[39m, \u001b[32mString\u001b[39m, \u001b[32mString\u001b[39m, \u001b[32mDouble\u001b[39m, \u001b[32mString\u001b[39m)] = \u001b[33mList\u001b[39m(\n",
       "  (\n",
       "    \u001b[32m1695159649087L\u001b[39m,\n",
       "    \u001b[32m\"334e26e9-8355-45cc-97c6-c31daf0df330\"\u001b[39m,\n",
       "    \u001b[32m\"rider-A\"\u001b[39m,\n",
       "    \u001b[32m\"driver-K\"\u001b[39m,\n",
       "    \u001b[32m19.1\u001b[39m,\n",
       "    \u001b[32m\"san_francisco\"\u001b[39m\n",
       "  ),\n",
       "  (\n",
       "    \u001b[32m1695091554788L\u001b[39m,\n",
       "    \u001b[32m\"e96c4396-3fad-413a-a942-4cb36106d721\"\u001b[39m,\n",
       "    \u001b[32m\"rider-C\"\u001b[39m,\n",
       "    \u001b[32m\"driver-M\"\u001b[39m,\n",
       "    \u001b[32m27.7\u001b[39m,\n",
       "    \u001b[32m\"san_francisco\"\u001b[39m\n",
       "  ),\n",
       "  (\n",
       "    \u001b[32m1695046462179L\u001b[39m,\n",
       "    \u001b[32m\"9909a8b1-2d15-4d3d-8ec9-efc48c536a00\"\u001b[39m,\n",
       "    \u001b[32m\"rider-D\"\u001b[39m,\n",
       "    \u001b[32m\"driver-L\"\u001b[39m,\n",
       "    \u001b[32m33.9\u001b[39m,\n",
       "    \u001b[32m\"san_francisco\"\u001b[39m\n",
       "  ),\n",
       "  (\n",
       "    \u001b[32m1695516137016L\u001b[39m,\n",
       "    \u001b[32m\"e3cf430c-889d-4015-bc98-59bdce1e530c\"\u001b[39m,\n",
       "    \u001b[32m\"rider-F\"\u001b[39m,\n",
       "    \u001b[32m\"driver-P\"\u001b[39m,\n",
       "    \u001b[32m34.15\u001b[39m,\n",
       "    \u001b[32m\"sao_paulo\"\u001b[39m\n",
       "  ),\n",
       "  (\n",
       "    \u001b[32m1695115999911L\u001b[39m,\n",
       "    \u001b[32m\"c8abbe79-8d89-47ea-b4ce-4d224bae5bfa\"\u001b[39m,\n",
       "    \u001b[32m\"rider-J\"\u001b[39m,\n",
       "    \u001b[32m\"driver-T\"\u001b[39m,\n",
       "    \u001b[32m17.85\u001b[39m,\n",
       "...\n",
       "\u001b[36mtableName\u001b[39m: \u001b[32mString\u001b[39m = \u001b[32m\"trips_table\"\u001b[39m\n",
       "\u001b[36mbasePath\u001b[39m: \u001b[32mString\u001b[39m = \u001b[32m\"file:///tmp/hudi/trips_table\"\u001b[39m\n",
       "\u001b[36minserts\u001b[39m: \u001b[32mDataFrame\u001b[39m = [ts: bigint, uuid: string ... 4 more fields]"
      ]
     },
     "metadata": {},
     "output_type": "display_data"
    }
   ],
   "source": [
    "val columns = Seq(\"ts\",\"uuid\",\"rider\",\"driver\",\"fare\",\"city\")\n",
    "val data =\n",
    "  Seq((1695159649087L,\"334e26e9-8355-45cc-97c6-c31daf0df330\",\"rider-A\",\"driver-K\",19.10,\"san_francisco\"),\n",
    "    (1695091554788L,\"e96c4396-3fad-413a-a942-4cb36106d721\",\"rider-C\",\"driver-M\",27.70 ,\"san_francisco\"),\n",
    "    (1695046462179L,\"9909a8b1-2d15-4d3d-8ec9-efc48c536a00\",\"rider-D\",\"driver-L\",33.90 ,\"san_francisco\"),\n",
    "    (1695516137016L,\"e3cf430c-889d-4015-bc98-59bdce1e530c\",\"rider-F\",\"driver-P\",34.15,\"sao_paulo\"    ),\n",
    "    (1695115999911L,\"c8abbe79-8d89-47ea-b4ce-4d224bae5bfa\",\"rider-J\",\"driver-T\",17.85,\"chennai\"));\n",
    "\n",
    "val tableName = \"trips_table\"\n",
    "val basePath = \"file:///tmp/hudi/trips_table\"\n",
    "var inserts = spark.createDataFrame(data).toDF(columns:_*)\n",
    "inserts.write.format(\"hudi\").\n",
    "  option(\"hoodie.datasource.write.partitionpath.field\", \"city\").\n",
    "  option(\"hoodie.datasource.write.storage.type\", \"COPY_ON_WRITE\").\n",
    "  option(\"hoodie.table.name\", tableName).\n",
    "  mode(Overwrite).\n",
    "  save(basePath)\n",
    "\n"
   ]
  },
  {
   "cell_type": "code",
   "execution_count": 5,
   "metadata": {},
   "outputs": [
    {
     "name": "stdout",
     "output_type": "stream",
     "text": [
      "+-------------------+--------------------+--------------------+----------------------+--------------------+-------------+--------------------+-------+--------+-----+-------------+\n",
      "|_hoodie_commit_time|_hoodie_commit_seqno|  _hoodie_record_key|_hoodie_partition_path|   _hoodie_file_name|           ts|                uuid|  rider|  driver| fare|         city|\n",
      "+-------------------+--------------------+--------------------+----------------------+--------------------+-------------+--------------------+-------+--------+-----+-------------+\n",
      "|  20250304000258041|20250304000258041...|20250304000253845...|         san_francisco|a0bad064-c25b-400...|1695046462179|9909a8b1-2d15-4d3...|rider-D|driver-L|339.0|san_francisco|\n",
      "|  20250304000259217|20250304000259217...|20250304000253845...|         san_francisco|be54bbce-e7a4-404...|1695091554788|e96c4396-3fad-413...|rider-C|driver-M|304.7|san_francisco|\n",
      "|  20250304000259217|20250304000259217...|20250304000253845...|         san_francisco|2e072d96-850c-447...|1695159649087|334e26e9-8355-45c...|rider-A|driver-K|210.1|san_francisco|\n",
      "|  20250304000253845|20250304000253845...|20250304000253845...|             sao_paulo|41f768c1-629b-43d...|1695516137016|e3cf430c-889d-401...|rider-F|driver-P|34.15|    sao_paulo|\n",
      "|  20250304000253845|20250304000253845...|20250304000253845...|               chennai|a00d01ba-e61c-4be...|1695115999911|c8abbe79-8d89-47e...|rider-J|driver-T|17.85|      chennai|\n",
      "+-------------------+--------------------+--------------------+----------------------+--------------------+-------------+--------------------+-------+--------+-----+-------------+\n",
      "\n"
     ]
    },
    {
     "data": {
      "text/plain": [
       "\u001b[32mimport \u001b[39m\u001b[36mspark.implicits._\u001b[39m\n",
       "\u001b[36mupdatesDf\u001b[39m: \u001b[32mDataFrame\u001b[39m = [_hoodie_commit_time: string, _hoodie_commit_seqno: string ... 9 more fields]\n",
       "\u001b[36madjustedFareDF\u001b[39m: \u001b[32mDataFrame\u001b[39m = [_hoodie_commit_time: string, _hoodie_commit_seqno: string ... 9 more fields]"
      ]
     },
     "execution_count": 5,
     "metadata": {},
     "output_type": "execute_result"
    }
   ],
   "source": [
    "// Make some updates.\n",
    "import spark.implicits._\n",
    "val updatesDf = spark.read.format(\"hudi\").load(basePath).filter($\"rider\" === \"rider-D\").withColumn(\"fare\", col(\"fare\") * 10)\n",
    "\n",
    "updatesDf.write.format(\"hudi\").\n",
    "  option(\"hoodie.datasource.write.operation\", \"upsert\").\n",
    "  option(\"hoodie.datasource.write.partitionpath.field\", \"city\").\n",
    "  option(\"hoodie.table.name\", tableName).\n",
    "  mode(Append).\n",
    "  save(basePath)\n",
    "\n",
    "val adjustedFareDF = spark.read.format(\"hudi\").\n",
    "  load(basePath).limit(2).\n",
    "  withColumn(\"fare\", col(\"fare\") * 10)\n",
    "\n",
    "adjustedFareDF.write.format(\"hudi\").\n",
    "  option(\"hoodie.datasource.write.payload.class\",\"com.payloads.CustomMergeIntoConnector\").\n",
    "  mode(Append).\n",
    "  save(basePath)\n",
    "// Notice Fare column has been updated but all other columns remain intact.\n",
    "spark.read.format(\"hudi\").load(basePath).show()"
   ]
  },
  {
   "cell_type": "markdown",
   "metadata": {},
   "source": [
    "### Incremental query"
   ]
  },
  {
   "cell_type": "code",
   "execution_count": 6,
   "metadata": {},
   "outputs": [
    {
     "name": "stdout",
     "output_type": "stream",
     "text": [
      "+--------------------+-----+-------------+-------+--------+-------------+\n",
      "|                uuid| fare|           ts|  rider|  driver|         city|\n",
      "+--------------------+-----+-------------+-------+--------+-------------+\n",
      "|9909a8b1-2d15-4d3...|339.0|1695046462179|rider-D|driver-L|san_francisco|\n",
      "|e96c4396-3fad-413...|304.7|1695091554788|rider-C|driver-M|san_francisco|\n",
      "|334e26e9-8355-45c...|210.1|1695159649087|rider-A|driver-K|san_francisco|\n",
      "|e3cf430c-889d-401...|34.15|1695516137016|rider-F|driver-P|    sao_paulo|\n",
      "+--------------------+-----+-------------+-------+--------+-------------+\n",
      "\n",
      "+-------------------+--------------------+----------------------+-------+--------+-----+\n",
      "|_hoodie_commit_time|  _hoodie_record_key|_hoodie_partition_path|  rider|  driver| fare|\n",
      "+-------------------+--------------------+----------------------+-------+--------+-----+\n",
      "|  20250304000258041|20250304000253845...|         san_francisco|rider-D|driver-L|339.0|\n",
      "|  20250304000259217|20250304000253845...|         san_francisco|rider-C|driver-M|304.7|\n",
      "|  20250304000259217|20250304000253845...|         san_francisco|rider-A|driver-K|210.1|\n",
      "|  20250304000253845|20250304000253845...|             sao_paulo|rider-F|driver-P|34.15|\n",
      "|  20250304000253845|20250304000253845...|               chennai|rider-J|driver-T|17.85|\n",
      "+-------------------+--------------------+----------------------+-------+--------+-----+\n",
      "\n"
     ]
    },
    {
     "data": {
      "text/plain": [
       "\u001b[36mtripsDF\u001b[39m: \u001b[32mDataFrame\u001b[39m = [_hoodie_commit_time: string, _hoodie_commit_seqno: string ... 9 more fields]"
      ]
     },
     "execution_count": 6,
     "metadata": {},
     "output_type": "execute_result"
    }
   ],
   "source": [
    "val tripsDF = spark.read.format(\"hudi\").load(basePath)\n",
    "tripsDF.createOrReplaceTempView(\"trips_table\")\n",
    "\n",
    "spark.sql(\"SELECT uuid, fare, ts, rider, driver, city FROM  trips_table WHERE fare > 20.0\").show()\n",
    "spark.sql(\"SELECT _hoodie_commit_time, _hoodie_record_key, _hoodie_partition_path, rider, driver, fare FROM  trips_table\").show()"
   ]
  },
  {
   "cell_type": "code",
   "execution_count": 7,
   "metadata": {},
   "outputs": [
    {
     "name": "stdout",
     "output_type": "stream",
     "text": [
      "+-------------------+-----+-------+--------+--------------------+-------------+\n",
      "|_hoodie_commit_time| fare|  rider|  driver|                uuid|           ts|\n",
      "+-------------------+-----+-------+--------+--------------------+-------------+\n",
      "|  20250304000258041|339.0|rider-D|driver-L|9909a8b1-2d15-4d3...|1695046462179|\n",
      "|  20250304000259217|304.7|rider-C|driver-M|e96c4396-3fad-413...|1695091554788|\n",
      "|  20250304000259217|210.1|rider-A|driver-K|334e26e9-8355-45c...|1695159649087|\n",
      "|  20250304000253845|34.15|rider-F|driver-P|e3cf430c-889d-401...|1695516137016|\n",
      "+-------------------+-----+-------+--------+--------------------+-------------+\n",
      "\n"
     ]
    },
    {
     "data": {
      "text/plain": [
       "\u001b[32mimport \u001b[39m\u001b[36mspark.implicits._\u001b[39m\n",
       "\u001b[36mcommits\u001b[39m: \u001b[32mArray\u001b[39m[\u001b[32mString\u001b[39m] = \u001b[33mArray\u001b[39m(\n",
       "  \u001b[32m\"20250304000253845\"\u001b[39m,\n",
       "  \u001b[32m\"20250304000258041\"\u001b[39m,\n",
       "  \u001b[32m\"20250304000259217\"\u001b[39m\n",
       ")\n",
       "\u001b[36mbeginTime\u001b[39m: \u001b[32mString\u001b[39m = \u001b[32m\"20250304000258041\"\u001b[39m\n",
       "\u001b[36mendTime\u001b[39m: \u001b[32mString\u001b[39m = \u001b[32m\"20250304000259217\"\u001b[39m\n",
       "\u001b[36mtripsIncrementalDF\u001b[39m: \u001b[32mDataFrame\u001b[39m = [_hoodie_commit_time: string, _hoodie_commit_seqno: string ... 9 more fields]"
      ]
     },
     "execution_count": 7,
     "metadata": {},
     "output_type": "execute_result"
    }
   ],
   "source": [
    "// spark-shell\n",
    "spark.read.format(\"hudi\").load(basePath).createOrReplaceTempView(\"trips_table\")\n",
    "import spark.implicits._\n",
    "\n",
    "val commits = spark.sql(\"SELECT DISTINCT(_hoodie_commit_time) AS commitTime FROM trips_table ORDER BY commitTime\").map(k => k.getString(0)).take(50)\n",
    "val beginTime = commits(commits.length - 2) // commit time we are interested in\n",
    "val endTime = commits(commits.length - 1) // commit time we are interested in\n",
    "\n",
    "// incrementally query data\n",
    "val tripsIncrementalDF = spark.read.format(\"hudi\").\n",
    "  option(\"hoodie.datasource.query.type\", \"incremental\").\n",
    "  option(\"hoodie.datasource.read.begin.instanttime\", 0).\n",
    "  load(basePath)\n",
    "tripsIncrementalDF.createOrReplaceTempView(\"trips_incremental\")\n",
    "\n",
    "spark.sql(\"SELECT `_hoodie_commit_time`, fare, rider, driver, uuid, ts FROM  trips_incremental WHERE fare > 20.0\").show()"
   ]
  },
  {
   "cell_type": "code",
   "execution_count": 8,
   "metadata": {},
   "outputs": [
    {
     "name": "stdout",
     "output_type": "stream",
     "text": [
      "+-------------------+-----+-------+--------+--------------------+-------------+\n",
      "|_hoodie_commit_time| fare|  rider|  driver|                uuid|           ts|\n",
      "+-------------------+-----+-------+--------+--------------------+-------------+\n",
      "|  20250304000258041|339.0|rider-D|driver-L|9909a8b1-2d15-4d3...|1695046462179|\n",
      "+-------------------+-----+-------+--------+--------------------+-------------+\n",
      "\n"
     ]
    },
    {
     "data": {
      "text/plain": [
       "\u001b[36mtripsIncrementalDF\u001b[39m: \u001b[32mDataFrame\u001b[39m = [_hoodie_commit_time: string, _hoodie_commit_seqno: string ... 9 more fields]"
      ]
     },
     "execution_count": 8,
     "metadata": {},
     "output_type": "execute_result"
    }
   ],
   "source": [
    "// Changes in between\n",
    "\n",
    "val tripsIncrementalDF = spark.read.format(\"hudi\").\n",
    "  option(\"hoodie.datasource.query.type\", \"incremental\").\n",
    "  option(\"hoodie.datasource.read.begin.instanttime\", beginTime).\n",
    "  option(\"hoodie.datasource.read.end.instanttime\", endTime).\n",
    "  load(basePath)\n",
    "tripsIncrementalDF.createOrReplaceTempView(\"trips_incremental\")\n",
    "\n",
    "spark.sql(\"SELECT `_hoodie_commit_time`, fare, rider, driver, uuid, ts FROM  trips_incremental WHERE fare > 20.0\").show()"
   ]
  },
  {
   "cell_type": "markdown",
   "metadata": {},
   "source": [
    "### Change Data Capture Query"
   ]
  },
  {
   "cell_type": "code",
   "execution_count": 9,
   "metadata": {},
   "outputs": [
    {
     "data": {
      "text/html": [
       "<div class=\"jp-RenderedText\">\n",
       "<pre><code><span style=\"color: rgb(0, 187, 187)\"><span class=\"ansi-cyan-fg\">columns</span></span>: <span style=\"color: rgb(0, 187, 0)\"><span class=\"ansi-green-fg\">Seq</span></span>[<span style=\"color: rgb(0, 187, 0)\"><span class=\"ansi-green-fg\">String</span></span>] = <span style=\"color: yellow\"><span class=\"ansi-yellow-fg\">List</span></span>(<span style=\"color: rgb(0, 187, 0)\"><span class=\"ansi-green-fg\">&quot;ts&quot;</span></span>, <span style=\"color: rgb(0, 187, 0)\"><span class=\"ansi-green-fg\">&quot;uuid&quot;</span></span>, <span style=\"color: rgb(0, 187, 0)\"><span class=\"ansi-green-fg\">&quot;rider&quot;</span></span>, <span style=\"color: rgb(0, 187, 0)\"><span class=\"ansi-green-fg\">&quot;driver&quot;</span></span>, <span style=\"color: rgb(0, 187, 0)\"><span class=\"ansi-green-fg\">&quot;fare&quot;</span></span>, <span style=\"color: rgb(0, 187, 0)\"><span class=\"ansi-green-fg\">&quot;city&quot;</span></span>)\n",
       "<span style=\"color: rgb(0, 187, 187)\"><span class=\"ansi-cyan-fg\">data</span></span>: <span style=\"color: rgb(0, 187, 0)\"><span class=\"ansi-green-fg\">Seq</span></span>[(<span style=\"color: rgb(0, 187, 0)\"><span class=\"ansi-green-fg\">Long</span></span>, <span style=\"color: rgb(0, 187, 0)\"><span class=\"ansi-green-fg\">String</span></span>, <span style=\"color: rgb(0, 187, 0)\"><span class=\"ansi-green-fg\">String</span></span>, <span style=\"color: rgb(0, 187, 0)\"><span class=\"ansi-green-fg\">String</span></span>, <span style=\"color: rgb(0, 187, 0)\"><span class=\"ansi-green-fg\">Double</span></span>, <span style=\"color: rgb(0, 187, 0)\"><span class=\"ansi-green-fg\">String</span></span>)] = <span style=\"color: yellow\"><span class=\"ansi-yellow-fg\">List</span></span>(\n",
       "  (\n",
       "    <span style=\"color: rgb(0, 187, 0)\"><span class=\"ansi-green-fg\">1695158649187L</span></span>,\n",
       "    <span style=\"color: rgb(0, 187, 0)\"><span class=\"ansi-green-fg\">&quot;334e26e9-8355-45cc-97c6-c31daf0df330&quot;</span></span>,\n",
       "    <span style=\"color: rgb(0, 187, 0)\"><span class=\"ansi-green-fg\">&quot;rider-A&quot;</span></span>,\n",
       "    <span style=\"color: rgb(0, 187, 0)\"><span class=\"ansi-green-fg\">&quot;driver-K&quot;</span></span>,\n",
       "    <span style=\"color: rgb(0, 187, 0)\"><span class=\"ansi-green-fg\">19.1</span></span>,\n",
       "    <span style=\"color: rgb(0, 187, 0)\"><span class=\"ansi-green-fg\">&quot;san_francisco&quot;</span></span>\n",
       "  ),\n",
       "  (\n",
       "    <span style=\"color: rgb(0, 187, 0)\"><span class=\"ansi-green-fg\">1695091544288L</span></span>,\n",
       "    <span style=\"color: rgb(0, 187, 0)\"><span class=\"ansi-green-fg\">&quot;e96c4396-3fad-413a-a942-4cb36106d721&quot;</span></span>,\n",
       "    <span style=\"color: rgb(0, 187, 0)\"><span class=\"ansi-green-fg\">&quot;rider-B&quot;</span></span>,\n",
       "    <span style=\"color: rgb(0, 187, 0)\"><span class=\"ansi-green-fg\">&quot;driver-L&quot;</span></span>,\n",
       "    <span style=\"color: rgb(0, 187, 0)\"><span class=\"ansi-green-fg\">27.7</span></span>,\n",
       "    <span style=\"color: rgb(0, 187, 0)\"><span class=\"ansi-green-fg\">&quot;san_paulo&quot;</span></span>\n",
       "  ),\n",
       "  (\n",
       "    <span style=\"color: rgb(0, 187, 0)\"><span class=\"ansi-green-fg\">1695046452379L</span></span>,\n",
       "    <span style=\"color: rgb(0, 187, 0)\"><span class=\"ansi-green-fg\">&quot;9909a8b1-2d15-4d3d-8ec9-efc48c536a00&quot;</span></span>,\n",
       "    <span style=\"color: rgb(0, 187, 0)\"><span class=\"ansi-green-fg\">&quot;rider-C&quot;</span></span>,\n",
       "    <span style=\"color: rgb(0, 187, 0)\"><span class=\"ansi-green-fg\">&quot;driver-M&quot;</span></span>,\n",
       "    <span style=\"color: rgb(0, 187, 0)\"><span class=\"ansi-green-fg\">33.9</span></span>,\n",
       "    <span style=\"color: rgb(0, 187, 0)\"><span class=\"ansi-green-fg\">&quot;san_francisco&quot;</span></span>\n",
       "  ),\n",
       "  (\n",
       "    <span style=\"color: rgb(0, 187, 0)\"><span class=\"ansi-green-fg\">1695332056404L</span></span>,\n",
       "    <span style=\"color: rgb(0, 187, 0)\"><span class=\"ansi-green-fg\">&quot;1dced545-862b-4ceb-8b43-d2a568f6616b&quot;</span></span>,\n",
       "    <span style=\"color: rgb(0, 187, 0)\"><span class=\"ansi-green-fg\">&quot;rider-D&quot;</span></span>,\n",
       "    <span style=\"color: rgb(0, 187, 0)\"><span class=\"ansi-green-fg\">&quot;driver-N&quot;</span></span>,\n",
       "    <span style=\"color: rgb(0, 187, 0)\"><span class=\"ansi-green-fg\">93.5</span></span>,\n",
       "    <span style=\"color: rgb(0, 187, 0)\"><span class=\"ansi-green-fg\">&quot;chennai&quot;</span></span>\n",
       "  )\n",
       ")\n",
       "<span style=\"color: rgb(0, 187, 187)\"><span class=\"ansi-cyan-fg\">df</span></span>: <span style=\"color: rgb(0, 187, 0)\"><span class=\"ansi-green-fg\">DataFrame</span></span> = [ts: bigint, uuid: string ... 4 more fields]\n",
       "<span style=\"color: rgb(0, 187, 187)\"><span class=\"ansi-cyan-fg\">tableName</span></span>: <span style=\"color: rgb(0, 187, 0)\"><span class=\"ansi-green-fg\">String</span></span> = <span style=\"color: rgb(0, 187, 0)\"><span class=\"ansi-green-fg\">&quot;trips_table_cdc&quot;</span></span>\n",
       "<span style=\"color: rgb(0, 187, 187)\"><span class=\"ansi-cyan-fg\">basePath</span></span>: <span style=\"color: rgb(0, 187, 0)\"><span class=\"ansi-green-fg\">String</span></span> = <span style=\"color: rgb(0, 187, 0)\"><span class=\"ansi-green-fg\">&quot;file:///tmp/hudi/trips_table_cdc&quot;</span></span></code></pre>\n",
       "</div>"
      ],
      "text/plain": [
       "\u001b[36mcolumns\u001b[39m: \u001b[32mSeq\u001b[39m[\u001b[32mString\u001b[39m] = \u001b[33mList\u001b[39m(\u001b[32m\"ts\"\u001b[39m, \u001b[32m\"uuid\"\u001b[39m, \u001b[32m\"rider\"\u001b[39m, \u001b[32m\"driver\"\u001b[39m, \u001b[32m\"fare\"\u001b[39m, \u001b[32m\"city\"\u001b[39m)\n",
       "\u001b[36mdata\u001b[39m: \u001b[32mSeq\u001b[39m[(\u001b[32mLong\u001b[39m, \u001b[32mString\u001b[39m, \u001b[32mString\u001b[39m, \u001b[32mString\u001b[39m, \u001b[32mDouble\u001b[39m, \u001b[32mString\u001b[39m)] = \u001b[33mList\u001b[39m(\n",
       "  (\n",
       "    \u001b[32m1695158649187L\u001b[39m,\n",
       "    \u001b[32m\"334e26e9-8355-45cc-97c6-c31daf0df330\"\u001b[39m,\n",
       "    \u001b[32m\"rider-A\"\u001b[39m,\n",
       "    \u001b[32m\"driver-K\"\u001b[39m,\n",
       "    \u001b[32m19.1\u001b[39m,\n",
       "    \u001b[32m\"san_francisco\"\u001b[39m\n",
       "  ),\n",
       "  (\n",
       "    \u001b[32m1695091544288L\u001b[39m,\n",
       "    \u001b[32m\"e96c4396-3fad-413a-a942-4cb36106d721\"\u001b[39m,\n",
       "    \u001b[32m\"rider-B\"\u001b[39m,\n",
       "    \u001b[32m\"driver-L\"\u001b[39m,\n",
       "    \u001b[32m27.7\u001b[39m,\n",
       "    \u001b[32m\"san_paulo\"\u001b[39m\n",
       "  ),\n",
       "  (\n",
       "    \u001b[32m1695046452379L\u001b[39m,\n",
       "    \u001b[32m\"9909a8b1-2d15-4d3d-8ec9-efc48c536a00\"\u001b[39m,\n",
       "    \u001b[32m\"rider-C\"\u001b[39m,\n",
       "    \u001b[32m\"driver-M\"\u001b[39m,\n",
       "    \u001b[32m33.9\u001b[39m,\n",
       "    \u001b[32m\"san_francisco\"\u001b[39m\n",
       "  ),\n",
       "  (\n",
       "    \u001b[32m1695332056404L\u001b[39m,\n",
       "    \u001b[32m\"1dced545-862b-4ceb-8b43-d2a568f6616b\"\u001b[39m,\n",
       "    \u001b[32m\"rider-D\"\u001b[39m,\n",
       "    \u001b[32m\"driver-N\"\u001b[39m,\n",
       "    \u001b[32m93.5\u001b[39m,\n",
       "    \u001b[32m\"chennai\"\u001b[39m\n",
       "  )\n",
       ")\n",
       "\u001b[36mdf\u001b[39m: \u001b[32mDataFrame\u001b[39m = [ts: bigint, uuid: string ... 4 more fields]\n",
       "\u001b[36mtableName\u001b[39m: \u001b[32mString\u001b[39m = \u001b[32m\"trips_table_cdc\"\u001b[39m\n",
       "\u001b[36mbasePath\u001b[39m: \u001b[32mString\u001b[39m = \u001b[32m\"file:///tmp/hudi/trips_table_cdc\"\u001b[39m"
      ]
     },
     "metadata": {},
     "output_type": "display_data"
    }
   ],
   "source": [
    "// Lets first insert data to a new table with cdc enabled.\n",
    "val columns = Seq(\"ts\",\"uuid\",\"rider\",\"driver\",\"fare\",\"city\")\n",
    "val data =\n",
    "  Seq((1695158649187L,\"334e26e9-8355-45cc-97c6-c31daf0df330\",\"rider-A\",\"driver-K\",19.10,\"san_francisco\"),\n",
    "    (1695091544288L,\"e96c4396-3fad-413a-a942-4cb36106d721\",\"rider-B\",\"driver-L\",27.70 ,\"san_paulo\"),\n",
    "    (1695046452379L,\"9909a8b1-2d15-4d3d-8ec9-efc48c536a00\",\"rider-C\",\"driver-M\",33.90 ,\"san_francisco\"),\n",
    "    (1695332056404L,\"1dced545-862b-4ceb-8b43-d2a568f6616b\",\"rider-D\",\"driver-N\",93.50,\"chennai\"));\n",
    "var df = spark.createDataFrame(data).toDF(columns:_*)\n",
    "\n",
    "val tableName = \"trips_table_cdc\"\n",
    "val basePath = \"file:///tmp/hudi/trips_table_cdc\"\n",
    "// Insert data\n",
    "df.write.format(\"hudi\").\n",
    "  option(\"hoodie.datasource.write.partitionpath.field\", \"city\").\n",
    "  option(\"hoodie.table.cdc.enabled\", \"true\").\n",
    "  option(\"hoodie.table.name\", tableName).\n",
    "  mode(Overwrite).\n",
    "  save(basePath)"
   ]
  },
  {
   "cell_type": "code",
   "execution_count": 10,
   "metadata": {},
   "outputs": [
    {
     "name": "stdout",
     "output_type": "stream",
     "text": [
      "/tmp/hudi/trips_table_cdc\n",
      "├── .hoodie\n",
      "│   ├── .aux\n",
      "│   │   └── .bootstrap\n",
      "│   │       ├── .fileids\n",
      "│   │       └── .partitions\n",
      "│   ├── .hoodie.properties.crc\n",
      "│   ├── .schema\n",
      "│   ├── .temp\n",
      "│   ├── hoodie.properties\n",
      "│   ├── metadata\n",
      "│   │   ├── .hoodie\n",
      "│   │   │   ├── .aux\n",
      "│   │   │   │   └── .bootstrap\n",
      "│   │   │   │       ├── .fileids\n",
      "│   │   │   │       └── .partitions\n",
      "│   │   │   ├── .hoodie.properties.crc\n",
      "│   │   │   ├── .schema\n",
      "│   │   │   ├── .temp\n",
      "│   │   │   ├── hoodie.properties\n",
      "│   │   │   └── timeline\n",
      "│   │   │       ├── .00000000000000000.deltacommit.inflight.crc\n",
      "│   │   │       ├── .00000000000000000.deltacommit.requested.crc\n",
      "│   │   │       ├── .00000000000000000_20250304000302682.deltacommit.crc\n",
      "│   │   │       ├── .20250304000302487.deltacommit.inflight.crc\n",
      "│   │   │       ├── .20250304000302487.deltacommit.requested.crc\n",
      "│   │   │       ├── .20250304000302487_20250304000303636.deltacommit.crc\n",
      "│   │   │       ├── 00000000000000000.deltacommit.inflight\n",
      "│   │   │       ├── 00000000000000000.deltacommit.requested\n",
      "│   │   │       ├── 00000000000000000_20250304000302682.deltacommit\n",
      "│   │   │       ├── 20250304000302487.deltacommit.inflight\n",
      "│   │   │       ├── 20250304000302487.deltacommit.requested\n",
      "│   │   │       ├── 20250304000302487_20250304000303636.deltacommit\n",
      "│   │   │       └── history\n",
      "│   │   └── files\n",
      "│   │       ├── ..files-0000-0_00000000000000000.log.1_0-0-0.crc\n",
      "│   │       ├── ..files-0000-0_20250304000302487.log.1_0-73-106.crc\n",
      "│   │       ├── ..hoodie_partition_metadata.crc\n",
      "│   │       ├── .files-0000-0_0-66-96_00000000000000000.hfile.crc\n",
      "│   │       ├── .files-0000-0_00000000000000000.log.1_0-0-0\n",
      "│   │       ├── .files-0000-0_20250304000302487.log.1_0-73-106\n",
      "│   │       ├── .hoodie_partition_metadata\n",
      "│   │       └── files-0000-0_0-66-96_00000000000000000.hfile\n",
      "│   └── timeline\n",
      "│       ├── .20250304000302487.commit.requested.crc\n",
      "│       ├── .20250304000302487.inflight.crc\n",
      "│       ├── .20250304000302487_20250304000303661.commit.crc\n",
      "│       ├── 20250304000302487.commit.requested\n",
      "│       ├── 20250304000302487.inflight\n",
      "│       ├── 20250304000302487_20250304000303661.commit\n",
      "│       └── history\n",
      "├── chennai\n",
      "│   ├── ..hoodie_partition_metadata.crc\n",
      "│   ├── .281006d0-0a62-4433-926c-d7ead7a9fe17-0_3-102-0_20250304000302487.parquet.crc\n",
      "│   ├── .hoodie_partition_metadata\n",
      "│   └── 281006d0-0a62-4433-926c-d7ead7a9fe17-0_3-102-0_20250304000302487.parquet\n",
      "├── san_francisco\n",
      "│   ├── ..hoodie_partition_metadata.crc\n",
      "│   ├── .bbf1484b-cbea-4a61-ac9c-b8ae81e213e9-0_0-99-0_20250304000302487.parquet.crc\n",
      "│   ├── .d0caaea2-4bad-4b47-ae54-189cc1e7fb84-0_2-101-0_20250304000302487.parquet.crc\n",
      "│   ├── .hoodie_partition_metadata\n",
      "│   ├── bbf1484b-cbea-4a61-ac9c-b8ae81e213e9-0_0-99-0_20250304000302487.parquet\n",
      "│   └── d0caaea2-4bad-4b47-ae54-189cc1e7fb84-0_2-101-0_20250304000302487.parquet\n",
      "└── san_paulo\n",
      "    ├── ..hoodie_partition_metadata.crc\n",
      "    ├── .d0118f30-0125-4734-8ed0-a59da7523f8f-0_1-100-0_20250304000302487.parquet.crc\n",
      "    ├── .hoodie_partition_metadata\n",
      "    └── d0118f30-0125-4734-8ed0-a59da7523f8f-0_1-100-0_20250304000302487.parquet\n",
      "\n",
      "23 directories, 44 files\n",
      "\n"
     ]
    },
    {
     "data": {
      "text/html": [
       "<div class=\"jp-RenderedText\">\n",
       "<pre><code><span style=\"color: rgb(0, 187, 187)\"><span class=\"ansi-cyan-fg\">result</span></span>: <span style=\"color: rgb(0, 187, 0)\"><span class=\"ansi-green-fg\">String</span></span> = <span style=\"color: white\"><span class=\"ansi-white-fg\">[lazy]</span></span></code></pre>\n",
       "</div>"
      ],
      "text/plain": [
       "\u001b[36mresult\u001b[39m: \u001b[32mString\u001b[39m = \u001b[37m[lazy]\u001b[39m"
      ]
     },
     "metadata": {},
     "output_type": "display_data"
    }
   ],
   "source": [
    "lazy val result = \"tree -a /tmp/hudi/trips_table_cdc\".!!\n",
    "println(result)"
   ]
  },
  {
   "cell_type": "code",
   "execution_count": 11,
   "metadata": {},
   "outputs": [
    {
     "data": {
      "text/plain": [
       "\u001b[32mimport \u001b[39m\u001b[36mspark.implicits._\u001b[39m\n",
       "\u001b[36mupdatesDf\u001b[39m: \u001b[32mDataFrame\u001b[39m = [_hoodie_commit_time: string, _hoodie_commit_seqno: string ... 9 more fields]"
      ]
     },
     "execution_count": 11,
     "metadata": {},
     "output_type": "execute_result"
    }
   ],
   "source": [
    "// Update fare for riders: rider-A and rider-B \n",
    "import spark.implicits._\n",
    "val updatesDf = spark.read.format(\"hudi\").load(basePath).filter($\"rider\" === \"rider-A\" || $\"rider\" === \"rider-B\").withColumn(\"fare\", col(\"fare\") * 10)\n",
    "\n",
    "updatesDf.write.format(\"hudi\").\n",
    "  option(\"hoodie.datasource.write.operation\", \"upsert\").\n",
    "  option(\"hoodie.datasource.write.partitionpath.field\", \"city\").\n",
    "  option(\"hoodie.table.cdc.enabled\", \"true\").\n",
    "  option(\"hoodie.table.name\", tableName).\n",
    "  mode(Append).\n",
    "  save(basePath)"
   ]
  },
  {
   "cell_type": "code",
   "execution_count": 12,
   "metadata": {},
   "outputs": [
    {
     "name": "stdout",
     "output_type": "stream",
     "text": [
      "/tmp/hudi/trips_table_cdc\n",
      "├── .hoodie\n",
      "│   ├── .aux\n",
      "│   │   └── .bootstrap\n",
      "│   │       ├── .fileids\n",
      "│   │       └── .partitions\n",
      "│   ├── .hoodie.properties.crc\n",
      "│   ├── .schema\n",
      "│   ├── .temp\n",
      "│   ├── hoodie.properties\n",
      "│   ├── metadata\n",
      "│   │   ├── .hoodie\n",
      "│   │   │   ├── .aux\n",
      "│   │   │   │   └── .bootstrap\n",
      "│   │   │   │       ├── .fileids\n",
      "│   │   │   │       └── .partitions\n",
      "│   │   │   ├── .hoodie.properties.crc\n",
      "│   │   │   ├── .schema\n",
      "│   │   │   ├── .temp\n",
      "│   │   │   ├── hoodie.properties\n",
      "│   │   │   └── timeline\n",
      "│   │   │       ├── .00000000000000000.deltacommit.inflight.crc\n",
      "│   │   │       ├── .00000000000000000.deltacommit.requested.crc\n",
      "│   │   │       ├── .00000000000000000_20250304000302682.deltacommit.crc\n",
      "│   │   │       ├── .20250304000302487.deltacommit.inflight.crc\n",
      "│   │   │       ├── .20250304000302487.deltacommit.requested.crc\n",
      "│   │   │       ├── .20250304000302487_20250304000303636.deltacommit.crc\n",
      "│   │   │       ├── .20250304000304162.deltacommit.inflight.crc\n",
      "│   │   │       ├── .20250304000304162.deltacommit.requested.crc\n",
      "│   │   │       ├── .20250304000304162_20250304000304850.deltacommit.crc\n",
      "│   │   │       ├── 00000000000000000.deltacommit.inflight\n",
      "│   │   │       ├── 00000000000000000.deltacommit.requested\n",
      "│   │   │       ├── 00000000000000000_20250304000302682.deltacommit\n",
      "│   │   │       ├── 20250304000302487.deltacommit.inflight\n",
      "│   │   │       ├── 20250304000302487.deltacommit.requested\n",
      "│   │   │       ├── 20250304000302487_20250304000303636.deltacommit\n",
      "│   │   │       ├── 20250304000304162.deltacommit.inflight\n",
      "│   │   │       ├── 20250304000304162.deltacommit.requested\n",
      "│   │   │       ├── 20250304000304162_20250304000304850.deltacommit\n",
      "│   │   │       └── history\n",
      "│   │   └── files\n",
      "│   │       ├── ..files-0000-0_00000000000000000.log.1_0-0-0.crc\n",
      "│   │       ├── ..files-0000-0_20250304000302487.log.1_0-73-106.crc\n",
      "│   │       ├── ..files-0000-0_20250304000304162.log.1_0-86-130.crc\n",
      "│   │       ├── ..hoodie_partition_metadata.crc\n",
      "│   │       ├── .files-0000-0_0-66-96_00000000000000000.hfile.crc\n",
      "│   │       ├── .files-0000-0_00000000000000000.log.1_0-0-0\n",
      "│   │       ├── .files-0000-0_20250304000302487.log.1_0-73-106\n",
      "│   │       ├── .files-0000-0_20250304000304162.log.1_0-86-130\n",
      "│   │       ├── .hoodie_partition_metadata\n",
      "│   │       └── files-0000-0_0-66-96_00000000000000000.hfile\n",
      "│   └── timeline\n",
      "│       ├── .20250304000302487.commit.requested.crc\n",
      "│       ├── .20250304000302487.inflight.crc\n",
      "│       ├── .20250304000302487_20250304000303661.commit.crc\n",
      "│       ├── .20250304000304162.commit.requested.crc\n",
      "│       ├── .20250304000304162.inflight.crc\n",
      "│       ├── .20250304000304162_20250304000304872.commit.crc\n",
      "│       ├── 20250304000302487.commit.requested\n",
      "│       ├── 20250304000302487.inflight\n",
      "│       ├── 20250304000302487_20250304000303661.commit\n",
      "│       ├── 20250304000304162.commit.requested\n",
      "│       ├── 20250304000304162.inflight\n",
      "│       ├── 20250304000304162_20250304000304872.commit\n",
      "│       └── history\n",
      "├── chennai\n",
      "│   ├── ..hoodie_partition_metadata.crc\n",
      "│   ├── .281006d0-0a62-4433-926c-d7ead7a9fe17-0_3-102-0_20250304000302487.parquet.crc\n",
      "│   ├── .hoodie_partition_metadata\n",
      "│   └── 281006d0-0a62-4433-926c-d7ead7a9fe17-0_3-102-0_20250304000302487.parquet\n",
      "├── san_francisco\n",
      "│   ├── ..bbf1484b-cbea-4a61-ac9c-b8ae81e213e9-0_20250304000304162.log.1_0-80-123.cdc.crc\n",
      "│   ├── ..hoodie_partition_metadata.crc\n",
      "│   ├── .bbf1484b-cbea-4a61-ac9c-b8ae81e213e9-0_0-80-123_20250304000304162.parquet.crc\n",
      "│   ├── .bbf1484b-cbea-4a61-ac9c-b8ae81e213e9-0_0-99-0_20250304000302487.parquet.crc\n",
      "│   ├── .bbf1484b-cbea-4a61-ac9c-b8ae81e213e9-0_20250304000304162.log.1_0-80-123.cdc\n",
      "│   ├── .d0caaea2-4bad-4b47-ae54-189cc1e7fb84-0_2-101-0_20250304000302487.parquet.crc\n",
      "│   ├── .hoodie_partition_metadata\n",
      "│   ├── bbf1484b-cbea-4a61-ac9c-b8ae81e213e9-0_0-80-123_20250304000304162.parquet\n",
      "│   ├── bbf1484b-cbea-4a61-ac9c-b8ae81e213e9-0_0-99-0_20250304000302487.parquet\n",
      "│   └── d0caaea2-4bad-4b47-ae54-189cc1e7fb84-0_2-101-0_20250304000302487.parquet\n",
      "└── san_paulo\n",
      "    ├── ..d0118f30-0125-4734-8ed0-a59da7523f8f-0_20250304000304162.log.1_1-80-124.cdc.crc\n",
      "    ├── ..hoodie_partition_metadata.crc\n",
      "    ├── .d0118f30-0125-4734-8ed0-a59da7523f8f-0_1-100-0_20250304000302487.parquet.crc\n",
      "    ├── .d0118f30-0125-4734-8ed0-a59da7523f8f-0_1-80-124_20250304000304162.parquet.crc\n",
      "    ├── .d0118f30-0125-4734-8ed0-a59da7523f8f-0_20250304000304162.log.1_1-80-124.cdc\n",
      "    ├── .hoodie_partition_metadata\n",
      "    ├── d0118f30-0125-4734-8ed0-a59da7523f8f-0_1-100-0_20250304000302487.parquet\n",
      "    └── d0118f30-0125-4734-8ed0-a59da7523f8f-0_1-80-124_20250304000304162.parquet\n",
      "\n",
      "23 directories, 66 files\n",
      "\n"
     ]
    },
    {
     "data": {
      "text/html": [
       "<div class=\"jp-RenderedText\">\n",
       "<pre><code><span style=\"color: rgb(0, 187, 187)\"><span class=\"ansi-cyan-fg\">result</span></span>: <span style=\"color: rgb(0, 187, 0)\"><span class=\"ansi-green-fg\">String</span></span> = <span style=\"color: white\"><span class=\"ansi-white-fg\">[lazy]</span></span></code></pre>\n",
       "</div>"
      ],
      "text/plain": [
       "\u001b[36mresult\u001b[39m: \u001b[32mString\u001b[39m = \u001b[37m[lazy]\u001b[39m"
      ]
     },
     "metadata": {},
     "output_type": "display_data"
    }
   ],
   "source": [
    "lazy val result = \"tree -a /tmp/hudi/trips_table_cdc\".!!\n",
    "println(result)"
   ]
  },
  {
   "cell_type": "markdown",
   "metadata": {},
   "source": [
    "* If you are familiar with Debezium or Golden Gate CDC data format, then this is kinda similar.\n",
    "* The json is the following.\n",
    "* The data is encoded in binary.\n",
    "* Fortunately, we can see rider-A, driver-K being modified.\n",
    "```json\n",
    "{\n",
    "    \"type\": \"record\",\n",
    "    \"name\": \"CDC\",\n",
    "    \"namespace\": \"hoodie.trips_table_cdc\",\n",
    "    \"fields\": [\n",
    "        {\n",
    "            \"name\": \"op\",\n",
    "            \"type\": [\n",
    "                \"null\",\n",
    "                \"string\"\n",
    "            ],\n",
    "            \"doc\": \"\",\n",
    "            \"default\": null\n",
    "        },\n",
    "        {\n",
    "            \"name\": \"ts_ms\",\n",
    "            \"type\": [\n",
    "                \"null\",\n",
    "                \"string\"\n",
    "            ],\n",
    "            \"doc\": \"\",\n",
    "            \"default\": null\n",
    "        },\n",
    "        {\n",
    "            \"name\": \"before\",\n",
    "            \"type\": [\n",
    "                \"null\",\n",
    "                {\n",
    "                    \"type\": \"record\",\n",
    "                    \"name\": \"trips_table_cdc_record\",\n",
    "                    \"fields\": [\n",
    "                        {\n",
    "                            \"name\": \"ts\",\n",
    "                            \"type\": \"long\"\n",
    "                        },\n",
    "                        {\n",
    "                            \"name\": \"uuid\",\n",
    "                            \"type\": [\n",
    "                                \"null\",\n",
    "                                \"string\"\n",
    "                            ],\n",
    "                            \"default\": null\n",
    "                        },\n",
    "                        {\n",
    "                            \"name\": \"rider\",\n",
    "                            \"type\": [\n",
    "                                \"null\",\n",
    "                                \"string\"\n",
    "                            ],\n",
    "                            \"default\": null\n",
    "                        },\n",
    "                        {\n",
    "                            \"name\": \"driver\",\n",
    "                            \"type\": [\n",
    "                                \"null\",\n",
    "                                \"string\"\n",
    "                            ],\n",
    "                            \"default\": null\n",
    "                        },\n",
    "                        {\n",
    "                            \"name\": \"fare\",\n",
    "                            \"type\": \"double\"\n",
    "                        },\n",
    "                        {\n",
    "                            \"name\": \"city\",\n",
    "                            \"type\": [\n",
    "                                \"null\",\n",
    "                                \"string\"\n",
    "                            ],\n",
    "                            \"default\": null\n",
    "                        }\n",
    "                    ]\n",
    "                }\n",
    "            ],\n",
    "            \"doc\": \"\",\n",
    "            \"default\": null\n",
    "        },\n",
    "        {\n",
    "            \"name\": \"after\",\n",
    "            \"type\": [\n",
    "                \"null\",\n",
    "                \"trips_table_cdc_record\"\n",
    "            ],\n",
    "            \"doc\": \"\",\n",
    "            \"default\": null\n",
    "        }\n",
    "    ]\n",
    "}\n",
    "```"
   ]
  },
  {
   "cell_type": "code",
   "execution_count": 24,
   "metadata": {},
   "outputs": [
    {
     "name": "stdout",
     "output_type": "stream",
     "text": [
      "#HUDI#\u0000\u0000\u0000\u0000\u0000\u0000\u0003�\u0000\u0000\u0000\u0001\u0000\u0000\u0000\u0006\u0000\u0000\u0000\u0002\u0000\u0000\u0000\u0000\u0000\u0000\u0000\u001120250304000304162\u0000\u0000\u0000\u0002\u0000\u0000\u0002�{\"type\":\"record\",\"name\":\"CDC\",\"namespace\":\"hoodie.trips_table_cdc\",\"fields\":[{\"name\":\"op\",\"type\":[\"null\",\"string\"],\"doc\":\"\",\"default\":null},{\"name\":\"ts_ms\",\"type\":[\"null\",\"string\"],\"doc\":\"\",\"default\":null},{\"name\":\"before\",\"type\":[\"null\",{\"type\":\"record\",\"name\":\"trips_table_cdc_record\",\"fields\":[{\"name\":\"ts\",\"type\":\"long\"},{\"name\":\"uuid\",\"type\":[\"null\",\"string\"],\"default\":null},{\"name\":\"rider\",\"type\":[\"null\",\"string\"],\"default\":null},{\"name\":\"driver\",\"type\":[\"null\",\"string\"],\"default\":null},{\"name\":\"fare\",\"type\":\"double\"},{\"name\":\"city\",\"type\":[\"null\",\"string\"],\"default\":null}]}],\"doc\":\"\",\"default\":null},{\"name\":\"after\",\"type\":[\"null\",\"trips_table_cdc_record\"],\"doc\":\"\",\"default\":null}]}\u0000\u0000\u0000\u0000\u0000\u0000\u0000�\u0000\u0000\u0000\u0003\u0000\u0000\u0000\u0001\u0000\u0000\u0000�\u0002\u0002u\u0002\"20250304000304162\u0002ƅ���b\u0002H334e26e9-8355-45cc-97c6-c31daf0df330\u0002\u000erider-A\u0002\u0010driver-K�����\u00193@\u0002\u001asan_francisco\u0002ƅ���b\u0002H334e26e9-8355-45cc-97c6-c31daf0df330\u0002\u000erider-A\u0002\u0010driver-K\u0000\u0000\u0000\u0000\u0000�g@\u0002\u001asan_francisco\u0000\u0000\u0000\u0000\u0000\u0000\u0000\u0000\u0000\u0000\u0003�#HUDI#\u0000\u0000\u0000\u0000\u0000\u0000\u0003�\u0000\u0000\u0000\u0001\u0000\u0000\u0000\u0006\u0000\u0000\u0000\u0002\u0000\u0000\u0000\u0000\u0000\u0000\u0000\u001120250304000304162\u0000\u0000\u0000\u0002\u0000\u0000\u0002�{\"type\":\"record\",\"name\":\"CDC\",\"namespace\":\"hoodie.trips_table_cdc\",\"fields\":[{\"name\":\"op\",\"type\":[\"null\",\"string\"],\"doc\":\"\",\"default\":null},{\"name\":\"ts_ms\",\"type\":[\"null\",\"string\"],\"doc\":\"\",\"default\":null},{\"name\":\"before\",\"type\":[\"null\",{\"type\":\"record\",\"name\":\"trips_table_cdc_record\",\"fields\":[{\"name\":\"ts\",\"type\":\"long\"},{\"name\":\"uuid\",\"type\":[\"null\",\"string\"],\"default\":null},{\"name\":\"rider\",\"type\":[\"null\",\"string\"],\"default\":null},{\"name\":\"driver\",\"type\":[\"null\",\"string\"],\"default\":null},{\"name\":\"fare\",\"type\":\"double\"},{\"name\":\"city\",\"type\":[\"null\",\"string\"],\"default\":null}]}],\"doc\":\"\",\"default\":null},{\"name\":\"after\",\"type\":[\"null\",\"trips_table_cdc_record\"],\"doc\":\"\",\"default\":null}]}\u0000\u0000\u0000\u0000\u0000\u0000\u0000�\u0000\u0000\u0000\u0003\u0000\u0000\u0000\u0001\u0000\u0000\u0000�\u0002\u0002u\u0002\"20250304000304162\u0002�â��b\u0002He96c4396-3fad-413a-a942-4cb36106d721\u0002\u000erider-B\u0002\u0010driver-L33333�;@\u0002\u0012san_paulo\u0002�â��b\u0002He96c4396-3fad-413a-a942-4cb36106d721\u0002\u000erider-B\u0002\u0010driver-L\u0000\u0000\u0000\u0000\u0000Pq@\u0002\u0012san_paulo\u0000\u0000\u0000\u0000\u0000\u0000\u0000\u0000\u0000\u0000\u0003�\n"
     ]
    },
    {
     "data": {
      "text/html": [
       "<div class=\"jp-RenderedText\">\n",
       "<pre><code><span style=\"color: rgb(0, 187, 187)\"><span class=\"ansi-cyan-fg\">command</span></span>: <span style=\"color: rgb(0, 187, 0)\"><span class=\"ansi-green-fg\">String</span></span> = <span style=\"color: rgb(0, 187, 0)\"><span class=\"ansi-green-fg\">&quot;find /tmp/hudi/trips_table_cdc -name \\&quot;*.cdc\\&quot; -exec cat {} \\\\\\\\\\\\; &quot;</span></span>\n",
       "<span style=\"color: rgb(0, 187, 187)\"><span class=\"ansi-cyan-fg\">result</span></span>: <span style=\"color: rgb(0, 187, 0)\"><span class=\"ansi-green-fg\">String</span></span> = <span style=\"color: white\"><span class=\"ansi-white-fg\">[lazy]</span></span></code></pre>\n",
       "</div>"
      ],
      "text/plain": [
       "\u001b[36mcommand\u001b[39m: \u001b[32mString\u001b[39m = \u001b[32m\"find /tmp/hudi/trips_table_cdc -name \\\"*.cdc\\\" -exec cat {} \\\\\\\\\\\\; \"\u001b[39m\n",
       "\u001b[36mresult\u001b[39m: \u001b[32mString\u001b[39m = \u001b[37m[lazy]\u001b[39m"
      ]
     },
     "metadata": {},
     "output_type": "display_data"
    }
   ],
   "source": [
    "val command = \"\"\"find /tmp/hudi/trips_table_cdc -name \"*.cdc\" -exec cat {} \\\\\\; \"\"\"\n",
    "lazy val result = Seq(\"bash\", \"-c\", s\"eval $command\").!!\n",
    "print(result)"
   ]
  },
  {
   "cell_type": "code",
   "execution_count": 26,
   "metadata": {},
   "outputs": [
    {
     "name": "stdout",
     "output_type": "stream",
     "text": [
      "+---+-----------------+------------------------------------------------------------------------------------------------------------------------------------------------------+-------------------------------------------------------------------------------------------------------------------------------------------------------------------------------------------------------------------------------------------------------------------------------------------------------------------------------------------------------------------------------------------------------------------------+\n",
      "|op |ts_ms            |before                                                                                                                                                |after                                                                                                                                                                                                                                                                                                                                                                                                                    |\n",
      "+---+-----------------+------------------------------------------------------------------------------------------------------------------------------------------------------+-------------------------------------------------------------------------------------------------------------------------------------------------------------------------------------------------------------------------------------------------------------------------------------------------------------------------------------------------------------------------------------------------------------------------+\n",
      "|i  |20250304000302487|null                                                                                                                                                  |{\"driver\":\"driver-N\",\"_hoodie_record_key\":\"20250304000302487_3_0\",\"city\":\"chennai\",\"_hoodie_partition_path\":\"chennai\",\"_hoodie_file_name\":\"281006d0-0a62-4433-926c-d7ead7a9fe17-0_3-102-0_20250304000302487.parquet\",\"_hoodie_commit_seqno\":\"20250304000302487_3_6\",\"fare\":93.5,\"rider\":\"rider-D\",\"_hoodie_commit_time\":\"20250304000302487\",\"ts\":1695332056404,\"uuid\":\"1dced545-862b-4ceb-8b43-d2a568f6616b\"}            |\n",
      "|i  |20250304000302487|null                                                                                                                                                  |{\"driver\":\"driver-K\",\"_hoodie_record_key\":\"20250304000302487_0_0\",\"city\":\"san_francisco\",\"_hoodie_partition_path\":\"san_francisco\",\"_hoodie_file_name\":\"bbf1484b-cbea-4a61-ac9c-b8ae81e213e9-0_0-99-0_20250304000302487.parquet\",\"_hoodie_commit_seqno\":\"20250304000302487_0_9\",\"fare\":19.1,\"rider\":\"rider-A\",\"_hoodie_commit_time\":\"20250304000302487\",\"ts\":1695158649187,\"uuid\":\"334e26e9-8355-45cc-97c6-c31daf0df330\"} |\n",
      "|u  |20250304000304162|{\"ts\": 1695158649187, \"uuid\": \"334e26e9-8355-45cc-97c6-c31daf0df330\", \"rider\": \"rider-A\", \"driver\": \"driver-K\", \"fare\": 19.1, \"city\": \"san_francisco\"}|{\"ts\": 1695158649187, \"uuid\": \"334e26e9-8355-45cc-97c6-c31daf0df330\", \"rider\": \"rider-A\", \"driver\": \"driver-K\", \"fare\": 191.0, \"city\": \"san_francisco\"}                                                                                                                                                                                                                                                                  |\n",
      "|i  |20250304000302487|null                                                                                                                                                  |{\"driver\":\"driver-L\",\"_hoodie_record_key\":\"20250304000302487_1_0\",\"city\":\"san_paulo\",\"_hoodie_partition_path\":\"san_paulo\",\"_hoodie_file_name\":\"d0118f30-0125-4734-8ed0-a59da7523f8f-0_1-100-0_20250304000302487.parquet\",\"_hoodie_commit_seqno\":\"20250304000302487_1_8\",\"fare\":27.7,\"rider\":\"rider-B\",\"_hoodie_commit_time\":\"20250304000302487\",\"ts\":1695091544288,\"uuid\":\"e96c4396-3fad-413a-a942-4cb36106d721\"}        |\n",
      "|u  |20250304000304162|{\"ts\": 1695091544288, \"uuid\": \"e96c4396-3fad-413a-a942-4cb36106d721\", \"rider\": \"rider-B\", \"driver\": \"driver-L\", \"fare\": 27.7, \"city\": \"san_paulo\"}    |{\"ts\": 1695091544288, \"uuid\": \"e96c4396-3fad-413a-a942-4cb36106d721\", \"rider\": \"rider-B\", \"driver\": \"driver-L\", \"fare\": 277.0, \"city\": \"san_paulo\"}                                                                                                                                                                                                                                                                      |\n",
      "|i  |20250304000302487|null                                                                                                                                                  |{\"driver\":\"driver-M\",\"_hoodie_record_key\":\"20250304000302487_2_0\",\"city\":\"san_francisco\",\"_hoodie_partition_path\":\"san_francisco\",\"_hoodie_file_name\":\"d0caaea2-4bad-4b47-ae54-189cc1e7fb84-0_2-101-0_20250304000302487.parquet\",\"_hoodie_commit_seqno\":\"20250304000302487_2_7\",\"fare\":33.9,\"rider\":\"rider-C\",\"_hoodie_commit_time\":\"20250304000302487\",\"ts\":1695046452379,\"uuid\":\"9909a8b1-2d15-4d3d-8ec9-efc48c536a00\"}|\n",
      "+---+-----------------+------------------------------------------------------------------------------------------------------------------------------------------------------+-------------------------------------------------------------------------------------------------------------------------------------------------------------------------------------------------------------------------------------------------------------------------------------------------------------------------------------------------------------------------------------------------------------------------+\n",
      "\n"
     ]
    }
   ],
   "source": [
    "// Query CDC data\n",
    "spark.read.option(\"hoodie.datasource.read.begin.instanttime\", 0).\n",
    "  option(\"hoodie.datasource.query.type\", \"incremental\").\n",
    "  option(\"hoodie.datasource.query.incremental.format\", \"cdc\").\n",
    "  format(\"hudi\").load(basePath).show(false)"
   ]
  },
  {
   "cell_type": "code",
   "execution_count": 27,
   "metadata": {},
   "outputs": [],
   "source": [
    "spark.stop()"
   ]
  }
 ],
 "metadata": {
  "kernelspec": {
   "display_name": "Scala",
   "language": "scala",
   "name": "scala"
  },
  "language_info": {
   "codemirror_mode": "text/x-scala",
   "file_extension": ".sc",
   "mimetype": "text/x-scala",
   "name": "scala",
   "nbconvert_exporter": "script",
   "version": "2.12.15"
  }
 },
 "nbformat": 4,
 "nbformat_minor": 2
}
