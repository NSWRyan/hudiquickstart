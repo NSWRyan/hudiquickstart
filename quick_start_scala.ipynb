{
 "cells": [
  {
   "cell_type": "markdown",
   "metadata": {},
   "source": [
    "### Clean up first"
   ]
  },
  {
   "cell_type": "code",
   "execution_count": 1,
   "metadata": {},
   "outputs": [
    {
     "name": "stdout",
     "output_type": "stream",
     "text": [
      "/tmp/hudi/\n",
      "\n",
      "0 directories, 0 files\n",
      "\n"
     ]
    },
    {
     "data": {
      "text/html": [
       "<div class=\"jp-RenderedText\">\n",
       "<pre><code><span style=\"color: rgb(0, 187, 0)\"><span class=\"ansi-green-fg\">import </span></span><span style=\"color: rgb(0, 187, 187)\"><span class=\"ansi-cyan-fg\">sys.process._</span></span>\n",
       "<span style=\"color: rgb(0, 187, 187)\"><span class=\"ansi-cyan-fg\">res1_1</span></span>: <span style=\"color: rgb(0, 187, 0)\"><span class=\"ansi-green-fg\">String</span></span> = <span style=\"color: rgb(0, 187, 0)\"><span class=\"ansi-green-fg\">&quot;&quot;</span></span>\n",
       "<span style=\"color: rgb(0, 187, 187)\"><span class=\"ansi-cyan-fg\">res1_2</span></span>: <span style=\"color: rgb(0, 187, 0)\"><span class=\"ansi-green-fg\">String</span></span> = <span style=\"color: rgb(0, 187, 0)\"><span class=\"ansi-green-fg\">&quot;&quot;</span></span>\n",
       "<span style=\"color: rgb(0, 187, 187)\"><span class=\"ansi-cyan-fg\">result3</span></span>: <span style=\"color: rgb(0, 187, 0)\"><span class=\"ansi-green-fg\">String</span></span> = <span style=\"color: white\"><span class=\"ansi-white-fg\">[lazy]</span></span></code></pre>\n",
       "</div>"
      ],
      "text/plain": [
       "\u001b[32mimport \u001b[39m\u001b[36msys.process._\u001b[39m\n",
       "\u001b[36mres1_1\u001b[39m: \u001b[32mString\u001b[39m = \u001b[32m\"\"\u001b[39m\n",
       "\u001b[36mres1_2\u001b[39m: \u001b[32mString\u001b[39m = \u001b[32m\"\"\u001b[39m\n",
       "\u001b[36mresult3\u001b[39m: \u001b[32mString\u001b[39m = \u001b[37m[lazy]\u001b[39m"
      ]
     },
     "metadata": {},
     "output_type": "display_data"
    }
   ],
   "source": [
    "import sys.process._\n",
    "\"rm -rf /tmp/hudi/\".!!\n",
    "\"mkdir -p /tmp/hudi\".!!\n",
    "lazy val result3 = \"tree -a /tmp/hudi/\".!!\n",
    "println(result3)\n"
   ]
  },
  {
   "cell_type": "markdown",
   "metadata": {},
   "source": [
    "### Setup project"
   ]
  },
  {
   "cell_type": "code",
   "execution_count": null,
   "metadata": {},
   "outputs": [
    {
     "name": "stderr",
     "output_type": "stream",
     "text": [
      "Using Spark's default log4j profile: org/apache/spark/log4j2-defaults.properties\n"
     ]
    },
    {
     "name": "stdout",
     "output_type": "stream",
     "text": [
      "25/03/03 22:06:31 WARN Utils: Your hostname, DESKTOP-M94RUSC resolves to a loopback address: 127.0.1.1; using 172.17.75.227 instead (on interface eth0)\n",
      "25/03/03 22:06:31 WARN Utils: Set SPARK_LOCAL_IP if you need to bind to another address\n",
      "25/03/03 22:06:32 INFO SparkContext: Running Spark version 3.3.2\n",
      "25/03/03 22:06:32 WARN NativeCodeLoader: Unable to load native-hadoop library for your platform... using builtin-java classes where applicable\n",
      "25/03/03 22:06:32 INFO ResourceUtils: ==============================================================\n",
      "25/03/03 22:06:32 INFO ResourceUtils: No custom resources configured for spark.driver.\n",
      "25/03/03 22:06:32 INFO ResourceUtils: ==============================================================\n",
      "25/03/03 22:06:32 INFO SparkContext: Submitted application: HudiLocalSession\n",
      "25/03/03 22:06:32 INFO ResourceProfile: Default ResourceProfile created, executor resources: Map(cores -> name: cores, amount: 1, script: , vendor: , memory -> name: memory, amount: 1024, script: , vendor: , offHeap -> name: offHeap, amount: 0, script: , vendor: ), task resources: Map(cpus -> name: cpus, amount: 1.0)\n",
      "25/03/03 22:06:32 INFO ResourceProfile: Limiting resource is cpu\n",
      "25/03/03 22:06:32 INFO ResourceProfileManager: Added ResourceProfile id: 0\n",
      "25/03/03 22:06:32 INFO SecurityManager: Changing view acls to: ryan\n",
      "25/03/03 22:06:32 INFO SecurityManager: Changing modify acls to: ryan\n",
      "25/03/03 22:06:32 INFO SecurityManager: Changing view acls groups to: \n",
      "25/03/03 22:06:32 INFO SecurityManager: Changing modify acls groups to: \n",
      "25/03/03 22:06:32 INFO SecurityManager: SecurityManager: authentication disabled; ui acls disabled; users  with view permissions: Set(ryan); groups with view permissions: Set(); users  with modify permissions: Set(ryan); groups with modify permissions: Set()\n",
      "25/03/03 22:06:32 INFO Utils: Successfully started service 'sparkDriver' on port 36255.\n",
      "25/03/03 22:06:32 INFO SparkEnv: Registering MapOutputTracker\n",
      "25/03/03 22:06:32 INFO SparkEnv: Registering BlockManagerMaster\n",
      "25/03/03 22:06:32 INFO BlockManagerMasterEndpoint: Using org.apache.spark.storage.DefaultTopologyMapper for getting topology information\n",
      "25/03/03 22:06:32 INFO BlockManagerMasterEndpoint: BlockManagerMasterEndpoint up\n",
      "25/03/03 22:06:32 INFO SparkEnv: Registering BlockManagerMasterHeartbeat\n",
      "25/03/03 22:06:32 INFO DiskBlockManager: Created local directory at /tmp/blockmgr-f4e59262-96b2-45f0-976e-325cd37797b9\n",
      "25/03/03 22:06:33 INFO MemoryStore: MemoryStore started with capacity 4.4 GiB\n",
      "25/03/03 22:06:33 INFO SparkEnv: Registering OutputCommitCoordinator\n",
      "25/03/03 22:06:33 INFO Utils: Successfully started service 'SparkUI' on port 4040.\n",
      "25/03/03 22:06:33 INFO Executor: Starting executor ID driver on host 172.17.75.227\n",
      "25/03/03 22:06:33 INFO Executor: Starting executor with user classpath (userClassPathFirst = false): ''\n",
      "25/03/03 22:06:33 INFO Utils: Successfully started service 'org.apache.spark.network.netty.NettyBlockTransferService' on port 45037.\n",
      "25/03/03 22:06:33 INFO NettyBlockTransferService: Server created on 172.17.75.227:45037\n",
      "25/03/03 22:06:33 INFO BlockManager: Using org.apache.spark.storage.RandomBlockReplicationPolicy for block replication policy\n",
      "25/03/03 22:06:33 INFO BlockManagerMaster: Registering BlockManager BlockManagerId(driver, 172.17.75.227, 45037, None)\n",
      "25/03/03 22:06:33 INFO BlockManagerMasterEndpoint: Registering block manager 172.17.75.227:45037 with 4.4 GiB RAM, BlockManagerId(driver, 172.17.75.227, 45037, None)\n",
      "25/03/03 22:06:33 INFO BlockManagerMaster: Registered BlockManager BlockManagerId(driver, 172.17.75.227, 45037, None)\n",
      "25/03/03 22:06:33 INFO BlockManager: Initialized BlockManager: BlockManagerId(driver, 172.17.75.227, 45037, None)\n",
      "Spark with Hudi is ready!\n"
     ]
    },
    {
     "data": {
      "text/plain": [
       "\u001b[32mimport \u001b[39m\u001b[36m$ivy.$\u001b[39m\n",
       "\u001b[32mimport \u001b[39m\u001b[36m$ivy.$\u001b[39m\n",
       "\u001b[32mimport \u001b[39m\u001b[36m$ivy.$\u001b[39m\n",
       "\u001b[32mimport \u001b[39m\u001b[36m$ivy.$\u001b[39m\n",
       "\u001b[32mimport \u001b[39m\u001b[36m$cp.$\u001b[39m\n",
       "\u001b[32mimport \u001b[39m\u001b[36morg.apache.spark.sql._\u001b[39m\n",
       "\u001b[32mimport \u001b[39m\u001b[36morg.apache.spark.sql.functions._\u001b[39m\n",
       "\u001b[32mimport \u001b[39m\u001b[36morg.apache.hudi.QuickstartUtils._\u001b[39m\n",
       "\u001b[32mimport \u001b[39m\u001b[36morg.apache.spark.sql.hive.HiveExternalCatalog\u001b[39m\n",
       "\u001b[32mimport \u001b[39m\u001b[36mscala.collection.JavaConversions._\u001b[39m\n",
       "\u001b[32mimport \u001b[39m\u001b[36morg.apache.spark.sql.SaveMode._\u001b[39m\n",
       "\u001b[32mimport \u001b[39m\u001b[36morg.apache.hudi.DataSourceReadOptions._\u001b[39m\n",
       "\u001b[32mimport \u001b[39m\u001b[36morg.apache.hudi.DataSourceWriteOptions._\u001b[39m\n",
       "\u001b[32mimport \u001b[39m\u001b[36morg.apache.hudi.common.table.HoodieTableConfig._\u001b[39m\n",
       "\u001b[32mimport \u001b[39m\u001b[36morg.apache.hudi.config.HoodieWriteConfig._\u001b[39m\n",
       "\u001b[32mimport \u001b[39m\u001b[36morg.apache.hudi.keygen.constant.KeyGeneratorOptions._\u001b[39m\n",
       "\u001b[32mimport \u001b[39m\u001b[36morg.apache.hudi.common.model.HoodieRecord\u001b[39m\n",
       "\u001b[32mimport \u001b[39m\u001b[36mcom.payloads.CustomMergeIntoConnector\u001b[39m\n",
       "\u001b[36mspark\u001b[39m: \u001b[32mSparkSession\u001b[39m = org.apache.spark.sql.SparkSession@7afa15f1"
      ]
     },
     "execution_count": 2,
     "metadata": {},
     "output_type": "execute_result"
    }
   ],
   "source": [
    "import $ivy.`org.apache.hudi:hudi-spark3.3-bundle_2.12:1.0.0`\n",
    "// import $ivy.`org.apache.hudi:hudi-common:1.0.0`\n",
    "import $ivy.`org.apache.spark:spark-sql_2.12:3.3.2`\n",
    "import $ivy.`org.apache.spark:spark-avro_2.12:3.3.2`\n",
    "import $ivy.`org.apache.spark:spark-hive_2.12:3.3.2`\n",
    "import $cp.`CustomMergeIntoConnector.jar`\n",
    "\n",
    "import org.apache.spark.sql._\n",
    "import org.apache.spark.sql.functions._\n",
    "import org.apache.hudi.QuickstartUtils._\n",
    "import org.apache.spark.sql.hive.HiveExternalCatalog\n",
    "import scala.collection.JavaConversions._\n",
    "import org.apache.spark.sql.SaveMode._\n",
    "import org.apache.hudi.DataSourceReadOptions._\n",
    "import org.apache.hudi.DataSourceWriteOptions._\n",
    "import org.apache.hudi.common.table.HoodieTableConfig._\n",
    "import org.apache.hudi.config.HoodieWriteConfig._\n",
    "import org.apache.hudi.keygen.constant.KeyGeneratorOptions._\n",
    "import org.apache.hudi.common.model.HoodieRecord\n",
    "import com.payloads.CustomMergeIntoConnector\n",
    "\n",
    "val spark = SparkSession.builder()\n",
    "  .appName(\"HudiLocalSession\")\n",
    "  .master(\"local[1]\")  // Runs on local machine with 1 local worker / thread, so we can see the impact on COPY_ON_WRITE\n",
    "  .config(\"spark.serializer\", \"org.apache.spark.serializer.KryoSerializer\")\n",
    "  .config(\"spark.sql.extensions\", \"org.apache.spark.sql.hudi.HoodieSparkSessionExtension\")\n",
    "  .config(\"spark.sql.catalog.spark_catalog\", \"org.apache.spark.sql.hudi.catalog.HoodieCatalog\")\n",
    "  .config(\"spark.kryo.registrator\", \"org.apache.spark.HoodieSparkKryoRegistrar\")\n",
    "  .config(\"spark.driver.extraJavaOptions\", \"-Dscala.repl.maxprintstring=0\")\n",
    "  .getOrCreate()\n",
    "spark.sparkContext.setLogLevel(\"ERROR\")\n",
    "  \n",
    "// http://localhost:4040/jobs/\n",
    "println(\"Spark with Hudi is ready!\")"
   ]
  },
  {
   "cell_type": "code",
   "execution_count": 3,
   "metadata": {},
   "outputs": [
    {
     "name": "stdout",
     "output_type": "stream",
     "text": [
      "/tmp/hudi/\n",
      "\n",
      "0 directories, 0 files\n",
      "\n"
     ]
    },
    {
     "data": {
      "text/html": [
       "<div class=\"jp-RenderedText\">\n",
       "<pre><code><span style=\"color: rgb(0, 187, 187)\"><span class=\"ansi-cyan-fg\">result</span></span>: <span style=\"color: rgb(0, 187, 0)\"><span class=\"ansi-green-fg\">String</span></span> = <span style=\"color: white\"><span class=\"ansi-white-fg\">[lazy]</span></span></code></pre>\n",
       "</div>"
      ],
      "text/plain": [
       "\u001b[36mresult\u001b[39m: \u001b[32mString\u001b[39m = \u001b[37m[lazy]\u001b[39m"
      ]
     },
     "metadata": {},
     "output_type": "display_data"
    }
   ],
   "source": [
    "lazy val result = \"tree -a /tmp/hudi/\".!!\n",
    "println(result)"
   ]
  },
  {
   "cell_type": "markdown",
   "metadata": {},
   "source": [
    "### Create and Insert Table"
   ]
  },
  {
   "cell_type": "code",
   "execution_count": 4,
   "metadata": {},
   "outputs": [
    {
     "name": "stdout",
     "output_type": "stream",
     "text": [
      "# WARNING: Unable to get Instrumentation. Dynamic Attach failed. You may add this JAR as -javaagent manually, or supply -Djdk.attach.allowAttachSelf\n",
      "# WARNING: Unable to attach Serviceability Agent. Unable to attach even with module exceptions: [org.apache.hudi.org.openjdk.jol.vm.sa.SASupportException: Sense failed., org.apache.hudi.org.openjdk.jol.vm.sa.SASupportException: Sense failed., org.apache.hudi.org.openjdk.jol.vm.sa.SASupportException: Sense failed.]\n"
     ]
    },
    {
     "data": {
      "text/html": [
       "<div class=\"jp-RenderedText\">\n",
       "<pre><code><span style=\"color: rgb(0, 187, 187)\"><span class=\"ansi-cyan-fg\">columns</span></span>: <span style=\"color: rgb(0, 187, 0)\"><span class=\"ansi-green-fg\">Seq</span></span>[<span style=\"color: rgb(0, 187, 0)\"><span class=\"ansi-green-fg\">String</span></span>] = <span style=\"color: yellow\"><span class=\"ansi-yellow-fg\">List</span></span>(<span style=\"color: rgb(0, 187, 0)\"><span class=\"ansi-green-fg\">&quot;ts&quot;</span></span>, <span style=\"color: rgb(0, 187, 0)\"><span class=\"ansi-green-fg\">&quot;uuid&quot;</span></span>, <span style=\"color: rgb(0, 187, 0)\"><span class=\"ansi-green-fg\">&quot;rider&quot;</span></span>, <span style=\"color: rgb(0, 187, 0)\"><span class=\"ansi-green-fg\">&quot;driver&quot;</span></span>, <span style=\"color: rgb(0, 187, 0)\"><span class=\"ansi-green-fg\">&quot;fare&quot;</span></span>, <span style=\"color: rgb(0, 187, 0)\"><span class=\"ansi-green-fg\">&quot;city&quot;</span></span>)\n",
       "<span style=\"color: rgb(0, 187, 187)\"><span class=\"ansi-cyan-fg\">data</span></span>: <span style=\"color: rgb(0, 187, 0)\"><span class=\"ansi-green-fg\">Seq</span></span>[(<span style=\"color: rgb(0, 187, 0)\"><span class=\"ansi-green-fg\">Long</span></span>, <span style=\"color: rgb(0, 187, 0)\"><span class=\"ansi-green-fg\">String</span></span>, <span style=\"color: rgb(0, 187, 0)\"><span class=\"ansi-green-fg\">String</span></span>, <span style=\"color: rgb(0, 187, 0)\"><span class=\"ansi-green-fg\">String</span></span>, <span style=\"color: rgb(0, 187, 0)\"><span class=\"ansi-green-fg\">Double</span></span>, <span style=\"color: rgb(0, 187, 0)\"><span class=\"ansi-green-fg\">String</span></span>)] = <span style=\"color: yellow\"><span class=\"ansi-yellow-fg\">List</span></span>(\n",
       "  (\n",
       "    <span style=\"color: rgb(0, 187, 0)\"><span class=\"ansi-green-fg\">1695159649087L</span></span>,\n",
       "    <span style=\"color: rgb(0, 187, 0)\"><span class=\"ansi-green-fg\">&quot;334e26e9-8355-45cc-97c6-c31daf0df330&quot;</span></span>,\n",
       "    <span style=\"color: rgb(0, 187, 0)\"><span class=\"ansi-green-fg\">&quot;rider-A&quot;</span></span>,\n",
       "    <span style=\"color: rgb(0, 187, 0)\"><span class=\"ansi-green-fg\">&quot;driver-K&quot;</span></span>,\n",
       "    <span style=\"color: rgb(0, 187, 0)\"><span class=\"ansi-green-fg\">19.1</span></span>,\n",
       "    <span style=\"color: rgb(0, 187, 0)\"><span class=\"ansi-green-fg\">&quot;san_francisco&quot;</span></span>\n",
       "  ),\n",
       "  (\n",
       "    <span style=\"color: rgb(0, 187, 0)\"><span class=\"ansi-green-fg\">1695091554788L</span></span>,\n",
       "    <span style=\"color: rgb(0, 187, 0)\"><span class=\"ansi-green-fg\">&quot;e96c4396-3fad-413a-a942-4cb36106d721&quot;</span></span>,\n",
       "    <span style=\"color: rgb(0, 187, 0)\"><span class=\"ansi-green-fg\">&quot;rider-C&quot;</span></span>,\n",
       "    <span style=\"color: rgb(0, 187, 0)\"><span class=\"ansi-green-fg\">&quot;driver-M&quot;</span></span>,\n",
       "    <span style=\"color: rgb(0, 187, 0)\"><span class=\"ansi-green-fg\">27.7</span></span>,\n",
       "    <span style=\"color: rgb(0, 187, 0)\"><span class=\"ansi-green-fg\">&quot;san_francisco&quot;</span></span>\n",
       "  ),\n",
       "  (\n",
       "    <span style=\"color: rgb(0, 187, 0)\"><span class=\"ansi-green-fg\">1695046462179L</span></span>,\n",
       "    <span style=\"color: rgb(0, 187, 0)\"><span class=\"ansi-green-fg\">&quot;9909a8b1-2d15-4d3d-8ec9-efc48c536a00&quot;</span></span>,\n",
       "    <span style=\"color: rgb(0, 187, 0)\"><span class=\"ansi-green-fg\">&quot;rider-D&quot;</span></span>,\n",
       "    <span style=\"color: rgb(0, 187, 0)\"><span class=\"ansi-green-fg\">&quot;driver-L&quot;</span></span>,\n",
       "    <span style=\"color: rgb(0, 187, 0)\"><span class=\"ansi-green-fg\">33.9</span></span>,\n",
       "    <span style=\"color: rgb(0, 187, 0)\"><span class=\"ansi-green-fg\">&quot;san_francisco&quot;</span></span>\n",
       "  ),\n",
       "  (\n",
       "    <span style=\"color: rgb(0, 187, 0)\"><span class=\"ansi-green-fg\">1695516137016L</span></span>,\n",
       "    <span style=\"color: rgb(0, 187, 0)\"><span class=\"ansi-green-fg\">&quot;e3cf430c-889d-4015-bc98-59bdce1e530c&quot;</span></span>,\n",
       "    <span style=\"color: rgb(0, 187, 0)\"><span class=\"ansi-green-fg\">&quot;rider-F&quot;</span></span>,\n",
       "    <span style=\"color: rgb(0, 187, 0)\"><span class=\"ansi-green-fg\">&quot;driver-P&quot;</span></span>,\n",
       "    <span style=\"color: rgb(0, 187, 0)\"><span class=\"ansi-green-fg\">34.15</span></span>,\n",
       "    <span style=\"color: rgb(0, 187, 0)\"><span class=\"ansi-green-fg\">&quot;sao_paulo&quot;</span></span>\n",
       "  ),\n",
       "  (\n",
       "    <span style=\"color: rgb(0, 187, 0)\"><span class=\"ansi-green-fg\">1695115999911L</span></span>,\n",
       "    <span style=\"color: rgb(0, 187, 0)\"><span class=\"ansi-green-fg\">&quot;c8abbe79-8d89-47ea-b4ce-4d224bae5bfa&quot;</span></span>,\n",
       "    <span style=\"color: rgb(0, 187, 0)\"><span class=\"ansi-green-fg\">&quot;rider-J&quot;</span></span>,\n",
       "    <span style=\"color: rgb(0, 187, 0)\"><span class=\"ansi-green-fg\">&quot;driver-T&quot;</span></span>,\n",
       "    <span style=\"color: rgb(0, 187, 0)\"><span class=\"ansi-green-fg\">17.85</span></span>,\n",
       "...\n",
       "<span style=\"color: rgb(0, 187, 187)\"><span class=\"ansi-cyan-fg\">tableName</span></span>: <span style=\"color: rgb(0, 187, 0)\"><span class=\"ansi-green-fg\">String</span></span> = <span style=\"color: rgb(0, 187, 0)\"><span class=\"ansi-green-fg\">&quot;trips_table&quot;</span></span>\n",
       "<span style=\"color: rgb(0, 187, 187)\"><span class=\"ansi-cyan-fg\">basePath</span></span>: <span style=\"color: rgb(0, 187, 0)\"><span class=\"ansi-green-fg\">String</span></span> = <span style=\"color: rgb(0, 187, 0)\"><span class=\"ansi-green-fg\">&quot;file:///tmp/hudi/trips_table&quot;</span></span>\n",
       "<span style=\"color: rgb(0, 187, 187)\"><span class=\"ansi-cyan-fg\">inserts</span></span>: <span style=\"color: rgb(0, 187, 0)\"><span class=\"ansi-green-fg\">DataFrame</span></span> = [ts: bigint, uuid: string ... 4 more fields]</code></pre>\n",
       "</div>"
      ],
      "text/plain": [
       "\u001b[36mcolumns\u001b[39m: \u001b[32mSeq\u001b[39m[\u001b[32mString\u001b[39m] = \u001b[33mList\u001b[39m(\u001b[32m\"ts\"\u001b[39m, \u001b[32m\"uuid\"\u001b[39m, \u001b[32m\"rider\"\u001b[39m, \u001b[32m\"driver\"\u001b[39m, \u001b[32m\"fare\"\u001b[39m, \u001b[32m\"city\"\u001b[39m)\n",
       "\u001b[36mdata\u001b[39m: \u001b[32mSeq\u001b[39m[(\u001b[32mLong\u001b[39m, \u001b[32mString\u001b[39m, \u001b[32mString\u001b[39m, \u001b[32mString\u001b[39m, \u001b[32mDouble\u001b[39m, \u001b[32mString\u001b[39m)] = \u001b[33mList\u001b[39m(\n",
       "  (\n",
       "    \u001b[32m1695159649087L\u001b[39m,\n",
       "    \u001b[32m\"334e26e9-8355-45cc-97c6-c31daf0df330\"\u001b[39m,\n",
       "    \u001b[32m\"rider-A\"\u001b[39m,\n",
       "    \u001b[32m\"driver-K\"\u001b[39m,\n",
       "    \u001b[32m19.1\u001b[39m,\n",
       "    \u001b[32m\"san_francisco\"\u001b[39m\n",
       "  ),\n",
       "  (\n",
       "    \u001b[32m1695091554788L\u001b[39m,\n",
       "    \u001b[32m\"e96c4396-3fad-413a-a942-4cb36106d721\"\u001b[39m,\n",
       "    \u001b[32m\"rider-C\"\u001b[39m,\n",
       "    \u001b[32m\"driver-M\"\u001b[39m,\n",
       "    \u001b[32m27.7\u001b[39m,\n",
       "    \u001b[32m\"san_francisco\"\u001b[39m\n",
       "  ),\n",
       "  (\n",
       "    \u001b[32m1695046462179L\u001b[39m,\n",
       "    \u001b[32m\"9909a8b1-2d15-4d3d-8ec9-efc48c536a00\"\u001b[39m,\n",
       "    \u001b[32m\"rider-D\"\u001b[39m,\n",
       "    \u001b[32m\"driver-L\"\u001b[39m,\n",
       "    \u001b[32m33.9\u001b[39m,\n",
       "    \u001b[32m\"san_francisco\"\u001b[39m\n",
       "  ),\n",
       "  (\n",
       "    \u001b[32m1695516137016L\u001b[39m,\n",
       "    \u001b[32m\"e3cf430c-889d-4015-bc98-59bdce1e530c\"\u001b[39m,\n",
       "    \u001b[32m\"rider-F\"\u001b[39m,\n",
       "    \u001b[32m\"driver-P\"\u001b[39m,\n",
       "    \u001b[32m34.15\u001b[39m,\n",
       "    \u001b[32m\"sao_paulo\"\u001b[39m\n",
       "  ),\n",
       "  (\n",
       "    \u001b[32m1695115999911L\u001b[39m,\n",
       "    \u001b[32m\"c8abbe79-8d89-47ea-b4ce-4d224bae5bfa\"\u001b[39m,\n",
       "    \u001b[32m\"rider-J\"\u001b[39m,\n",
       "    \u001b[32m\"driver-T\"\u001b[39m,\n",
       "    \u001b[32m17.85\u001b[39m,\n",
       "...\n",
       "\u001b[36mtableName\u001b[39m: \u001b[32mString\u001b[39m = \u001b[32m\"trips_table\"\u001b[39m\n",
       "\u001b[36mbasePath\u001b[39m: \u001b[32mString\u001b[39m = \u001b[32m\"file:///tmp/hudi/trips_table\"\u001b[39m\n",
       "\u001b[36minserts\u001b[39m: \u001b[32mDataFrame\u001b[39m = [ts: bigint, uuid: string ... 4 more fields]"
      ]
     },
     "metadata": {},
     "output_type": "display_data"
    }
   ],
   "source": [
    "val columns = Seq(\"ts\",\"uuid\",\"rider\",\"driver\",\"fare\",\"city\")\n",
    "val data =\n",
    "  Seq((1695159649087L,\"334e26e9-8355-45cc-97c6-c31daf0df330\",\"rider-A\",\"driver-K\",19.10,\"san_francisco\"),\n",
    "    (1695091554788L,\"e96c4396-3fad-413a-a942-4cb36106d721\",\"rider-C\",\"driver-M\",27.70 ,\"san_francisco\"),\n",
    "    (1695046462179L,\"9909a8b1-2d15-4d3d-8ec9-efc48c536a00\",\"rider-D\",\"driver-L\",33.90 ,\"san_francisco\"),\n",
    "    (1695516137016L,\"e3cf430c-889d-4015-bc98-59bdce1e530c\",\"rider-F\",\"driver-P\",34.15,\"sao_paulo\"    ),\n",
    "    (1695115999911L,\"c8abbe79-8d89-47ea-b4ce-4d224bae5bfa\",\"rider-J\",\"driver-T\",17.85,\"chennai\"));\n",
    "\n",
    "val tableName = \"trips_table\"\n",
    "val basePath = \"file:///tmp/hudi/trips_table\"\n",
    "var inserts = spark.createDataFrame(data).toDF(columns:_*)\n",
    "\n",
    "inserts.write.format(\"hudi\").\n",
    "  option(\"hoodie.datasource.write.partitionpath.field\", \"city\").\n",
    "  option(\"hoodie.datasource.write.hive_style_partitioning\", \"true\"). // Force hive style dir naming for partitions.\n",
    "  option(\"hoodie.datasource.write.storage.type\", \"COPY_ON_WRITE\").\n",
    "  option(\"hoodie.table.name\", tableName).\n",
    "  mode(Overwrite).\n",
    "  save(basePath)\n",
    "\n"
   ]
  },
  {
   "cell_type": "code",
   "execution_count": 5,
   "metadata": {},
   "outputs": [
    {
     "name": "stdout",
     "output_type": "stream",
     "text": [
      "/tmp/hudi/\n",
      "└── trips_table\n",
      "    ├── .hoodie\n",
      "    │   ├── .aux\n",
      "    │   │   └── .bootstrap\n",
      "    │   │       ├── .fileids\n",
      "    │   │       └── .partitions\n",
      "    │   ├── .hoodie.properties.crc\n",
      "    │   ├── .schema\n",
      "    │   ├── .temp\n",
      "    │   ├── hoodie.properties\n",
      "    │   ├── metadata\n",
      "    │   │   ├── .hoodie\n",
      "    │   │   │   ├── .aux\n",
      "    │   │   │   │   └── .bootstrap\n",
      "    │   │   │   │       ├── .fileids\n",
      "    │   │   │   │       └── .partitions\n",
      "    │   │   │   ├── .hoodie.properties.crc\n",
      "    │   │   │   ├── .schema\n",
      "    │   │   │   ├── .temp\n",
      "    │   │   │   ├── hoodie.properties\n",
      "    │   │   │   └── timeline\n",
      "    │   │   │       ├── .00000000000000000.deltacommit.inflight.crc\n",
      "    │   │   │       ├── .00000000000000000.deltacommit.requested.crc\n",
      "    │   │   │       ├── .00000000000000000_20250303220645500.deltacommit.crc\n",
      "    │   │   │       ├── .20250303220644309.deltacommit.inflight.crc\n",
      "    │   │   │       ├── .20250303220644309.deltacommit.requested.crc\n",
      "    │   │   │       ├── .20250303220644309_20250303220647611.deltacommit.crc\n",
      "    │   │   │       ├── 00000000000000000.deltacommit.inflight\n",
      "    │   │   │       ├── 00000000000000000.deltacommit.requested\n",
      "    │   │   │       ├── 00000000000000000_20250303220645500.deltacommit\n",
      "    │   │   │       ├── 20250303220644309.deltacommit.inflight\n",
      "    │   │   │       ├── 20250303220644309.deltacommit.requested\n",
      "    │   │   │       ├── 20250303220644309_20250303220647611.deltacommit\n",
      "    │   │   │       └── history\n",
      "    │   │   └── files\n",
      "    │   │       ├── ..files-0000-0_00000000000000000.log.1_0-0-0.crc\n",
      "    │   │       ├── ..files-0000-0_20250303220644309.log.1_0-11-10.crc\n",
      "    │   │       ├── ..hoodie_partition_metadata.crc\n",
      "    │   │       ├── .files-0000-0_0-4-3_00000000000000000.hfile.crc\n",
      "    │   │       ├── .files-0000-0_00000000000000000.log.1_0-0-0\n",
      "    │   │       ├── .files-0000-0_20250303220644309.log.1_0-11-10\n",
      "    │   │       ├── .hoodie_partition_metadata\n",
      "    │   │       └── files-0000-0_0-4-3_00000000000000000.hfile\n",
      "    │   └── timeline\n",
      "    │       ├── .20250303220644309.commit.requested.crc\n",
      "    │       ├── .20250303220644309.inflight.crc\n",
      "    │       ├── .20250303220644309_20250303220647646.commit.crc\n",
      "    │       ├── 20250303220644309.commit.requested\n",
      "    │       ├── 20250303220644309.inflight\n",
      "    │       ├── 20250303220644309_20250303220647646.commit\n",
      "    │       └── history\n",
      "    ├── city=chennai\n",
      "    │   ├── ..hoodie_partition_metadata.crc\n",
      "    │   ├── .a3dec851-53dd-4d0b-8eff-c3d084817da0-2_0-6-0_20250303220644309.parquet.crc\n",
      "    │   ├── .hoodie_partition_metadata\n",
      "    │   └── a3dec851-53dd-4d0b-8eff-c3d084817da0-2_0-6-0_20250303220644309.parquet\n",
      "    ├── city=san_francisco\n",
      "    │   ├── ..hoodie_partition_metadata.crc\n",
      "    │   ├── .a3dec851-53dd-4d0b-8eff-c3d084817da0-0_0-6-0_20250303220644309.parquet.crc\n",
      "    │   ├── .hoodie_partition_metadata\n",
      "    │   └── a3dec851-53dd-4d0b-8eff-c3d084817da0-0_0-6-0_20250303220644309.parquet\n",
      "    └── city=sao_paulo\n",
      "        ├── ..hoodie_partition_metadata.crc\n",
      "        ├── .a3dec851-53dd-4d0b-8eff-c3d084817da0-1_0-6-0_20250303220644309.parquet.crc\n",
      "        ├── .hoodie_partition_metadata\n",
      "        └── a3dec851-53dd-4d0b-8eff-c3d084817da0-1_0-6-0_20250303220644309.parquet\n",
      "\n",
      "24 directories, 42 files\n",
      "\n"
     ]
    },
    {
     "data": {
      "text/html": [
       "<div class=\"jp-RenderedText\">\n",
       "<pre><code><span style=\"color: rgb(0, 187, 187)\"><span class=\"ansi-cyan-fg\">result</span></span>: <span style=\"color: rgb(0, 187, 0)\"><span class=\"ansi-green-fg\">String</span></span> = <span style=\"color: white\"><span class=\"ansi-white-fg\">[lazy]</span></span></code></pre>\n",
       "</div>"
      ],
      "text/plain": [
       "\u001b[36mresult\u001b[39m: \u001b[32mString\u001b[39m = \u001b[37m[lazy]\u001b[39m"
      ]
     },
     "metadata": {},
     "output_type": "display_data"
    }
   ],
   "source": [
    "lazy val result = \"tree -a /tmp/hudi/\".!!\n",
    "println(result)"
   ]
  },
  {
   "cell_type": "markdown",
   "metadata": {},
   "source": [
    "* If we check the Hudi table dir, we can find several parquet files.\n",
    "* Here we have 1 parquet file for each city/partition.\n",
    "* This is because we set the number of worker to 1 and the file is tiny."
   ]
  },
  {
   "cell_type": "code",
   "execution_count": 6,
   "metadata": {},
   "outputs": [
    {
     "name": "stdout",
     "output_type": "stream",
     "text": [
      "2025-03-03 22:06:47.301991358 +0900 435952 /tmp/hudi/trips_table/city=sao_paulo/a3dec851-53dd-4d0b-8eff-c3d084817da0-1_0-6-0_20250303220644309.parquet\n",
      "2025-03-03 22:06:47.301991358 +0900 436124 /tmp/hudi/trips_table/city=san_francisco/a3dec851-53dd-4d0b-8eff-c3d084817da0-0_0-6-0_20250303220644309.parquet\n",
      "2025-03-03 22:06:47.312218400 +0900 435923 /tmp/hudi/trips_table/city=chennai/a3dec851-53dd-4d0b-8eff-c3d084817da0-2_0-6-0_20250303220644309.parquet\n",
      "\n"
     ]
    },
    {
     "data": {
      "text/html": [
       "<div class=\"jp-RenderedText\">\n",
       "<pre><code><span style=\"color: rgb(0, 187, 187)\"><span class=\"ansi-cyan-fg\">command</span></span>: <span style=\"color: rgb(0, 187, 0)\"><span class=\"ansi-green-fg\">String</span></span> = <span style=\"color: rgb(0, 187, 0)\"><span class=\"ansi-green-fg\">&quot;find /tmp/hudi/trips_table -name \\\\\\&quot;*.parquet\\\\\\&quot; -exec stat -c \\\\\\&quot;%y %s %n\\\\\\&quot; {} + | sort&quot;</span></span>\n",
       "<span style=\"color: rgb(0, 187, 187)\"><span class=\"ansi-cyan-fg\">result</span></span>: <span style=\"color: rgb(0, 187, 0)\"><span class=\"ansi-green-fg\">String</span></span> = <span style=\"color: white\"><span class=\"ansi-white-fg\">[lazy]</span></span></code></pre>\n",
       "</div>"
      ],
      "text/plain": [
       "\u001b[36mcommand\u001b[39m: \u001b[32mString\u001b[39m = \u001b[32m\"find /tmp/hudi/trips_table -name \\\\\\\"*.parquet\\\\\\\" -exec stat -c \\\\\\\"%y %s %n\\\\\\\" {} + | sort\"\u001b[39m\n",
       "\u001b[36mresult\u001b[39m: \u001b[32mString\u001b[39m = \u001b[37m[lazy]\u001b[39m"
      ]
     },
     "metadata": {},
     "output_type": "display_data"
    }
   ],
   "source": [
    "val command = \"find /tmp/hudi/trips_table -name \\\\\\\"*.parquet\\\\\\\" -exec stat -c \\\\\\\"%y %s %n\\\\\\\" {} + | sort\"\n",
    "lazy val result = Seq(\"bash\", \"-c\", s\"eval $command\").!!\n",
    "println(result)"
   ]
  },
  {
   "cell_type": "markdown",
   "metadata": {},
   "source": [
    "### Query data"
   ]
  },
  {
   "cell_type": "code",
   "execution_count": 7,
   "metadata": {},
   "outputs": [
    {
     "name": "stdout",
     "output_type": "stream",
     "text": [
      "+--------------------+-----+-------------+-------+--------+-------------+\n",
      "|                uuid| fare|           ts|  rider|  driver|         city|\n",
      "+--------------------+-----+-------------+-------+--------+-------------+\n",
      "|e96c4396-3fad-413...| 27.7|1695091554788|rider-C|driver-M|san_francisco|\n",
      "|9909a8b1-2d15-4d3...| 33.9|1695046462179|rider-D|driver-L|san_francisco|\n",
      "|e3cf430c-889d-401...|34.15|1695516137016|rider-F|driver-P|    sao_paulo|\n",
      "+--------------------+-----+-------------+-------+--------+-------------+\n",
      "\n",
      "+-------------------+--------------------+----------------------+-------+--------+-----+\n",
      "|_hoodie_commit_time|  _hoodie_record_key|_hoodie_partition_path|  rider|  driver| fare|\n",
      "+-------------------+--------------------+----------------------+-------+--------+-----+\n",
      "|  20250303220644309|20250303220644309...|    city=san_francisco|rider-A|driver-K| 19.1|\n",
      "|  20250303220644309|20250303220644309...|    city=san_francisco|rider-C|driver-M| 27.7|\n",
      "|  20250303220644309|20250303220644309...|    city=san_francisco|rider-D|driver-L| 33.9|\n",
      "|  20250303220644309|20250303220644309...|        city=sao_paulo|rider-F|driver-P|34.15|\n",
      "|  20250303220644309|20250303220644309...|          city=chennai|rider-J|driver-T|17.85|\n",
      "+-------------------+--------------------+----------------------+-------+--------+-----+\n",
      "\n"
     ]
    },
    {
     "data": {
      "text/plain": [
       "\u001b[36mtripsDF\u001b[39m: \u001b[32mDataFrame\u001b[39m = [_hoodie_commit_time: string, _hoodie_commit_seqno: string ... 9 more fields]"
      ]
     },
     "execution_count": 7,
     "metadata": {},
     "output_type": "execute_result"
    }
   ],
   "source": [
    "val tripsDF = spark.read.format(\"hudi\").load(basePath)\n",
    "tripsDF.createOrReplaceTempView(\"trips_table\")\n",
    "\n",
    "spark.sql(\"SELECT uuid, fare, ts, rider, driver, city FROM  trips_table WHERE fare > 20.0\").show()\n",
    "spark.sql(\"SELECT _hoodie_commit_time, _hoodie_record_key, _hoodie_partition_path, rider, driver, fare FROM  trips_table\").show()"
   ]
  },
  {
   "cell_type": "markdown",
   "metadata": {},
   "source": [
    "### Update data"
   ]
  },
  {
   "cell_type": "code",
   "execution_count": 8,
   "metadata": {},
   "outputs": [
    {
     "data": {
      "text/plain": [
       "\u001b[32mimport \u001b[39m\u001b[36mspark.implicits._\u001b[39m\n",
       "\u001b[36mupdatesDf\u001b[39m: \u001b[32mDataFrame\u001b[39m = [_hoodie_commit_time: string, _hoodie_commit_seqno: string ... 9 more fields]"
      ]
     },
     "execution_count": 8,
     "metadata": {},
     "output_type": "execute_result"
    }
   ],
   "source": [
    "// Lets read data from target Hudi table, modify fare column for rider-D and update it. \n",
    "import spark.implicits._\n",
    "val updatesDf = spark.read.format(\"hudi\").load(basePath).filter($\"rider\" === \"rider-D\").withColumn(\"fare\", col(\"fare\") * 10)\n",
    "\n",
    "updatesDf.write.format(\"hudi\").\n",
    "  option(\"hoodie.datasource.write.operation\", \"upsert\").\n",
    "  option(\"hoodie.datasource.write.partitionpath.field\", \"city\").\n",
    "  option(\"hoodie.table.name\", tableName).\n",
    "  mode(Append).\n",
    "  save(basePath)"
   ]
  },
  {
   "cell_type": "markdown",
   "metadata": {},
   "source": [
    "* Notice after the update, we have 2 commit files and 3 deltacommit files (1 is initial state for table creation, labeled all 0)."
   ]
  },
  {
   "cell_type": "code",
   "execution_count": 9,
   "metadata": {},
   "outputs": [
    {
     "name": "stdout",
     "output_type": "stream",
     "text": [
      "/tmp/hudi/trips_table\n",
      "├── .hoodie\n",
      "│   ├── .aux\n",
      "│   │   └── .bootstrap\n",
      "│   │       ├── .fileids\n",
      "│   │       └── .partitions\n",
      "│   ├── .hoodie.properties.crc\n",
      "│   ├── .schema\n",
      "│   ├── .temp\n",
      "│   ├── hoodie.properties\n",
      "│   ├── metadata\n",
      "│   │   ├── .hoodie\n",
      "│   │   │   ├── .aux\n",
      "│   │   │   │   └── .bootstrap\n",
      "│   │   │   │       ├── .fileids\n",
      "│   │   │   │       └── .partitions\n",
      "│   │   │   ├── .hoodie.properties.crc\n",
      "│   │   │   ├── .schema\n",
      "│   │   │   ├── .temp\n",
      "│   │   │   ├── hoodie.properties\n",
      "│   │   │   └── timeline\n",
      "│   │   │       ├── .00000000000000000.deltacommit.inflight.crc\n",
      "│   │   │       ├── .00000000000000000.deltacommit.requested.crc\n",
      "│   │   │       ├── .00000000000000000_20250303220645500.deltacommit.crc\n",
      "│   │   │       ├── .20250303220644309.deltacommit.inflight.crc\n",
      "│   │   │       ├── .20250303220644309.deltacommit.requested.crc\n",
      "│   │   │       ├── .20250303220644309_20250303220647611.deltacommit.crc\n",
      "│   │   │       ├── .20250303220705496.deltacommit.inflight.crc\n",
      "│   │   │       ├── .20250303220705496.deltacommit.requested.crc\n",
      "│   │   │       ├── .20250303220705496_20250303220706320.deltacommit.crc\n",
      "│   │   │       ├── 00000000000000000.deltacommit.inflight\n",
      "│   │   │       ├── 00000000000000000.deltacommit.requested\n",
      "│   │   │       ├── 00000000000000000_20250303220645500.deltacommit\n",
      "│   │   │       ├── 20250303220644309.deltacommit.inflight\n",
      "│   │   │       ├── 20250303220644309.deltacommit.requested\n",
      "│   │   │       ├── 20250303220644309_20250303220647611.deltacommit\n",
      "│   │   │       ├── 20250303220705496.deltacommit.inflight\n",
      "│   │   │       ├── 20250303220705496.deltacommit.requested\n",
      "│   │   │       ├── 20250303220705496_20250303220706320.deltacommit\n",
      "│   │   │       └── history\n",
      "│   │   └── files\n",
      "│   │       ├── ..files-0000-0_00000000000000000.log.1_0-0-0.crc\n",
      "│   │       ├── ..files-0000-0_20250303220644309.log.1_0-11-10.crc\n",
      "│   │       ├── ..files-0000-0_20250303220705496.log.1_0-26-27.crc\n",
      "│   │       ├── ..hoodie_partition_metadata.crc\n",
      "│   │       ├── .files-0000-0_0-4-3_00000000000000000.hfile.crc\n",
      "│   │       ├── .files-0000-0_00000000000000000.log.1_0-0-0\n",
      "│   │       ├── .files-0000-0_20250303220644309.log.1_0-11-10\n",
      "│   │       ├── .files-0000-0_20250303220705496.log.1_0-26-27\n",
      "│   │       ├── .hoodie_partition_metadata\n",
      "│   │       └── files-0000-0_0-4-3_00000000000000000.hfile\n",
      "│   └── timeline\n",
      "│       ├── .20250303220644309.commit.requested.crc\n",
      "│       ├── .20250303220644309.inflight.crc\n",
      "│       ├── .20250303220644309_20250303220647646.commit.crc\n",
      "│       ├── .20250303220705496.commit.requested.crc\n",
      "│       ├── .20250303220705496.inflight.crc\n",
      "│       ├── .20250303220705496_20250303220706345.commit.crc\n",
      "│       ├── 20250303220644309.commit.requested\n",
      "│       ├── 20250303220644309.inflight\n",
      "│       ├── 20250303220644309_20250303220647646.commit\n",
      "│       ├── 20250303220705496.commit.requested\n",
      "│       ├── 20250303220705496.inflight\n",
      "│       ├── 20250303220705496_20250303220706345.commit\n",
      "│       └── history\n",
      "├── city=chennai\n",
      "│   ├── ..hoodie_partition_metadata.crc\n",
      "│   ├── .a3dec851-53dd-4d0b-8eff-c3d084817da0-2_0-6-0_20250303220644309.parquet.crc\n",
      "│   ├── .hoodie_partition_metadata\n",
      "│   └── a3dec851-53dd-4d0b-8eff-c3d084817da0-2_0-6-0_20250303220644309.parquet\n",
      "├── city=san_francisco\n",
      "│   ├── ..hoodie_partition_metadata.crc\n",
      "│   ├── .a3dec851-53dd-4d0b-8eff-c3d084817da0-0_0-20-22_20250303220705496.parquet.crc\n",
      "│   ├── .a3dec851-53dd-4d0b-8eff-c3d084817da0-0_0-6-0_20250303220644309.parquet.crc\n",
      "│   ├── .hoodie_partition_metadata\n",
      "│   ├── a3dec851-53dd-4d0b-8eff-c3d084817da0-0_0-20-22_20250303220705496.parquet\n",
      "│   └── a3dec851-53dd-4d0b-8eff-c3d084817da0-0_0-6-0_20250303220644309.parquet\n",
      "└── city=sao_paulo\n",
      "    ├── ..hoodie_partition_metadata.crc\n",
      "    ├── .a3dec851-53dd-4d0b-8eff-c3d084817da0-1_0-6-0_20250303220644309.parquet.crc\n",
      "    ├── .hoodie_partition_metadata\n",
      "    └── a3dec851-53dd-4d0b-8eff-c3d084817da0-1_0-6-0_20250303220644309.parquet\n",
      "\n",
      "23 directories, 58 files\n",
      "\n"
     ]
    },
    {
     "data": {
      "text/html": [
       "<div class=\"jp-RenderedText\">\n",
       "<pre><code><span style=\"color: rgb(0, 187, 187)\"><span class=\"ansi-cyan-fg\">result</span></span>: <span style=\"color: rgb(0, 187, 0)\"><span class=\"ansi-green-fg\">String</span></span> = <span style=\"color: white\"><span class=\"ansi-white-fg\">[lazy]</span></span></code></pre>\n",
       "</div>"
      ],
      "text/plain": [
       "\u001b[36mresult\u001b[39m: \u001b[32mString\u001b[39m = \u001b[37m[lazy]\u001b[39m"
      ]
     },
     "metadata": {},
     "output_type": "display_data"
    }
   ],
   "source": [
    "lazy val result = \"tree -a /tmp/hudi/trips_table\".!!\n",
    "println(result)"
   ]
  },
  {
   "cell_type": "markdown",
   "metadata": {},
   "source": [
    "* Lets observe the parquet files in the update.\n",
    "* Note the original has smaller timestamp and newer one has larger timestamp."
   ]
  },
  {
   "cell_type": "code",
   "execution_count": 15,
   "metadata": {},
   "outputs": [
    {
     "name": "stdout",
     "output_type": "stream",
     "text": [
      "2025-03-03 22:06:47.301991358 +0900 435952 /tmp/hudi/trips_table/city=sao_paulo/a3dec851-53dd-4d0b-8eff-c3d084817da0-1_0-6-0_20250303220644309.parquet\n",
      "2025-03-03 22:06:47.301991358 +0900 436124 /tmp/hudi/trips_table/city=san_francisco/a3dec851-53dd-4d0b-8eff-c3d084817da0-0_0-6-0_20250303220644309.parquet\n",
      "2025-03-03 22:06:47.312218400 +0900 435923 /tmp/hudi/trips_table/city=chennai/a3dec851-53dd-4d0b-8eff-c3d084817da0-2_0-6-0_20250303220644309.parquet\n",
      "2025-03-03 22:07:06.088845410 +0900 436098 /tmp/hudi/trips_table/city=san_francisco/a3dec851-53dd-4d0b-8eff-c3d084817da0-0_0-20-22_20250303220705496.parquet\n",
      "\n"
     ]
    },
    {
     "data": {
      "text/html": [
       "<div class=\"jp-RenderedText\">\n",
       "<pre><code><span style=\"color: rgb(0, 187, 187)\"><span class=\"ansi-cyan-fg\">command</span></span>: <span style=\"color: rgb(0, 187, 0)\"><span class=\"ansi-green-fg\">String</span></span> = <span style=\"color: rgb(0, 187, 0)\"><span class=\"ansi-green-fg\">&quot;find /tmp/hudi/trips_table -name \\&quot;*.parquet\\&quot; -exec stat -c \\\\\\&quot;%y %s %n\\\\\\&quot; {} + | sort&quot;</span></span>\n",
       "<span style=\"color: rgb(0, 187, 187)\"><span class=\"ansi-cyan-fg\">result</span></span>: <span style=\"color: rgb(0, 187, 0)\"><span class=\"ansi-green-fg\">String</span></span> = <span style=\"color: white\"><span class=\"ansi-white-fg\">[lazy]</span></span></code></pre>\n",
       "</div>"
      ],
      "text/plain": [
       "\u001b[36mcommand\u001b[39m: \u001b[32mString\u001b[39m = \u001b[32m\"find /tmp/hudi/trips_table -name \\\"*.parquet\\\" -exec stat -c \\\\\\\"%y %s %n\\\\\\\" {} + | sort\"\u001b[39m\n",
       "\u001b[36mresult\u001b[39m: \u001b[32mString\u001b[39m = \u001b[37m[lazy]\u001b[39m"
      ]
     },
     "metadata": {},
     "output_type": "display_data"
    }
   ],
   "source": [
    "val command = \"\"\"find /tmp/hudi/trips_table -name \"*.parquet\" -exec stat -c \\\"%y %s %n\\\" {} + | sort\"\"\"\n",
    "lazy val result = Seq(\"bash\", \"-c\", s\"eval $command\").!!\n",
    "println(result)"
   ]
  },
  {
   "cell_type": "markdown",
   "metadata": {},
   "source": [
    "#### Observing updated partition (san_francisco)\n",
    "* With COPY_ON_WRITE (CoW), modified row forces the recreation of the affected file (not the whole partition).\n",
    "* In our case we have only 1 file, so we recreate the entire partition.\n",
    "* If we have more than 1 file, only the affected file is recreated (try with local[*]).\n",
    "* This means, for every write, Hudi must find the affected file and rewrite the entire file.\n",
    "    * This is why CoW is more expensive than MERGE_ON_READ for writes."
   ]
  },
  {
   "cell_type": "code",
   "execution_count": 18,
   "metadata": {},
   "outputs": [
    {
     "name": "stdout",
     "output_type": "stream",
     "text": [
      "2025-03-03 22:06:47.301991358 +0900 436124 /tmp/hudi/trips_table/city=san_francisco/a3dec851-53dd-4d0b-8eff-c3d084817da0-0_0-6-0_20250303220644309.parquet\n",
      "+-------------------+---------------------+---------------------+----------------------+----------------------------------------------------------------------+-------------+------------------------------------+-------+--------+----+-------------+\n",
      "|_hoodie_commit_time|_hoodie_commit_seqno |_hoodie_record_key   |_hoodie_partition_path|_hoodie_file_name                                                     |ts           |uuid                                |rider  |driver  |fare|city         |\n",
      "+-------------------+---------------------+---------------------+----------------------+----------------------------------------------------------------------+-------------+------------------------------------+-------+--------+----+-------------+\n",
      "|20250303220644309  |20250303220644309_0_1|20250303220644309_0_0|city=san_francisco    |a3dec851-53dd-4d0b-8eff-c3d084817da0-0_0-6-0_20250303220644309.parquet|1695159649087|334e26e9-8355-45cc-97c6-c31daf0df330|rider-A|driver-K|19.1|san_francisco|\n",
      "|20250303220644309  |20250303220644309_0_2|20250303220644309_0_1|city=san_francisco    |a3dec851-53dd-4d0b-8eff-c3d084817da0-0_0-6-0_20250303220644309.parquet|1695091554788|e96c4396-3fad-413a-a942-4cb36106d721|rider-C|driver-M|27.7|san_francisco|\n",
      "|20250303220644309  |20250303220644309_0_3|20250303220644309_0_2|city=san_francisco    |a3dec851-53dd-4d0b-8eff-c3d084817da0-0_0-6-0_20250303220644309.parquet|1695046462179|9909a8b1-2d15-4d3d-8ec9-efc48c536a00|rider-D|driver-L|33.9|san_francisco|\n",
      "+-------------------+---------------------+---------------------+----------------------+----------------------------------------------------------------------+-------------+------------------------------------+-------+--------+----+-------------+\n",
      "\n",
      "\n",
      "2025-03-03 22:07:06.088845410 +0900 436098 /tmp/hudi/trips_table/city=san_francisco/a3dec851-53dd-4d0b-8eff-c3d084817da0-0_0-20-22_20250303220705496.parquet\n",
      "+-------------------+---------------------+---------------------+----------------------+------------------------------------------------------------------------+-------------+------------------------------------+-------+--------+-----+-------------+\n",
      "|_hoodie_commit_time|_hoodie_commit_seqno |_hoodie_record_key   |_hoodie_partition_path|_hoodie_file_name                                                       |ts           |uuid                                |rider  |driver  |fare |city         |\n",
      "+-------------------+---------------------+---------------------+----------------------+------------------------------------------------------------------------+-------------+------------------------------------+-------+--------+-----+-------------+\n",
      "|20250303220644309  |20250303220644309_0_1|20250303220644309_0_0|city=san_francisco    |a3dec851-53dd-4d0b-8eff-c3d084817da0-0_0-20-22_20250303220705496.parquet|1695159649087|334e26e9-8355-45cc-97c6-c31daf0df330|rider-A|driver-K|19.1 |san_francisco|\n",
      "|20250303220644309  |20250303220644309_0_2|20250303220644309_0_1|city=san_francisco    |a3dec851-53dd-4d0b-8eff-c3d084817da0-0_0-20-22_20250303220705496.parquet|1695091554788|e96c4396-3fad-413a-a942-4cb36106d721|rider-C|driver-M|27.7 |san_francisco|\n",
      "|20250303220705496  |20250303220705496_0_2|20250303220644309_0_2|city=san_francisco    |a3dec851-53dd-4d0b-8eff-c3d084817da0-0_0-20-22_20250303220705496.parquet|1695046462179|9909a8b1-2d15-4d3d-8ec9-efc48c536a00|rider-D|driver-L|339.0|san_francisco|\n",
      "+-------------------+---------------------+---------------------+----------------------+------------------------------------------------------------------------+-------------+------------------------------------+-------+--------+-----+-------------+\n",
      "\n",
      "\n"
     ]
    },
    {
     "data": {
      "text/html": [
       "<div class=\"jp-RenderedText\">\n",
       "<pre><code><span style=\"color: rgb(0, 187, 187)\"><span class=\"ansi-cyan-fg\">command</span></span>: <span style=\"color: rgb(0, 187, 0)\"><span class=\"ansi-green-fg\">String</span></span> = <span style=\"color: rgb(0, 187, 0)\"><span class=\"ansi-green-fg\">&quot;find /tmp/hudi/trips_table -path \\&quot;*san_francisco*\\&quot; -name \\&quot;*.parquet\\&quot; -exec stat -c \\\\\\&quot;%y %s %n\\\\\\&quot; {} + | sort&quot;</span></span>\n",
       "<span style=\"color: rgb(0, 187, 187)\"><span class=\"ansi-cyan-fg\">result</span></span>: <span style=\"color: rgb(0, 187, 0)\"><span class=\"ansi-green-fg\">String</span></span> = <span style=\"color: white\"><span class=\"ansi-white-fg\">[lazy]</span></span>\n",
       "<span style=\"color: rgb(0, 187, 187)\"><span class=\"ansi-cyan-fg\">parquetPaths</span></span>: <span style=\"color: rgb(0, 187, 0)\"><span class=\"ansi-green-fg\">Array</span></span>[<span style=\"color: rgb(0, 187, 0)\"><span class=\"ansi-green-fg\">String</span></span>] = <span style=\"color: white\"><span class=\"ansi-white-fg\">[lazy]</span></span></code></pre>\n",
       "</div>"
      ],
      "text/plain": [
       "\u001b[36mcommand\u001b[39m: \u001b[32mString\u001b[39m = \u001b[32m\"find /tmp/hudi/trips_table -path \\\"*san_francisco*\\\" -name \\\"*.parquet\\\" -exec stat -c \\\\\\\"%y %s %n\\\\\\\" {} + | sort\"\u001b[39m\n",
       "\u001b[36mresult\u001b[39m: \u001b[32mString\u001b[39m = \u001b[37m[lazy]\u001b[39m\n",
       "\u001b[36mparquetPaths\u001b[39m: \u001b[32mArray\u001b[39m[\u001b[32mString\u001b[39m] = \u001b[37m[lazy]\u001b[39m"
      ]
     },
     "metadata": {},
     "output_type": "display_data"
    }
   ],
   "source": [
    "val command = \"\"\"find /tmp/hudi/trips_table -path \"*san_francisco*\" -name \"*.parquet\" -exec stat -c \\\"%y %s %n\\\" {} + | sort\"\"\"\n",
    "lazy val result = Seq(\"bash\", \"-c\", s\"eval $command\").!!\n",
    "lazy val parquetPaths = result.split(\"\\n\")\n",
    "for(parquetPath <- parquetPaths){\n",
    "    val path = parquetPath.split(\" \")(4)\n",
    "    println(parquetPath)\n",
    "    spark.read.format(\"parquet\").load(path).show(truncate=false)\n",
    "    println()\n",
    "}"
   ]
  },
  {
   "cell_type": "markdown",
   "metadata": {},
   "source": [
    "#### Inspecting commit files.\n",
    "* There are two commit files: deltacommit and commit.\n",
    "    * deltacommit contains the partition write stats (files and their metadata).\n",
    "    * commit contains the updated partitions and their files plus schema for the file.\n",
    "* https://github.com/apache/hudi/issues/2288\n",
    "    * Each file is created with extra extensions instead of renamed to improve compatibility with different DFSs.\n",
    "    * Might be an issue for some DFS because it might creates too many tiny files.\n",
    "    * Can be expensive for metadata server."
   ]
  },
  {
   "cell_type": "code",
   "execution_count": 19,
   "metadata": {},
   "outputs": [
    {
     "name": "stdout",
     "output_type": "stream",
     "text": [
      "+--------------+---------------------------------------------------------------------------------------------------------------------------------------------------------------------------------------------------------------------------+-----------------------------------------------------------------------------------------------------------------------------------------------------------------------------------------------------------------------------------------------------------------------------------------------------------------------------------------------------------------------------------------------------------------------------------------------------------------------------------------------------------------------------------------------------------------------------------------------------------------------------------------------------------------------------------------------------------------------------------------------------------------------------------------------------------------------------------------------------------------------------------------------------------------------------------------------------------------------------------------------------------------------------------------------------------------------------------------------------------------------------------------------------------------------------------------------------------------------------------------------------------------------------------------------------------------------------------------------------------------------------------------------------------------------------------------------------------------------------------------------------------------------------------------------------------------------------------------------------------------------------------------------------------------------------------------------------------------------------------------------------------------------------------------------------------------------------------------------------------------------------------------------------------------------------------------------------------------------------------------------------------------------------------------------------------------------------------------------------------------------------------------------------------------------------------------------------------------------------------------------------------------------------------------------------------------------------------------------------------------------------------------------------------------------------------------------------------------------------------------------------------------------------------------------------------------------------------------------------------------------------------------------------------------------------------------------------------------------------------------------------------------------------------------------------------------------------------------------------------------------------------------------------------------------------------------------------------------------------------------------------------------------------------------------------------------------------------------------------------------------------------------------------------------------------------------------------------------------------------------------------------------------------------------------------------------------------------------------------------------------------------------------------------------------------------------------------------------------------------------------------------------------------------------------------------------------------------------------------------------------------------------------------------------------------------------------------------------------------------------------------------------------------------------------------------------------------------------------------------------------------------------------------------------------------------------------------------------------------------------------------------------------------------------------------------------------------------------------------------------------------------------------------------------------------------------------------------------------------------------------------------------------------------------------------------------------------------------------------------------------------------------------------------------------------------------------------------------------------------------------------------------------------------------------------------------------------------------------------------------------------------------------------------------------------------------------------------------------------------------------------------------------------------------------------------------------------------------------------------------------------------------------------------------------------------------------------------------------------------------------------------------------------------------------------------------------------------------------------------------------------------------------------------------------------------------------------------------------------------------------------------------------------------------------------------------------------------------------------------------------------------------------------------------------------------------------------------------------------------------------------------------------------------------------------------------------------------------------------------------------------------------------------------------------------------------------------------------------------------------------------------------------------------------------------------------------------------------------------------------------------------------------------------------------------------------------------------------------------------------------------------------------------------------------------------------------------------------------------------------------------------------------------------------------------------------------------------------------------------------------------------------------------------------------------------------------------------------------------------------------------------------------------------------------------------------------------------------------------------------------------------------------------------------------------------------------------------------------------------------------------------------------------------------------------------------------------------------------------------------------------------------------------------------------------------------------------------------------------------------------------------------------------------------------------------------------------------------------------------------------------------------------------------------------------------------------------------------------------------------------------------------------------------------------------------------------------------------------------------------------------------------------------------------------------------------------------------------------------------------------------------------------------------------------------------------------------------------------------------------------------------------------------------------------------------------------------------------------------------------------------------------------------------------------------------------------+-------+\n",
      "|operationType |partitionToWriteStats                                                                                                                                                                                                      |extraMetadata                                                                                                                                                                                                                                                                                                                                                                                                                                                                                                                                                                                                                                                                                                                                                                                                                                                                                                                                                                                                                                                                                                                                                                                                                                                                                                                                                                                                                                                                                                                                                                                                                                                                                                                                                                                                                                                                                                                                                                                                                                                                                                                                                                                                                                                                                                                                                                                                                                                                                                                                                                                                                                                                                                                                                                                                                                                                                                                                                                                                                                                                                                                                                                                                                                                                                                                                                                                                                                                                                                                                                                                                                                                                                                                                                                                                                                                                                                                                                                                                                                                                                                                                                                                                                                                                                                                                                                                                                                                                                                                                                                                                                                                                                                                                                                                                                                                                                                                                                                                                                                                                                                                                                                                                                                                                                                                                                                                                                                                                                                                                                                                                                                                                                                                                                                                                                                                                                                                                                                                                                                                                                                                                                                                                                                                                                                                                                                                                                                                                                                                                                                                                                                                                                                                                                                                                                                                                                                                                                                                                                                                                                                                                                                                                                                                                                                                                                                                                                                                                                                                                                                                                                                                                                  |version|\n",
      "+--------------+---------------------------------------------------------------------------------------------------------------------------------------------------------------------------------------------------------------------------+-----------------------------------------------------------------------------------------------------------------------------------------------------------------------------------------------------------------------------------------------------------------------------------------------------------------------------------------------------------------------------------------------------------------------------------------------------------------------------------------------------------------------------------------------------------------------------------------------------------------------------------------------------------------------------------------------------------------------------------------------------------------------------------------------------------------------------------------------------------------------------------------------------------------------------------------------------------------------------------------------------------------------------------------------------------------------------------------------------------------------------------------------------------------------------------------------------------------------------------------------------------------------------------------------------------------------------------------------------------------------------------------------------------------------------------------------------------------------------------------------------------------------------------------------------------------------------------------------------------------------------------------------------------------------------------------------------------------------------------------------------------------------------------------------------------------------------------------------------------------------------------------------------------------------------------------------------------------------------------------------------------------------------------------------------------------------------------------------------------------------------------------------------------------------------------------------------------------------------------------------------------------------------------------------------------------------------------------------------------------------------------------------------------------------------------------------------------------------------------------------------------------------------------------------------------------------------------------------------------------------------------------------------------------------------------------------------------------------------------------------------------------------------------------------------------------------------------------------------------------------------------------------------------------------------------------------------------------------------------------------------------------------------------------------------------------------------------------------------------------------------------------------------------------------------------------------------------------------------------------------------------------------------------------------------------------------------------------------------------------------------------------------------------------------------------------------------------------------------------------------------------------------------------------------------------------------------------------------------------------------------------------------------------------------------------------------------------------------------------------------------------------------------------------------------------------------------------------------------------------------------------------------------------------------------------------------------------------------------------------------------------------------------------------------------------------------------------------------------------------------------------------------------------------------------------------------------------------------------------------------------------------------------------------------------------------------------------------------------------------------------------------------------------------------------------------------------------------------------------------------------------------------------------------------------------------------------------------------------------------------------------------------------------------------------------------------------------------------------------------------------------------------------------------------------------------------------------------------------------------------------------------------------------------------------------------------------------------------------------------------------------------------------------------------------------------------------------------------------------------------------------------------------------------------------------------------------------------------------------------------------------------------------------------------------------------------------------------------------------------------------------------------------------------------------------------------------------------------------------------------------------------------------------------------------------------------------------------------------------------------------------------------------------------------------------------------------------------------------------------------------------------------------------------------------------------------------------------------------------------------------------------------------------------------------------------------------------------------------------------------------------------------------------------------------------------------------------------------------------------------------------------------------------------------------------------------------------------------------------------------------------------------------------------------------------------------------------------------------------------------------------------------------------------------------------------------------------------------------------------------------------------------------------------------------------------------------------------------------------------------------------------------------------------------------------------------------------------------------------------------------------------------------------------------------------------------------------------------------------------------------------------------------------------------------------------------------------------------------------------------------------------------------------------------------------------------------------------------------------------------------------------------------------------------------------------------------------------------------------------------------------------------------------------------------------------------------------------------------------------------------------------------------------------------------------------------------------------------------------------------------------------------------------------------------------------------------------------------------------------------------------------------------------------------------------------------+-------+\n",
      "|UPSERT_PREPPED|{files -> [{files-0000-0, files/.files-0000-0_20250303220644309.log.1_0-11-10, 20250303220644309, 4, 0, 4, 14237, 0, files, 0, null, 0, 0, 0, 0, 0, 14237, 1, 0, , [.files-0000-0_20250303220644309.log.1_0-11-10], null}]}|{schema -> {\"type\":\"record\",\"name\":\"HoodieMetadataRecord\",\"namespace\":\"org.apache.hudi.avro.model\",\"doc\":\"A record saved within the Metadata Table\",\"fields\":[{\"name\":\"key\",\"type\":{\"type\":\"string\",\"avro.java.string\":\"String\"}},{\"name\":\"type\",\"type\":\"int\",\"doc\":\"Type of the metadata record\"},{\"name\":\"filesystemMetadata\",\"type\":[\"null\",{\"type\":\"map\",\"values\":{\"type\":\"record\",\"name\":\"HoodieMetadataFileInfo\",\"fields\":[{\"name\":\"size\",\"type\":\"long\",\"doc\":\"Size of the file\"},{\"name\":\"isDeleted\",\"type\":\"boolean\",\"doc\":\"True if this file has been deleted\"}]},\"avro.java.string\":\"String\"}],\"doc\":\"Contains information about partitions and files within the dataset\"},{\"name\":\"BloomFilterMetadata\",\"type\":[\"null\",{\"type\":\"record\",\"name\":\"HoodieMetadataBloomFilter\",\"doc\":\"Data file bloom filter details\",\"fields\":[{\"name\":\"type\",\"type\":{\"type\":\"string\",\"avro.java.string\":\"String\"},\"doc\":\"Bloom filter type code\"},{\"name\":\"timestamp\",\"type\":{\"type\":\"string\",\"avro.java.string\":\"String\"},\"doc\":\"Instant timestamp when this metadata was created/updated\"},{\"name\":\"bloomFilter\",\"type\":\"bytes\",\"doc\":\"Bloom filter binary byte array\"},{\"name\":\"isDeleted\",\"type\":\"boolean\",\"doc\":\"Bloom filter entry valid/deleted flag\"}]}],\"doc\":\"Metadata Index of bloom filters for all data files in the user table\",\"default\":null},{\"name\":\"ColumnStatsMetadata\",\"type\":[\"null\",{\"type\":\"record\",\"name\":\"HoodieMetadataColumnStats\",\"doc\":\"Data file column statistics\",\"fields\":[{\"name\":\"fileName\",\"type\":[\"null\",{\"type\":\"string\",\"avro.java.string\":\"String\"}],\"doc\":\"File name for which this column statistics applies\",\"default\":null},{\"name\":\"columnName\",\"type\":[\"null\",{\"type\":\"string\",\"avro.java.string\":\"String\"}],\"doc\":\"Column name for which this column statistics applies\",\"default\":null},{\"name\":\"minValue\",\"type\":[\"null\",{\"type\":\"record\",\"name\":\"BooleanWrapper\",\"doc\":\"A record wrapping boolean type to be able to be used it w/in Avro's Union\",\"fields\":[{\"name\":\"value\",\"type\":\"boolean\"}]},{\"type\":\"record\",\"name\":\"IntWrapper\",\"doc\":\"A record wrapping int type to be able to be used it w/in Avro's Union\",\"fields\":[{\"name\":\"value\",\"type\":\"int\"}]},{\"type\":\"record\",\"name\":\"LongWrapper\",\"doc\":\"A record wrapping long type to be able to be used it w/in Avro's Union\",\"fields\":[{\"name\":\"value\",\"type\":\"long\"}]},{\"type\":\"record\",\"name\":\"FloatWrapper\",\"doc\":\"A record wrapping float type to be able to be used it w/in Avro's Union\",\"fields\":[{\"name\":\"value\",\"type\":\"float\"}]},{\"type\":\"record\",\"name\":\"DoubleWrapper\",\"doc\":\"A record wrapping double type to be able to be used it w/in Avro's Union\",\"fields\":[{\"name\":\"value\",\"type\":\"double\"}]},{\"type\":\"record\",\"name\":\"BytesWrapper\",\"doc\":\"A record wrapping bytes type to be able to be used it w/in Avro's Union\",\"fields\":[{\"name\":\"value\",\"type\":\"bytes\"}]},{\"type\":\"record\",\"name\":\"StringWrapper\",\"doc\":\"A record wrapping string type to be able to be used it w/in Avro's Union\",\"fields\":[{\"name\":\"value\",\"type\":{\"type\":\"string\",\"avro.java.string\":\"String\"}}]},{\"type\":\"record\",\"name\":\"DateWrapper\",\"doc\":\"A record wrapping Date logical type to be able to be used it w/in Avro's Union\",\"fields\":[{\"name\":\"value\",\"type\":\"int\"}]},{\"type\":\"record\",\"name\":\"DecimalWrapper\",\"doc\":\"A record wrapping Decimal logical type to be able to be used it w/in Avro's Union\",\"fields\":[{\"name\":\"value\",\"type\":{\"type\":\"bytes\",\"logicalType\":\"decimal\",\"precision\":30,\"scale\":15}}]},{\"type\":\"record\",\"name\":\"TimeMicrosWrapper\",\"doc\":\"A record wrapping Time-micros logical type to be able to be used it w/in Avro's Union\",\"fields\":[{\"name\":\"value\",\"type\":{\"type\":\"long\",\"logicalType\":\"time-micros\"}}]},{\"type\":\"record\",\"name\":\"TimestampMicrosWrapper\",\"doc\":\"A record wrapping Timestamp-micros logical type to be able to be used it w/in Avro's Union\",\"fields\":[{\"name\":\"value\",\"type\":\"long\"}]}],\"doc\":\"Minimum value in the range. Based on user data table schema, we can convert this to appropriate type\",\"default\":null},{\"name\":\"maxValue\",\"type\":[\"null\",\"BooleanWrapper\",\"IntWrapper\",\"LongWrapper\",\"FloatWrapper\",\"DoubleWrapper\",\"BytesWrapper\",\"StringWrapper\",\"DateWrapper\",\"DecimalWrapper\",\"TimeMicrosWrapper\",\"TimestampMicrosWrapper\"],\"doc\":\"Maximum value in the range. Based on user data table schema, we can convert it to appropriate type\",\"default\":null},{\"name\":\"valueCount\",\"type\":[\"null\",\"long\"],\"doc\":\"Total count of values\",\"default\":null},{\"name\":\"nullCount\",\"type\":[\"null\",\"long\"],\"doc\":\"Total count of null values\",\"default\":null},{\"name\":\"totalSize\",\"type\":[\"null\",\"long\"],\"doc\":\"Total storage size on disk\",\"default\":null},{\"name\":\"totalUncompressedSize\",\"type\":[\"null\",\"long\"],\"doc\":\"Total uncompressed storage size on disk\",\"default\":null},{\"name\":\"isDeleted\",\"type\":\"boolean\",\"doc\":\"Column range entry valid/deleted flag\"},{\"name\":\"isTightBound\",\"type\":\"boolean\",\"doc\":\"Whether the min/max range of a column is tight bound or not\",\"default\":false}]}],\"doc\":\"Metadata Index of column statistics for all data files in the user table\",\"default\":null},{\"name\":\"recordIndexMetadata\",\"type\":[\"null\",{\"type\":\"record\",\"name\":\"HoodieRecordIndexInfo\",\"fields\":[{\"name\":\"partitionName\",\"type\":[\"null\",{\"type\":\"string\",\"avro.java.string\":\"String\"}],\"doc\":\"Refers to the partition name the record belongs to\",\"default\":null},{\"name\":\"fileIdHighBits\",\"type\":[\"null\",\"long\"],\"doc\":\"Refers to high 64 bits if the fileId is based on UUID format. \\nA UUID based fileId is stored as 3 pieces in RLI (fileIdHighBits, fileIdLowBits and fileIndex). \\nFileID format is {UUID}-{fileIndex}.\",\"default\":null},{\"name\":\"fileIdLowBits\",\"type\":[\"null\",\"long\"],\"doc\":\"Refers to low 64 bits if the fileId is based on UUID format. \\nA UUID based fileId is stored as 3 pieces in RLI (fileIdHighBits, fileIdLowBits and fileIndex). \\nFileID format is {UUID}-{fileIndex}.\",\"default\":null},{\"name\":\"fileIndex\",\"type\":[\"null\",\"int\"],\"doc\":\"Index representing file index which is used to re-construct UUID based fileID. Applicable when the fileId is based on UUID format. \\nA UUID based fileId is stored as 3 pieces in RLI (fileIdHighBits, fileIdLowBits and fileIndex). \\nFileID format is {UUID}-{fileIndex}.\",\"default\":null},{\"name\":\"fileId\",\"type\":[\"null\",{\"type\":\"string\",\"avro.java.string\":\"String\"}],\"doc\":\"Represents fileId of the location where record belongs to. When the encoding is 1, fileID is stored in raw string format.\",\"default\":null},{\"name\":\"instantTime\",\"type\":[\"null\",\"long\"],\"doc\":\"Epoch time in millisecond representing the commit time at which record was added\",\"default\":null},{\"name\":\"fileIdEncoding\",\"type\":\"int\",\"doc\":\"Represents fileId encoding. Possible values are 0 and 1. O represents UUID based fileID, and 1 represents raw string format of the fileId. \\nWhen the encoding is 0, reader can deduce fileID from fileIdLowBits, fileIdHighBits and fileIndex.\",\"default\":0},{\"name\":\"position\",\"type\":[\"null\",\"long\"],\"doc\":\"Represents position of record within a file group for easier access. It will be used for index lookup.\",\"default\":null}]}],\"doc\":\"Metadata Index that contains information about record keys and their location in the dataset\",\"default\":null},{\"name\":\"SecondaryIndexMetadata\",\"type\":[\"null\",{\"type\":\"record\",\"name\":\"HoodieSecondaryIndexInfo\",\"fields\":[{\"name\":\"isDeleted\",\"type\":\"boolean\",\"doc\":\"True if this entry has been deleted\"}]}],\"doc\":\"Metadata Index that contains information about secondary keys and the corresponding record keys in the dataset\",\"default\":null}]}}|null   |\n",
      "|UPSERT_PREPPED|{files -> [{files-0000-0, files/.files-0000-0_20250303220705496.log.1_0-26-27, 20250303220705496, 2, 0, 2, 14182, 0, files, 0, null, 0, 0, 0, 0, 0, 14182, 1, 0, , [.files-0000-0_20250303220705496.log.1_0-26-27], null}]}|{schema -> {\"type\":\"record\",\"name\":\"HoodieMetadataRecord\",\"namespace\":\"org.apache.hudi.avro.model\",\"doc\":\"A record saved within the Metadata Table\",\"fields\":[{\"name\":\"key\",\"type\":{\"type\":\"string\",\"avro.java.string\":\"String\"}},{\"name\":\"type\",\"type\":\"int\",\"doc\":\"Type of the metadata record\"},{\"name\":\"filesystemMetadata\",\"type\":[\"null\",{\"type\":\"map\",\"values\":{\"type\":\"record\",\"name\":\"HoodieMetadataFileInfo\",\"fields\":[{\"name\":\"size\",\"type\":\"long\",\"doc\":\"Size of the file\"},{\"name\":\"isDeleted\",\"type\":\"boolean\",\"doc\":\"True if this file has been deleted\"}]},\"avro.java.string\":\"String\"}],\"doc\":\"Contains information about partitions and files within the dataset\"},{\"name\":\"BloomFilterMetadata\",\"type\":[\"null\",{\"type\":\"record\",\"name\":\"HoodieMetadataBloomFilter\",\"doc\":\"Data file bloom filter details\",\"fields\":[{\"name\":\"type\",\"type\":{\"type\":\"string\",\"avro.java.string\":\"String\"},\"doc\":\"Bloom filter type code\"},{\"name\":\"timestamp\",\"type\":{\"type\":\"string\",\"avro.java.string\":\"String\"},\"doc\":\"Instant timestamp when this metadata was created/updated\"},{\"name\":\"bloomFilter\",\"type\":\"bytes\",\"doc\":\"Bloom filter binary byte array\"},{\"name\":\"isDeleted\",\"type\":\"boolean\",\"doc\":\"Bloom filter entry valid/deleted flag\"}]}],\"doc\":\"Metadata Index of bloom filters for all data files in the user table\",\"default\":null},{\"name\":\"ColumnStatsMetadata\",\"type\":[\"null\",{\"type\":\"record\",\"name\":\"HoodieMetadataColumnStats\",\"doc\":\"Data file column statistics\",\"fields\":[{\"name\":\"fileName\",\"type\":[\"null\",{\"type\":\"string\",\"avro.java.string\":\"String\"}],\"doc\":\"File name for which this column statistics applies\",\"default\":null},{\"name\":\"columnName\",\"type\":[\"null\",{\"type\":\"string\",\"avro.java.string\":\"String\"}],\"doc\":\"Column name for which this column statistics applies\",\"default\":null},{\"name\":\"minValue\",\"type\":[\"null\",{\"type\":\"record\",\"name\":\"BooleanWrapper\",\"doc\":\"A record wrapping boolean type to be able to be used it w/in Avro's Union\",\"fields\":[{\"name\":\"value\",\"type\":\"boolean\"}]},{\"type\":\"record\",\"name\":\"IntWrapper\",\"doc\":\"A record wrapping int type to be able to be used it w/in Avro's Union\",\"fields\":[{\"name\":\"value\",\"type\":\"int\"}]},{\"type\":\"record\",\"name\":\"LongWrapper\",\"doc\":\"A record wrapping long type to be able to be used it w/in Avro's Union\",\"fields\":[{\"name\":\"value\",\"type\":\"long\"}]},{\"type\":\"record\",\"name\":\"FloatWrapper\",\"doc\":\"A record wrapping float type to be able to be used it w/in Avro's Union\",\"fields\":[{\"name\":\"value\",\"type\":\"float\"}]},{\"type\":\"record\",\"name\":\"DoubleWrapper\",\"doc\":\"A record wrapping double type to be able to be used it w/in Avro's Union\",\"fields\":[{\"name\":\"value\",\"type\":\"double\"}]},{\"type\":\"record\",\"name\":\"BytesWrapper\",\"doc\":\"A record wrapping bytes type to be able to be used it w/in Avro's Union\",\"fields\":[{\"name\":\"value\",\"type\":\"bytes\"}]},{\"type\":\"record\",\"name\":\"StringWrapper\",\"doc\":\"A record wrapping string type to be able to be used it w/in Avro's Union\",\"fields\":[{\"name\":\"value\",\"type\":{\"type\":\"string\",\"avro.java.string\":\"String\"}}]},{\"type\":\"record\",\"name\":\"DateWrapper\",\"doc\":\"A record wrapping Date logical type to be able to be used it w/in Avro's Union\",\"fields\":[{\"name\":\"value\",\"type\":\"int\"}]},{\"type\":\"record\",\"name\":\"DecimalWrapper\",\"doc\":\"A record wrapping Decimal logical type to be able to be used it w/in Avro's Union\",\"fields\":[{\"name\":\"value\",\"type\":{\"type\":\"bytes\",\"logicalType\":\"decimal\",\"precision\":30,\"scale\":15}}]},{\"type\":\"record\",\"name\":\"TimeMicrosWrapper\",\"doc\":\"A record wrapping Time-micros logical type to be able to be used it w/in Avro's Union\",\"fields\":[{\"name\":\"value\",\"type\":{\"type\":\"long\",\"logicalType\":\"time-micros\"}}]},{\"type\":\"record\",\"name\":\"TimestampMicrosWrapper\",\"doc\":\"A record wrapping Timestamp-micros logical type to be able to be used it w/in Avro's Union\",\"fields\":[{\"name\":\"value\",\"type\":\"long\"}]}],\"doc\":\"Minimum value in the range. Based on user data table schema, we can convert this to appropriate type\",\"default\":null},{\"name\":\"maxValue\",\"type\":[\"null\",\"BooleanWrapper\",\"IntWrapper\",\"LongWrapper\",\"FloatWrapper\",\"DoubleWrapper\",\"BytesWrapper\",\"StringWrapper\",\"DateWrapper\",\"DecimalWrapper\",\"TimeMicrosWrapper\",\"TimestampMicrosWrapper\"],\"doc\":\"Maximum value in the range. Based on user data table schema, we can convert it to appropriate type\",\"default\":null},{\"name\":\"valueCount\",\"type\":[\"null\",\"long\"],\"doc\":\"Total count of values\",\"default\":null},{\"name\":\"nullCount\",\"type\":[\"null\",\"long\"],\"doc\":\"Total count of null values\",\"default\":null},{\"name\":\"totalSize\",\"type\":[\"null\",\"long\"],\"doc\":\"Total storage size on disk\",\"default\":null},{\"name\":\"totalUncompressedSize\",\"type\":[\"null\",\"long\"],\"doc\":\"Total uncompressed storage size on disk\",\"default\":null},{\"name\":\"isDeleted\",\"type\":\"boolean\",\"doc\":\"Column range entry valid/deleted flag\"},{\"name\":\"isTightBound\",\"type\":\"boolean\",\"doc\":\"Whether the min/max range of a column is tight bound or not\",\"default\":false}]}],\"doc\":\"Metadata Index of column statistics for all data files in the user table\",\"default\":null},{\"name\":\"recordIndexMetadata\",\"type\":[\"null\",{\"type\":\"record\",\"name\":\"HoodieRecordIndexInfo\",\"fields\":[{\"name\":\"partitionName\",\"type\":[\"null\",{\"type\":\"string\",\"avro.java.string\":\"String\"}],\"doc\":\"Refers to the partition name the record belongs to\",\"default\":null},{\"name\":\"fileIdHighBits\",\"type\":[\"null\",\"long\"],\"doc\":\"Refers to high 64 bits if the fileId is based on UUID format. \\nA UUID based fileId is stored as 3 pieces in RLI (fileIdHighBits, fileIdLowBits and fileIndex). \\nFileID format is {UUID}-{fileIndex}.\",\"default\":null},{\"name\":\"fileIdLowBits\",\"type\":[\"null\",\"long\"],\"doc\":\"Refers to low 64 bits if the fileId is based on UUID format. \\nA UUID based fileId is stored as 3 pieces in RLI (fileIdHighBits, fileIdLowBits and fileIndex). \\nFileID format is {UUID}-{fileIndex}.\",\"default\":null},{\"name\":\"fileIndex\",\"type\":[\"null\",\"int\"],\"doc\":\"Index representing file index which is used to re-construct UUID based fileID. Applicable when the fileId is based on UUID format. \\nA UUID based fileId is stored as 3 pieces in RLI (fileIdHighBits, fileIdLowBits and fileIndex). \\nFileID format is {UUID}-{fileIndex}.\",\"default\":null},{\"name\":\"fileId\",\"type\":[\"null\",{\"type\":\"string\",\"avro.java.string\":\"String\"}],\"doc\":\"Represents fileId of the location where record belongs to. When the encoding is 1, fileID is stored in raw string format.\",\"default\":null},{\"name\":\"instantTime\",\"type\":[\"null\",\"long\"],\"doc\":\"Epoch time in millisecond representing the commit time at which record was added\",\"default\":null},{\"name\":\"fileIdEncoding\",\"type\":\"int\",\"doc\":\"Represents fileId encoding. Possible values are 0 and 1. O represents UUID based fileID, and 1 represents raw string format of the fileId. \\nWhen the encoding is 0, reader can deduce fileID from fileIdLowBits, fileIdHighBits and fileIndex.\",\"default\":0},{\"name\":\"position\",\"type\":[\"null\",\"long\"],\"doc\":\"Represents position of record within a file group for easier access. It will be used for index lookup.\",\"default\":null}]}],\"doc\":\"Metadata Index that contains information about record keys and their location in the dataset\",\"default\":null},{\"name\":\"SecondaryIndexMetadata\",\"type\":[\"null\",{\"type\":\"record\",\"name\":\"HoodieSecondaryIndexInfo\",\"fields\":[{\"name\":\"isDeleted\",\"type\":\"boolean\",\"doc\":\"True if this entry has been deleted\"}]}],\"doc\":\"Metadata Index that contains information about secondary keys and the corresponding record keys in the dataset\",\"default\":null}]}}|null   |\n",
      "|BULK_INSERT   |{files -> [{files-0000-0, files/files-0000-0_0-4-3_00000000000000000.hfile, null, 1, 0, 0, 6964, 0, files, 0, null, 0, 1, 0, 0, 0, 6964, null, null, null, null, null}]}                                                   |{schema -> {\"type\":\"record\",\"name\":\"HoodieMetadataRecord\",\"namespace\":\"org.apache.hudi.avro.model\",\"doc\":\"A record saved within the Metadata Table\",\"fields\":[{\"name\":\"key\",\"type\":{\"type\":\"string\",\"avro.java.string\":\"String\"}},{\"name\":\"type\",\"type\":\"int\",\"doc\":\"Type of the metadata record\"},{\"name\":\"filesystemMetadata\",\"type\":[\"null\",{\"type\":\"map\",\"values\":{\"type\":\"record\",\"name\":\"HoodieMetadataFileInfo\",\"fields\":[{\"name\":\"size\",\"type\":\"long\",\"doc\":\"Size of the file\"},{\"name\":\"isDeleted\",\"type\":\"boolean\",\"doc\":\"True if this file has been deleted\"}]},\"avro.java.string\":\"String\"}],\"doc\":\"Contains information about partitions and files within the dataset\"},{\"name\":\"BloomFilterMetadata\",\"type\":[\"null\",{\"type\":\"record\",\"name\":\"HoodieMetadataBloomFilter\",\"doc\":\"Data file bloom filter details\",\"fields\":[{\"name\":\"type\",\"type\":{\"type\":\"string\",\"avro.java.string\":\"String\"},\"doc\":\"Bloom filter type code\"},{\"name\":\"timestamp\",\"type\":{\"type\":\"string\",\"avro.java.string\":\"String\"},\"doc\":\"Instant timestamp when this metadata was created/updated\"},{\"name\":\"bloomFilter\",\"type\":\"bytes\",\"doc\":\"Bloom filter binary byte array\"},{\"name\":\"isDeleted\",\"type\":\"boolean\",\"doc\":\"Bloom filter entry valid/deleted flag\"}]}],\"doc\":\"Metadata Index of bloom filters for all data files in the user table\",\"default\":null},{\"name\":\"ColumnStatsMetadata\",\"type\":[\"null\",{\"type\":\"record\",\"name\":\"HoodieMetadataColumnStats\",\"doc\":\"Data file column statistics\",\"fields\":[{\"name\":\"fileName\",\"type\":[\"null\",{\"type\":\"string\",\"avro.java.string\":\"String\"}],\"doc\":\"File name for which this column statistics applies\",\"default\":null},{\"name\":\"columnName\",\"type\":[\"null\",{\"type\":\"string\",\"avro.java.string\":\"String\"}],\"doc\":\"Column name for which this column statistics applies\",\"default\":null},{\"name\":\"minValue\",\"type\":[\"null\",{\"type\":\"record\",\"name\":\"BooleanWrapper\",\"doc\":\"A record wrapping boolean type to be able to be used it w/in Avro's Union\",\"fields\":[{\"name\":\"value\",\"type\":\"boolean\"}]},{\"type\":\"record\",\"name\":\"IntWrapper\",\"doc\":\"A record wrapping int type to be able to be used it w/in Avro's Union\",\"fields\":[{\"name\":\"value\",\"type\":\"int\"}]},{\"type\":\"record\",\"name\":\"LongWrapper\",\"doc\":\"A record wrapping long type to be able to be used it w/in Avro's Union\",\"fields\":[{\"name\":\"value\",\"type\":\"long\"}]},{\"type\":\"record\",\"name\":\"FloatWrapper\",\"doc\":\"A record wrapping float type to be able to be used it w/in Avro's Union\",\"fields\":[{\"name\":\"value\",\"type\":\"float\"}]},{\"type\":\"record\",\"name\":\"DoubleWrapper\",\"doc\":\"A record wrapping double type to be able to be used it w/in Avro's Union\",\"fields\":[{\"name\":\"value\",\"type\":\"double\"}]},{\"type\":\"record\",\"name\":\"BytesWrapper\",\"doc\":\"A record wrapping bytes type to be able to be used it w/in Avro's Union\",\"fields\":[{\"name\":\"value\",\"type\":\"bytes\"}]},{\"type\":\"record\",\"name\":\"StringWrapper\",\"doc\":\"A record wrapping string type to be able to be used it w/in Avro's Union\",\"fields\":[{\"name\":\"value\",\"type\":{\"type\":\"string\",\"avro.java.string\":\"String\"}}]},{\"type\":\"record\",\"name\":\"DateWrapper\",\"doc\":\"A record wrapping Date logical type to be able to be used it w/in Avro's Union\",\"fields\":[{\"name\":\"value\",\"type\":\"int\"}]},{\"type\":\"record\",\"name\":\"DecimalWrapper\",\"doc\":\"A record wrapping Decimal logical type to be able to be used it w/in Avro's Union\",\"fields\":[{\"name\":\"value\",\"type\":{\"type\":\"bytes\",\"logicalType\":\"decimal\",\"precision\":30,\"scale\":15}}]},{\"type\":\"record\",\"name\":\"TimeMicrosWrapper\",\"doc\":\"A record wrapping Time-micros logical type to be able to be used it w/in Avro's Union\",\"fields\":[{\"name\":\"value\",\"type\":{\"type\":\"long\",\"logicalType\":\"time-micros\"}}]},{\"type\":\"record\",\"name\":\"TimestampMicrosWrapper\",\"doc\":\"A record wrapping Timestamp-micros logical type to be able to be used it w/in Avro's Union\",\"fields\":[{\"name\":\"value\",\"type\":\"long\"}]}],\"doc\":\"Minimum value in the range. Based on user data table schema, we can convert this to appropriate type\",\"default\":null},{\"name\":\"maxValue\",\"type\":[\"null\",\"BooleanWrapper\",\"IntWrapper\",\"LongWrapper\",\"FloatWrapper\",\"DoubleWrapper\",\"BytesWrapper\",\"StringWrapper\",\"DateWrapper\",\"DecimalWrapper\",\"TimeMicrosWrapper\",\"TimestampMicrosWrapper\"],\"doc\":\"Maximum value in the range. Based on user data table schema, we can convert it to appropriate type\",\"default\":null},{\"name\":\"valueCount\",\"type\":[\"null\",\"long\"],\"doc\":\"Total count of values\",\"default\":null},{\"name\":\"nullCount\",\"type\":[\"null\",\"long\"],\"doc\":\"Total count of null values\",\"default\":null},{\"name\":\"totalSize\",\"type\":[\"null\",\"long\"],\"doc\":\"Total storage size on disk\",\"default\":null},{\"name\":\"totalUncompressedSize\",\"type\":[\"null\",\"long\"],\"doc\":\"Total uncompressed storage size on disk\",\"default\":null},{\"name\":\"isDeleted\",\"type\":\"boolean\",\"doc\":\"Column range entry valid/deleted flag\"},{\"name\":\"isTightBound\",\"type\":\"boolean\",\"doc\":\"Whether the min/max range of a column is tight bound or not\",\"default\":false}]}],\"doc\":\"Metadata Index of column statistics for all data files in the user table\",\"default\":null},{\"name\":\"recordIndexMetadata\",\"type\":[\"null\",{\"type\":\"record\",\"name\":\"HoodieRecordIndexInfo\",\"fields\":[{\"name\":\"partitionName\",\"type\":[\"null\",{\"type\":\"string\",\"avro.java.string\":\"String\"}],\"doc\":\"Refers to the partition name the record belongs to\",\"default\":null},{\"name\":\"fileIdHighBits\",\"type\":[\"null\",\"long\"],\"doc\":\"Refers to high 64 bits if the fileId is based on UUID format. \\nA UUID based fileId is stored as 3 pieces in RLI (fileIdHighBits, fileIdLowBits and fileIndex). \\nFileID format is {UUID}-{fileIndex}.\",\"default\":null},{\"name\":\"fileIdLowBits\",\"type\":[\"null\",\"long\"],\"doc\":\"Refers to low 64 bits if the fileId is based on UUID format. \\nA UUID based fileId is stored as 3 pieces in RLI (fileIdHighBits, fileIdLowBits and fileIndex). \\nFileID format is {UUID}-{fileIndex}.\",\"default\":null},{\"name\":\"fileIndex\",\"type\":[\"null\",\"int\"],\"doc\":\"Index representing file index which is used to re-construct UUID based fileID. Applicable when the fileId is based on UUID format. \\nA UUID based fileId is stored as 3 pieces in RLI (fileIdHighBits, fileIdLowBits and fileIndex). \\nFileID format is {UUID}-{fileIndex}.\",\"default\":null},{\"name\":\"fileId\",\"type\":[\"null\",{\"type\":\"string\",\"avro.java.string\":\"String\"}],\"doc\":\"Represents fileId of the location where record belongs to. When the encoding is 1, fileID is stored in raw string format.\",\"default\":null},{\"name\":\"instantTime\",\"type\":[\"null\",\"long\"],\"doc\":\"Epoch time in millisecond representing the commit time at which record was added\",\"default\":null},{\"name\":\"fileIdEncoding\",\"type\":\"int\",\"doc\":\"Represents fileId encoding. Possible values are 0 and 1. O represents UUID based fileID, and 1 represents raw string format of the fileId. \\nWhen the encoding is 0, reader can deduce fileID from fileIdLowBits, fileIdHighBits and fileIndex.\",\"default\":0},{\"name\":\"position\",\"type\":[\"null\",\"long\"],\"doc\":\"Represents position of record within a file group for easier access. It will be used for index lookup.\",\"default\":null}]}],\"doc\":\"Metadata Index that contains information about record keys and their location in the dataset\",\"default\":null},{\"name\":\"SecondaryIndexMetadata\",\"type\":[\"null\",{\"type\":\"record\",\"name\":\"HoodieSecondaryIndexInfo\",\"fields\":[{\"name\":\"isDeleted\",\"type\":\"boolean\",\"doc\":\"True if this entry has been deleted\"}]}],\"doc\":\"Metadata Index that contains information about secondary keys and the corresponding record keys in the dataset\",\"default\":null}]}}|null   |\n",
      "+--------------+---------------------------------------------------------------------------------------------------------------------------------------------------------------------------------------------------------------------------+-----------------------------------------------------------------------------------------------------------------------------------------------------------------------------------------------------------------------------------------------------------------------------------------------------------------------------------------------------------------------------------------------------------------------------------------------------------------------------------------------------------------------------------------------------------------------------------------------------------------------------------------------------------------------------------------------------------------------------------------------------------------------------------------------------------------------------------------------------------------------------------------------------------------------------------------------------------------------------------------------------------------------------------------------------------------------------------------------------------------------------------------------------------------------------------------------------------------------------------------------------------------------------------------------------------------------------------------------------------------------------------------------------------------------------------------------------------------------------------------------------------------------------------------------------------------------------------------------------------------------------------------------------------------------------------------------------------------------------------------------------------------------------------------------------------------------------------------------------------------------------------------------------------------------------------------------------------------------------------------------------------------------------------------------------------------------------------------------------------------------------------------------------------------------------------------------------------------------------------------------------------------------------------------------------------------------------------------------------------------------------------------------------------------------------------------------------------------------------------------------------------------------------------------------------------------------------------------------------------------------------------------------------------------------------------------------------------------------------------------------------------------------------------------------------------------------------------------------------------------------------------------------------------------------------------------------------------------------------------------------------------------------------------------------------------------------------------------------------------------------------------------------------------------------------------------------------------------------------------------------------------------------------------------------------------------------------------------------------------------------------------------------------------------------------------------------------------------------------------------------------------------------------------------------------------------------------------------------------------------------------------------------------------------------------------------------------------------------------------------------------------------------------------------------------------------------------------------------------------------------------------------------------------------------------------------------------------------------------------------------------------------------------------------------------------------------------------------------------------------------------------------------------------------------------------------------------------------------------------------------------------------------------------------------------------------------------------------------------------------------------------------------------------------------------------------------------------------------------------------------------------------------------------------------------------------------------------------------------------------------------------------------------------------------------------------------------------------------------------------------------------------------------------------------------------------------------------------------------------------------------------------------------------------------------------------------------------------------------------------------------------------------------------------------------------------------------------------------------------------------------------------------------------------------------------------------------------------------------------------------------------------------------------------------------------------------------------------------------------------------------------------------------------------------------------------------------------------------------------------------------------------------------------------------------------------------------------------------------------------------------------------------------------------------------------------------------------------------------------------------------------------------------------------------------------------------------------------------------------------------------------------------------------------------------------------------------------------------------------------------------------------------------------------------------------------------------------------------------------------------------------------------------------------------------------------------------------------------------------------------------------------------------------------------------------------------------------------------------------------------------------------------------------------------------------------------------------------------------------------------------------------------------------------------------------------------------------------------------------------------------------------------------------------------------------------------------------------------------------------------------------------------------------------------------------------------------------------------------------------------------------------------------------------------------------------------------------------------------------------------------------------------------------------------------------------------------------------------------------------------------------------------------------------------------------------------------------------------------------------------------------------------------------------------------------------------------------------------------------------------------------------------------------------------------------------------------------------------------------------------------------------------------------------------------------------------------------------------------------------------------------------------------------------------------------------------+-------+\n",
      "\n"
     ]
    },
    {
     "data": {
      "text/plain": [
       "\u001b[36mhudiMeta\u001b[39m: \u001b[32mString\u001b[39m = \u001b[32m\"/tmp/hudi/trips_table/.hoodie/metadata/.hoodie/timeline/*.deltacommit\"\u001b[39m\n",
       "\u001b[36mdfHudiMeta\u001b[39m: \u001b[32mDataFrame\u001b[39m = [partitionToWriteStats: map<string,array<struct<fileId:string,path:string,prevCommit:string,numWrites:bigint,numDeletes:bigint,numUpdateWrites:bigint,totalWriteBytes:bigint,totalWriteErrors:bigint,partitionPath:string,totalLogRecords:bigint,totalLogFiles:bigint,totalUpdatedRecordsCompacted:bigint,numInserts:bigint,totalLogBlocks:bigint,totalCorruptLogBlock:bigint,totalRollbackBlocks:bigint,fileSizeInBytes:bigint,logVersion:int,logOffset:bigint,baseFile:string,logFiles:array<string>,cdcStats:map<string,bigint>>>>, extraMetadata: map<string,string> ... 2 more fields]"
      ]
     },
     "execution_count": 19,
     "metadata": {},
     "output_type": "execute_result"
    }
   ],
   "source": [
    "val hudiMeta = \"/tmp/hudi/trips_table/.hoodie/metadata/.hoodie/timeline/*.deltacommit\"\n",
    "val dfHudiMeta = spark.read.format(\"avro\").load(hudiMeta)\n",
    "dfHudiMeta.select(\"operationType\", \"partitionToWriteStats\", \"extraMetadata\", \"version\").show(truncate=false)"
   ]
  },
  {
   "cell_type": "markdown",
   "metadata": {},
   "source": [
    "* Note that in deltacommit, the initial 00000000 file is BULK_INSERT and the other insertion are UPSERT_PREPPED."
   ]
  },
  {
   "cell_type": "code",
   "execution_count": 20,
   "metadata": {},
   "outputs": [
    {
     "name": "stdout",
     "output_type": "stream",
     "text": [
      "+--------------+---------------------------------------------------------------------------------------------------------------------------------------------------------------------------------------------------------------------------------------------------------------------------------------------------------------------------------------------------------------------------------------------------------------------------------------------------------------------------------------------------------------------------------------------------------------------------------------------------------------------------------------------------------------------------------------------------------------------------------------------------------------------------------------------+----------------------------------------------------------------------------------------------------------------------------------------------------------------------------------------------------------------------------------------------------------------------------------------------------------------------------------------------------------------------------------------------------------------------------------------------------------------------------------------------------------------------------------------------------------------------------------------------------------+-------+\n",
      "|operationType |partitionToWriteStats                                                                                                                                                                                                                                                                                                                                                                                                                                                                                                                                                                                                                                                                                                                                                                        |extraMetadata                                                                                                                                                                                                                                                                                                                                                                                                                                                                                                                                                                                             |version|\n",
      "+--------------+---------------------------------------------------------------------------------------------------------------------------------------------------------------------------------------------------------------------------------------------------------------------------------------------------------------------------------------------------------------------------------------------------------------------------------------------------------------------------------------------------------------------------------------------------------------------------------------------------------------------------------------------------------------------------------------------------------------------------------------------------------------------------------------------+----------------------------------------------------------------------------------------------------------------------------------------------------------------------------------------------------------------------------------------------------------------------------------------------------------------------------------------------------------------------------------------------------------------------------------------------------------------------------------------------------------------------------------------------------------------------------------------------------------+-------+\n",
      "|BULK_INSERT   |{city=san_francisco -> [{a3dec851-53dd-4d0b-8eff-c3d084817da0-0, city=san_francisco/a3dec851-53dd-4d0b-8eff-c3d084817da0-0_0-6-0_20250303220644309.parquet, null, 3, 0, 0, 436124, 0, city=san_francisco, 0, null, 0, 3, 0, 0, 0, 436124, null, null, null, null, null}], city=sao_paulo -> [{a3dec851-53dd-4d0b-8eff-c3d084817da0-1, city=sao_paulo/a3dec851-53dd-4d0b-8eff-c3d084817da0-1_0-6-0_20250303220644309.parquet, null, 1, 0, 0, 435952, 0, city=sao_paulo, 0, null, 0, 1, 0, 0, 0, 435952, null, null, null, null, null}], city=chennai -> [{a3dec851-53dd-4d0b-8eff-c3d084817da0-2, city=chennai/a3dec851-53dd-4d0b-8eff-c3d084817da0-2_0-6-0_20250303220644309.parquet, null, 1, 0, 0, 435923, 0, city=chennai, 0, null, 0, 1, 0, 0, 0, 435923, null, null, null, null, null}]}|{schema -> {\"type\":\"record\",\"name\":\"trips_table_record\",\"namespace\":\"hoodie.trips_table\",\"fields\":[{\"name\":\"ts\",\"type\":\"long\"},{\"name\":\"uuid\",\"type\":[\"null\",\"string\"],\"default\":null},{\"name\":\"rider\",\"type\":[\"null\",\"string\"],\"default\":null},{\"name\":\"driver\",\"type\":[\"null\",\"string\"],\"default\":null},{\"name\":\"fare\",\"type\":\"double\"},{\"name\":\"city\",\"type\":[\"null\",\"string\"],\"default\":null}]}, _hoodie.metadata.ignore.spurious.deletes -> true, _.hoodie.allow.multi.write.on.same.instant -> false, _hoodie.optimistic.consistency.guard.enable -> false, _hoodie.hfile.use.native.reader -> true}|null   |\n",
      "|UPSERT_PREPPED|{city=san_francisco -> [{a3dec851-53dd-4d0b-8eff-c3d084817da0-0, city=san_francisco/a3dec851-53dd-4d0b-8eff-c3d084817da0-0_0-20-22_20250303220705496.parquet, 20250303220644309, 3, 0, 1, 436098, 0, city=san_francisco, 0, null, 0, 0, 0, 0, 0, 436098, null, null, null, null, null}]}                                                                                                                                                                                                                                                                                                                                                                                                                                                                                                     |{schema -> {\"type\":\"record\",\"name\":\"trips_table_record\",\"namespace\":\"hoodie.trips_table\",\"fields\":[{\"name\":\"ts\",\"type\":\"long\"},{\"name\":\"uuid\",\"type\":[\"null\",\"string\"],\"default\":null},{\"name\":\"rider\",\"type\":[\"null\",\"string\"],\"default\":null},{\"name\":\"driver\",\"type\":[\"null\",\"string\"],\"default\":null},{\"name\":\"fare\",\"type\":\"double\"},{\"name\":\"city\",\"type\":[\"null\",\"string\"],\"default\":null}]}}                                                                                                                                                                                                      |null   |\n",
      "+--------------+---------------------------------------------------------------------------------------------------------------------------------------------------------------------------------------------------------------------------------------------------------------------------------------------------------------------------------------------------------------------------------------------------------------------------------------------------------------------------------------------------------------------------------------------------------------------------------------------------------------------------------------------------------------------------------------------------------------------------------------------------------------------------------------------+----------------------------------------------------------------------------------------------------------------------------------------------------------------------------------------------------------------------------------------------------------------------------------------------------------------------------------------------------------------------------------------------------------------------------------------------------------------------------------------------------------------------------------------------------------------------------------------------------------+-------+\n",
      "\n"
     ]
    },
    {
     "data": {
      "text/plain": [
       "\u001b[36mhudiMetadata2\u001b[39m: \u001b[32mString\u001b[39m = \u001b[32m\"/tmp/hudi/trips_table/.hoodie/timeline/*.commit\"\u001b[39m\n",
       "\u001b[36mdfHudiMeta2\u001b[39m: \u001b[32mDataFrame\u001b[39m = [partitionToWriteStats: map<string,array<struct<fileId:string,path:string,prevCommit:string,numWrites:bigint,numDeletes:bigint,numUpdateWrites:bigint,totalWriteBytes:bigint,totalWriteErrors:bigint,partitionPath:string,totalLogRecords:bigint,totalLogFiles:bigint,totalUpdatedRecordsCompacted:bigint,numInserts:bigint,totalLogBlocks:bigint,totalCorruptLogBlock:bigint,totalRollbackBlocks:bigint,fileSizeInBytes:bigint,logVersion:int,logOffset:bigint,baseFile:string,logFiles:array<string>,cdcStats:map<string,bigint>>>>, extraMetadata: map<string,string> ... 2 more fields]"
      ]
     },
     "execution_count": 20,
     "metadata": {},
     "output_type": "execute_result"
    }
   ],
   "source": [
    "val hudiMetadata2 = \"/tmp/hudi/trips_table/.hoodie/timeline/*.commit\"\n",
    "val dfHudiMeta2 = spark.read.format(\"avro\").load(hudiMetadata2)\n",
    "dfHudiMeta2.select(\"operationType\", \"partitionToWriteStats\", \"extraMetadata\", \"version\").show(truncate=false)"
   ]
  },
  {
   "cell_type": "markdown",
   "metadata": {},
   "source": [
    "* Note that in commit, there is no 0000000000000... file.\n",
    "* The initial write is BULK_INSERT.\n",
    "* The update is UPSERT_PREPPED."
   ]
  },
  {
   "cell_type": "code",
   "execution_count": 21,
   "metadata": {},
   "outputs": [
    {
     "name": "stdout",
     "output_type": "stream",
     "text": [
      "+-------------------+-----+-------+\n",
      "|_hoodie_commit_time| fare|  rider|\n",
      "+-------------------+-----+-------+\n",
      "|  20250303220644309| 19.1|rider-A|\n",
      "|  20250303220644309| 27.7|rider-C|\n",
      "|  20250303220705496|339.0|rider-D|\n",
      "|  20250303220644309|34.15|rider-F|\n",
      "|  20250303220644309|17.85|rider-J|\n",
      "+-------------------+-----+-------+\n",
      "\n"
     ]
    },
    {
     "data": {
      "text/plain": [
       "\u001b[36mtripsDF\u001b[39m: \u001b[32mDataFrame\u001b[39m = [_hoodie_commit_time: string, _hoodie_commit_seqno: string ... 9 more fields]"
      ]
     },
     "execution_count": 21,
     "metadata": {},
     "output_type": "execute_result"
    }
   ],
   "source": [
    "val tripsDF = spark.read.format(\"hudi\").load(basePath)\n",
    "tripsDF.createOrReplaceTempView(\"trips_table\")\n",
    "spark.sql(s\"SELECT _hoodie_commit_time, fare, rider FROM trips_table;\").show()"
   ]
  },
  {
   "cell_type": "markdown",
   "metadata": {},
   "source": [
    "### Merging Data"
   ]
  },
  {
   "cell_type": "code",
   "execution_count": 22,
   "metadata": {},
   "outputs": [
    {
     "name": "stdout",
     "output_type": "stream",
     "text": [
      "+-------------------+--------------------+--------------------+----------------------+--------------------+-------------+--------------------+-------+--------+-----+-------------+\n",
      "|_hoodie_commit_time|_hoodie_commit_seqno|  _hoodie_record_key|_hoodie_partition_path|   _hoodie_file_name|           ts|                uuid|  rider|  driver| fare|         city|\n",
      "+-------------------+--------------------+--------------------+----------------------+--------------------+-------------+--------------------+-------+--------+-----+-------------+\n",
      "|  20250303220848889|20250303220848889...|20250303220644309...|    city=san_francisco|a3dec851-53dd-4d0...|1695159649087|334e26e9-8355-45c...|rider-A|driver-K|210.1|san_francisco|\n",
      "|  20250303220848889|20250303220848889...|20250303220644309...|    city=san_francisco|a3dec851-53dd-4d0...|1695091554788|e96c4396-3fad-413...|rider-C|driver-M|304.7|san_francisco|\n",
      "|  20250303220705496|20250303220705496...|20250303220644309...|    city=san_francisco|a3dec851-53dd-4d0...|1695046462179|9909a8b1-2d15-4d3...|rider-D|driver-L|339.0|san_francisco|\n",
      "|  20250303220644309|20250303220644309...|20250303220644309...|        city=sao_paulo|a3dec851-53dd-4d0...|1695516137016|e3cf430c-889d-401...|rider-F|driver-P|34.15|    sao_paulo|\n",
      "|  20250303220644309|20250303220644309...|20250303220644309...|          city=chennai|a3dec851-53dd-4d0...|1695115999911|c8abbe79-8d89-47e...|rider-J|driver-T|17.85|      chennai|\n",
      "+-------------------+--------------------+--------------------+----------------------+--------------------+-------------+--------------------+-------+--------+-----+-------------+\n",
      "\n"
     ]
    },
    {
     "data": {
      "text/plain": [
       "\u001b[36madjustedFareDF\u001b[39m: \u001b[32mDataFrame\u001b[39m = [_hoodie_commit_time: string, _hoodie_commit_seqno: string ... 9 more fields]"
      ]
     },
     "execution_count": 22,
     "metadata": {},
     "output_type": "execute_result"
    }
   ],
   "source": [
    "val adjustedFareDF = spark.read.format(\"hudi\").\n",
    "  load(basePath).limit(2).\n",
    "  withColumn(\"fare\", col(\"fare\") * 10)\n",
    "\n",
    "adjustedFareDF.write.format(\"hudi\").\n",
    "  option(\"hoodie.datasource.write.payload.class\",\"com.payloads.CustomMergeIntoConnector\").\n",
    "  mode(Append).\n",
    "  save(basePath)\n",
    "// Notice Fare column has been updated but all other columns remain intact.\n",
    "spark.read.format(\"hudi\").load(basePath).show()"
   ]
  },
  {
   "cell_type": "markdown",
   "metadata": {},
   "source": [
    "* For rider-A, the fare previously was 19.1, now its 210.1.\n",
    "    * In the adjustedFareDF, the fare is 10*fare, so adjustedFare is 191.\n",
    "    * In the CustomMergeIntoConnector, the final fare is the original fare + adjustedFare, which is 19.1 + 191, thus it is 210.1.\n",
    "    * The same applies for rider-D.\n",
    "* If you notice, with 1 update and 1 merge upsert, now we have 3 parquet files for partition san_francisco.\n",
    "* Next lets check the parquet files for san_francisco.\n",
    "    * We can see the content represents the state of the file for the commit time.\n",
    "    * I think older commits will be consolidated later.\n",
    "    * https://hudi.apache.org/docs/cleaning"
   ]
  },
  {
   "cell_type": "code",
   "execution_count": 23,
   "metadata": {},
   "outputs": [
    {
     "name": "stdout",
     "output_type": "stream",
     "text": [
      "/tmp/hudi/trips_table/city=san_francisco/a3dec851-53dd-4d0b-8eff-c3d084817da0-0_0-6-0_20250303220644309.parquet\n",
      "+-------------------+---------------------+---------------------+----------------------+----------------------------------------------------------------------+-------------+------------------------------------+-------+--------+----+-------------+\n",
      "|_hoodie_commit_time|_hoodie_commit_seqno |_hoodie_record_key   |_hoodie_partition_path|_hoodie_file_name                                                     |ts           |uuid                                |rider  |driver  |fare|city         |\n",
      "+-------------------+---------------------+---------------------+----------------------+----------------------------------------------------------------------+-------------+------------------------------------+-------+--------+----+-------------+\n",
      "|20250303220644309  |20250303220644309_0_1|20250303220644309_0_0|city=san_francisco    |a3dec851-53dd-4d0b-8eff-c3d084817da0-0_0-6-0_20250303220644309.parquet|1695159649087|334e26e9-8355-45cc-97c6-c31daf0df330|rider-A|driver-K|19.1|san_francisco|\n",
      "|20250303220644309  |20250303220644309_0_2|20250303220644309_0_1|city=san_francisco    |a3dec851-53dd-4d0b-8eff-c3d084817da0-0_0-6-0_20250303220644309.parquet|1695091554788|e96c4396-3fad-413a-a942-4cb36106d721|rider-C|driver-M|27.7|san_francisco|\n",
      "|20250303220644309  |20250303220644309_0_3|20250303220644309_0_2|city=san_francisco    |a3dec851-53dd-4d0b-8eff-c3d084817da0-0_0-6-0_20250303220644309.parquet|1695046462179|9909a8b1-2d15-4d3d-8ec9-efc48c536a00|rider-D|driver-L|33.9|san_francisco|\n",
      "+-------------------+---------------------+---------------------+----------------------+----------------------------------------------------------------------+-------------+------------------------------------+-------+--------+----+-------------+\n",
      "\n",
      "\n",
      "/tmp/hudi/trips_table/city=san_francisco/a3dec851-53dd-4d0b-8eff-c3d084817da0-0_0-20-22_20250303220705496.parquet\n",
      "+-------------------+---------------------+---------------------+----------------------+------------------------------------------------------------------------+-------------+------------------------------------+-------+--------+-----+-------------+\n",
      "|_hoodie_commit_time|_hoodie_commit_seqno |_hoodie_record_key   |_hoodie_partition_path|_hoodie_file_name                                                       |ts           |uuid                                |rider  |driver  |fare |city         |\n",
      "+-------------------+---------------------+---------------------+----------------------+------------------------------------------------------------------------+-------------+------------------------------------+-------+--------+-----+-------------+\n",
      "|20250303220644309  |20250303220644309_0_1|20250303220644309_0_0|city=san_francisco    |a3dec851-53dd-4d0b-8eff-c3d084817da0-0_0-20-22_20250303220705496.parquet|1695159649087|334e26e9-8355-45cc-97c6-c31daf0df330|rider-A|driver-K|19.1 |san_francisco|\n",
      "|20250303220644309  |20250303220644309_0_2|20250303220644309_0_1|city=san_francisco    |a3dec851-53dd-4d0b-8eff-c3d084817da0-0_0-20-22_20250303220705496.parquet|1695091554788|e96c4396-3fad-413a-a942-4cb36106d721|rider-C|driver-M|27.7 |san_francisco|\n",
      "|20250303220705496  |20250303220705496_0_2|20250303220644309_0_2|city=san_francisco    |a3dec851-53dd-4d0b-8eff-c3d084817da0-0_0-20-22_20250303220705496.parquet|1695046462179|9909a8b1-2d15-4d3d-8ec9-efc48c536a00|rider-D|driver-L|339.0|san_francisco|\n",
      "+-------------------+---------------------+---------------------+----------------------+------------------------------------------------------------------------+-------------+------------------------------------+-------+--------+-----+-------------+\n",
      "\n",
      "\n",
      "/tmp/hudi/trips_table/city=san_francisco/a3dec851-53dd-4d0b-8eff-c3d084817da0-0_0-47-47_20250303220848889.parquet\n",
      "+-------------------+---------------------+---------------------+----------------------+------------------------------------------------------------------------+-------------+------------------------------------+-------+--------+-----+-------------+\n",
      "|_hoodie_commit_time|_hoodie_commit_seqno |_hoodie_record_key   |_hoodie_partition_path|_hoodie_file_name                                                       |ts           |uuid                                |rider  |driver  |fare |city         |\n",
      "+-------------------+---------------------+---------------------+----------------------+------------------------------------------------------------------------+-------------+------------------------------------+-------+--------+-----+-------------+\n",
      "|20250303220848889  |20250303220848889_0_0|20250303220644309_0_0|city=san_francisco    |a3dec851-53dd-4d0b-8eff-c3d084817da0-0_0-47-47_20250303220848889.parquet|1695159649087|334e26e9-8355-45cc-97c6-c31daf0df330|rider-A|driver-K|210.1|san_francisco|\n",
      "|20250303220848889  |20250303220848889_0_1|20250303220644309_0_1|city=san_francisco    |a3dec851-53dd-4d0b-8eff-c3d084817da0-0_0-47-47_20250303220848889.parquet|1695091554788|e96c4396-3fad-413a-a942-4cb36106d721|rider-C|driver-M|304.7|san_francisco|\n",
      "|20250303220705496  |20250303220705496_0_2|20250303220644309_0_2|city=san_francisco    |a3dec851-53dd-4d0b-8eff-c3d084817da0-0_0-47-47_20250303220848889.parquet|1695046462179|9909a8b1-2d15-4d3d-8ec9-efc48c536a00|rider-D|driver-L|339.0|san_francisco|\n",
      "+-------------------+---------------------+---------------------+----------------------+------------------------------------------------------------------------+-------------+------------------------------------+-------+--------+-----+-------------+\n",
      "\n",
      "\n"
     ]
    },
    {
     "data": {
      "text/html": [
       "<div class=\"jp-RenderedText\">\n",
       "<pre><code><span style=\"color: rgb(0, 187, 187)\"><span class=\"ansi-cyan-fg\">command</span></span>: <span style=\"color: rgb(0, 187, 0)\"><span class=\"ansi-green-fg\">String</span></span> = <span style=\"color: rgb(0, 187, 0)\"><span class=\"ansi-green-fg\">&quot;find /tmp/hudi/trips_table -path \\&quot;*san_francisco*\\&quot; -name \\&quot;*.parquet\\&quot; -exec stat -c \\\\\\&quot;%y %s %n\\\\\\&quot; {} + | sort&quot;</span></span>\n",
       "<span style=\"color: rgb(0, 187, 187)\"><span class=\"ansi-cyan-fg\">result</span></span>: <span style=\"color: rgb(0, 187, 0)\"><span class=\"ansi-green-fg\">String</span></span> = <span style=\"color: white\"><span class=\"ansi-white-fg\">[lazy]</span></span>\n",
       "<span style=\"color: rgb(0, 187, 187)\"><span class=\"ansi-cyan-fg\">parquetFiles</span></span>: <span style=\"color: rgb(0, 187, 0)\"><span class=\"ansi-green-fg\">Array</span></span>[<span style=\"color: rgb(0, 187, 0)\"><span class=\"ansi-green-fg\">String</span></span>] = <span style=\"color: white\"><span class=\"ansi-white-fg\">[lazy]</span></span></code></pre>\n",
       "</div>"
      ],
      "text/plain": [
       "\u001b[36mcommand\u001b[39m: \u001b[32mString\u001b[39m = \u001b[32m\"find /tmp/hudi/trips_table -path \\\"*san_francisco*\\\" -name \\\"*.parquet\\\" -exec stat -c \\\\\\\"%y %s %n\\\\\\\" {} + | sort\"\u001b[39m\n",
       "\u001b[36mresult\u001b[39m: \u001b[32mString\u001b[39m = \u001b[37m[lazy]\u001b[39m\n",
       "\u001b[36mparquetFiles\u001b[39m: \u001b[32mArray\u001b[39m[\u001b[32mString\u001b[39m] = \u001b[37m[lazy]\u001b[39m"
      ]
     },
     "metadata": {},
     "output_type": "display_data"
    }
   ],
   "source": [
    "val command = \"\"\"find /tmp/hudi/trips_table -path \"*san_francisco*\" -name \"*.parquet\" -exec stat -c \\\"%y %s %n\\\" {} + | sort\"\"\"\n",
    "lazy val result = Seq(\"bash\", \"-c\", s\"eval $command\").!!\n",
    "lazy val parquetFiles = result.split(\"\\n\")\n",
    "for(parquetFile <- parquetFiles){\n",
    "    val path = parquetFile.split(\" \")(4)\n",
    "    println(path)\n",
    "    spark.read.format(\"parquet\").load(path).show(truncate=false)\n",
    "    println()\n",
    "}"
   ]
  },
  {
   "cell_type": "code",
   "execution_count": 24,
   "metadata": {},
   "outputs": [
    {
     "name": "stdout",
     "output_type": "stream",
     "text": [
      "/tmp/hudi/trips_table/.hoodie/metadata/.hoodie/timeline/00000000000000000_20250303220645500.deltacommit\n",
      "+-------------+------------------------------------------------------------------------------------------------------------------------------------------------------------------------+-----------------------------------------------------------------------------------------------------------------------------------------------------------------------------------------------------------------------------------------------------------------------------------------------------------------------------------------------------------------------------------------------------------------------------------------------------------------------------------------------------------------------------------------------------------------------------------------------------------------------------------------------------------------------------------------------------------------------------------------------------------------------------------------------------------------------------------------------------------------------------------------------------------------------------------------------------------------------------------------------------------------------------------------------------------------------------------------------------------------------------------------------------------------------------------------------------------------------------------------------------------------------------------------------------------------------------------------------------------------------------------------------------------------------------------------------------------------------------------------------------------------------------------------------------------------------------------------------------------------------------------------------------------------------------------------------------------------------------------------------------------------------------------------------------------------------------------------------------------------------------------------------------------------------------------------------------------------------------------------------------------------------------------------------------------------------------------------------------------------------------------------------------------------------------------------------------------------------------------------------------------------------------------------------------------------------------------------------------------------------------------------------------------------------------------------------------------------------------------------------------------------------------------------------------------------------------------------------------------------------------------------------------------------------------------------------------------------------------------------------------------------------------------------------------------------------------------------------------------------------------------------------------------------------------------------------------------------------------------------------------------------------------------------------------------------------------------------------------------------------------------------------------------------------------------------------------------------------------------------------------------------------------------------------------------------------------------------------------------------------------------------------------------------------------------------------------------------------------------------------------------------------------------------------------------------------------------------------------------------------------------------------------------------------------------------------------------------------------------------------------------------------------------------------------------------------------------------------------------------------------------------------------------------------------------------------------------------------------------------------------------------------------------------------------------------------------------------------------------------------------------------------------------------------------------------------------------------------------------------------------------------------------------------------------------------------------------------------------------------------------------------------------------------------------------------------------------------------------------------------------------------------------------------------------------------------------------------------------------------------------------------------------------------------------------------------------------------------------------------------------------------------------------------------------------------------------------------------------------------------------------------------------------------------------------------------------------------------------------------------------------------------------------------------------------------------------------------------------------------------------------------------------------------------------------------------------------------------------------------------------------------------------------------------------------------------------------------------------------------------------------------------------------------------------------------------------------------------------------------------------------------------------------------------------------------------------------------------------------------------------------------------------------------------------------------------------------------------------------------------------------------------------------------------------------------------------------------------------------------------------------------------------------------------------------------------------------------------------------------------------------------------------------------------------------------------------------------------------------------------------------------------------------------------------------------------------------------------------------------------------------------------------------------------------------------------------------------------------------------------------------------------------------------------------------------------------------------------------------------------------------------------------------------------------------------------------------------------------------------------------------------------------------------------------------------------------------------------------------------------------------------------------------------------------------------------------------------------------------------------------------------------------------------------------------------------------------------------------------------------------------------------------------------------------------------------------------------------------------------------------------------------------------------------------------------------------------------------------------------------------------------------------------------------------------------------------------------------------------------------------------------------------------------------------------------------------------------------------------------------------------------------------------------------------------------------------------------------------------------------------------------------------------------------------------------------+-------+\n",
      "|operationType|partitionToWriteStats                                                                                                                                                   |extraMetadata                                                                                                                                                                                                                                                                                                                                                                                                                                                                                                                                                                                                                                                                                                                                                                                                                                                                                                                                                                                                                                                                                                                                                                                                                                                                                                                                                                                                                                                                                                                                                                                                                                                                                                                                                                                                                                                                                                                                                                                                                                                                                                                                                                                                                                                                                                                                                                                                                                                                                                                                                                                                                                                                                                                                                                                                                                                                                                                                                                                                                                                                                                                                                                                                                                                                                                                                                                                                                                                                                                                                                                                                                                                                                                                                                                                                                                                                                                                                                                                                                                                                                                                                                                                                                                                                                                                                                                                                                                                                                                                                                                                                                                                                                                                                                                                                                                                                                                                                                                                                                                                                                                                                                                                                                                                                                                                                                                                                                                                                                                                                                                                                                                                                                                                                                                                                                                                                                                                                                                                                                                                                                                                                                                                                                                                                                                                                                                                                                                                                                                                                                                                                                                                                                                                                                                                                                                                                                                                                                                                                                                                                                                                                                                                                                                                                                                                                                                                                                                                                                                                                                                                                                                                                                  |version|\n",
      "+-------------+------------------------------------------------------------------------------------------------------------------------------------------------------------------------+-----------------------------------------------------------------------------------------------------------------------------------------------------------------------------------------------------------------------------------------------------------------------------------------------------------------------------------------------------------------------------------------------------------------------------------------------------------------------------------------------------------------------------------------------------------------------------------------------------------------------------------------------------------------------------------------------------------------------------------------------------------------------------------------------------------------------------------------------------------------------------------------------------------------------------------------------------------------------------------------------------------------------------------------------------------------------------------------------------------------------------------------------------------------------------------------------------------------------------------------------------------------------------------------------------------------------------------------------------------------------------------------------------------------------------------------------------------------------------------------------------------------------------------------------------------------------------------------------------------------------------------------------------------------------------------------------------------------------------------------------------------------------------------------------------------------------------------------------------------------------------------------------------------------------------------------------------------------------------------------------------------------------------------------------------------------------------------------------------------------------------------------------------------------------------------------------------------------------------------------------------------------------------------------------------------------------------------------------------------------------------------------------------------------------------------------------------------------------------------------------------------------------------------------------------------------------------------------------------------------------------------------------------------------------------------------------------------------------------------------------------------------------------------------------------------------------------------------------------------------------------------------------------------------------------------------------------------------------------------------------------------------------------------------------------------------------------------------------------------------------------------------------------------------------------------------------------------------------------------------------------------------------------------------------------------------------------------------------------------------------------------------------------------------------------------------------------------------------------------------------------------------------------------------------------------------------------------------------------------------------------------------------------------------------------------------------------------------------------------------------------------------------------------------------------------------------------------------------------------------------------------------------------------------------------------------------------------------------------------------------------------------------------------------------------------------------------------------------------------------------------------------------------------------------------------------------------------------------------------------------------------------------------------------------------------------------------------------------------------------------------------------------------------------------------------------------------------------------------------------------------------------------------------------------------------------------------------------------------------------------------------------------------------------------------------------------------------------------------------------------------------------------------------------------------------------------------------------------------------------------------------------------------------------------------------------------------------------------------------------------------------------------------------------------------------------------------------------------------------------------------------------------------------------------------------------------------------------------------------------------------------------------------------------------------------------------------------------------------------------------------------------------------------------------------------------------------------------------------------------------------------------------------------------------------------------------------------------------------------------------------------------------------------------------------------------------------------------------------------------------------------------------------------------------------------------------------------------------------------------------------------------------------------------------------------------------------------------------------------------------------------------------------------------------------------------------------------------------------------------------------------------------------------------------------------------------------------------------------------------------------------------------------------------------------------------------------------------------------------------------------------------------------------------------------------------------------------------------------------------------------------------------------------------------------------------------------------------------------------------------------------------------------------------------------------------------------------------------------------------------------------------------------------------------------------------------------------------------------------------------------------------------------------------------------------------------------------------------------------------------------------------------------------------------------------------------------------------------------------------------------------------------------------------------------------------------------------------------------------------------------------------------------------------------------------------------------------------------------------------------------------------------------------------------------------------------------------------------------------------------------------------------------------------------------------------------------------------------------------------------------------------------------------------------------------------------+-------+\n",
      "|BULK_INSERT  |{files -> [{files-0000-0, files/files-0000-0_0-4-3_00000000000000000.hfile, null, 1, 0, 0, 6964, 0, files, 0, null, 0, 1, 0, 0, 0, 6964, null, null, null, null, null}]}|{schema -> {\"type\":\"record\",\"name\":\"HoodieMetadataRecord\",\"namespace\":\"org.apache.hudi.avro.model\",\"doc\":\"A record saved within the Metadata Table\",\"fields\":[{\"name\":\"key\",\"type\":{\"type\":\"string\",\"avro.java.string\":\"String\"}},{\"name\":\"type\",\"type\":\"int\",\"doc\":\"Type of the metadata record\"},{\"name\":\"filesystemMetadata\",\"type\":[\"null\",{\"type\":\"map\",\"values\":{\"type\":\"record\",\"name\":\"HoodieMetadataFileInfo\",\"fields\":[{\"name\":\"size\",\"type\":\"long\",\"doc\":\"Size of the file\"},{\"name\":\"isDeleted\",\"type\":\"boolean\",\"doc\":\"True if this file has been deleted\"}]},\"avro.java.string\":\"String\"}],\"doc\":\"Contains information about partitions and files within the dataset\"},{\"name\":\"BloomFilterMetadata\",\"type\":[\"null\",{\"type\":\"record\",\"name\":\"HoodieMetadataBloomFilter\",\"doc\":\"Data file bloom filter details\",\"fields\":[{\"name\":\"type\",\"type\":{\"type\":\"string\",\"avro.java.string\":\"String\"},\"doc\":\"Bloom filter type code\"},{\"name\":\"timestamp\",\"type\":{\"type\":\"string\",\"avro.java.string\":\"String\"},\"doc\":\"Instant timestamp when this metadata was created/updated\"},{\"name\":\"bloomFilter\",\"type\":\"bytes\",\"doc\":\"Bloom filter binary byte array\"},{\"name\":\"isDeleted\",\"type\":\"boolean\",\"doc\":\"Bloom filter entry valid/deleted flag\"}]}],\"doc\":\"Metadata Index of bloom filters for all data files in the user table\",\"default\":null},{\"name\":\"ColumnStatsMetadata\",\"type\":[\"null\",{\"type\":\"record\",\"name\":\"HoodieMetadataColumnStats\",\"doc\":\"Data file column statistics\",\"fields\":[{\"name\":\"fileName\",\"type\":[\"null\",{\"type\":\"string\",\"avro.java.string\":\"String\"}],\"doc\":\"File name for which this column statistics applies\",\"default\":null},{\"name\":\"columnName\",\"type\":[\"null\",{\"type\":\"string\",\"avro.java.string\":\"String\"}],\"doc\":\"Column name for which this column statistics applies\",\"default\":null},{\"name\":\"minValue\",\"type\":[\"null\",{\"type\":\"record\",\"name\":\"BooleanWrapper\",\"doc\":\"A record wrapping boolean type to be able to be used it w/in Avro's Union\",\"fields\":[{\"name\":\"value\",\"type\":\"boolean\"}]},{\"type\":\"record\",\"name\":\"IntWrapper\",\"doc\":\"A record wrapping int type to be able to be used it w/in Avro's Union\",\"fields\":[{\"name\":\"value\",\"type\":\"int\"}]},{\"type\":\"record\",\"name\":\"LongWrapper\",\"doc\":\"A record wrapping long type to be able to be used it w/in Avro's Union\",\"fields\":[{\"name\":\"value\",\"type\":\"long\"}]},{\"type\":\"record\",\"name\":\"FloatWrapper\",\"doc\":\"A record wrapping float type to be able to be used it w/in Avro's Union\",\"fields\":[{\"name\":\"value\",\"type\":\"float\"}]},{\"type\":\"record\",\"name\":\"DoubleWrapper\",\"doc\":\"A record wrapping double type to be able to be used it w/in Avro's Union\",\"fields\":[{\"name\":\"value\",\"type\":\"double\"}]},{\"type\":\"record\",\"name\":\"BytesWrapper\",\"doc\":\"A record wrapping bytes type to be able to be used it w/in Avro's Union\",\"fields\":[{\"name\":\"value\",\"type\":\"bytes\"}]},{\"type\":\"record\",\"name\":\"StringWrapper\",\"doc\":\"A record wrapping string type to be able to be used it w/in Avro's Union\",\"fields\":[{\"name\":\"value\",\"type\":{\"type\":\"string\",\"avro.java.string\":\"String\"}}]},{\"type\":\"record\",\"name\":\"DateWrapper\",\"doc\":\"A record wrapping Date logical type to be able to be used it w/in Avro's Union\",\"fields\":[{\"name\":\"value\",\"type\":\"int\"}]},{\"type\":\"record\",\"name\":\"DecimalWrapper\",\"doc\":\"A record wrapping Decimal logical type to be able to be used it w/in Avro's Union\",\"fields\":[{\"name\":\"value\",\"type\":{\"type\":\"bytes\",\"logicalType\":\"decimal\",\"precision\":30,\"scale\":15}}]},{\"type\":\"record\",\"name\":\"TimeMicrosWrapper\",\"doc\":\"A record wrapping Time-micros logical type to be able to be used it w/in Avro's Union\",\"fields\":[{\"name\":\"value\",\"type\":{\"type\":\"long\",\"logicalType\":\"time-micros\"}}]},{\"type\":\"record\",\"name\":\"TimestampMicrosWrapper\",\"doc\":\"A record wrapping Timestamp-micros logical type to be able to be used it w/in Avro's Union\",\"fields\":[{\"name\":\"value\",\"type\":\"long\"}]}],\"doc\":\"Minimum value in the range. Based on user data table schema, we can convert this to appropriate type\",\"default\":null},{\"name\":\"maxValue\",\"type\":[\"null\",\"BooleanWrapper\",\"IntWrapper\",\"LongWrapper\",\"FloatWrapper\",\"DoubleWrapper\",\"BytesWrapper\",\"StringWrapper\",\"DateWrapper\",\"DecimalWrapper\",\"TimeMicrosWrapper\",\"TimestampMicrosWrapper\"],\"doc\":\"Maximum value in the range. Based on user data table schema, we can convert it to appropriate type\",\"default\":null},{\"name\":\"valueCount\",\"type\":[\"null\",\"long\"],\"doc\":\"Total count of values\",\"default\":null},{\"name\":\"nullCount\",\"type\":[\"null\",\"long\"],\"doc\":\"Total count of null values\",\"default\":null},{\"name\":\"totalSize\",\"type\":[\"null\",\"long\"],\"doc\":\"Total storage size on disk\",\"default\":null},{\"name\":\"totalUncompressedSize\",\"type\":[\"null\",\"long\"],\"doc\":\"Total uncompressed storage size on disk\",\"default\":null},{\"name\":\"isDeleted\",\"type\":\"boolean\",\"doc\":\"Column range entry valid/deleted flag\"},{\"name\":\"isTightBound\",\"type\":\"boolean\",\"doc\":\"Whether the min/max range of a column is tight bound or not\",\"default\":false}]}],\"doc\":\"Metadata Index of column statistics for all data files in the user table\",\"default\":null},{\"name\":\"recordIndexMetadata\",\"type\":[\"null\",{\"type\":\"record\",\"name\":\"HoodieRecordIndexInfo\",\"fields\":[{\"name\":\"partitionName\",\"type\":[\"null\",{\"type\":\"string\",\"avro.java.string\":\"String\"}],\"doc\":\"Refers to the partition name the record belongs to\",\"default\":null},{\"name\":\"fileIdHighBits\",\"type\":[\"null\",\"long\"],\"doc\":\"Refers to high 64 bits if the fileId is based on UUID format. \\nA UUID based fileId is stored as 3 pieces in RLI (fileIdHighBits, fileIdLowBits and fileIndex). \\nFileID format is {UUID}-{fileIndex}.\",\"default\":null},{\"name\":\"fileIdLowBits\",\"type\":[\"null\",\"long\"],\"doc\":\"Refers to low 64 bits if the fileId is based on UUID format. \\nA UUID based fileId is stored as 3 pieces in RLI (fileIdHighBits, fileIdLowBits and fileIndex). \\nFileID format is {UUID}-{fileIndex}.\",\"default\":null},{\"name\":\"fileIndex\",\"type\":[\"null\",\"int\"],\"doc\":\"Index representing file index which is used to re-construct UUID based fileID. Applicable when the fileId is based on UUID format. \\nA UUID based fileId is stored as 3 pieces in RLI (fileIdHighBits, fileIdLowBits and fileIndex). \\nFileID format is {UUID}-{fileIndex}.\",\"default\":null},{\"name\":\"fileId\",\"type\":[\"null\",{\"type\":\"string\",\"avro.java.string\":\"String\"}],\"doc\":\"Represents fileId of the location where record belongs to. When the encoding is 1, fileID is stored in raw string format.\",\"default\":null},{\"name\":\"instantTime\",\"type\":[\"null\",\"long\"],\"doc\":\"Epoch time in millisecond representing the commit time at which record was added\",\"default\":null},{\"name\":\"fileIdEncoding\",\"type\":\"int\",\"doc\":\"Represents fileId encoding. Possible values are 0 and 1. O represents UUID based fileID, and 1 represents raw string format of the fileId. \\nWhen the encoding is 0, reader can deduce fileID from fileIdLowBits, fileIdHighBits and fileIndex.\",\"default\":0},{\"name\":\"position\",\"type\":[\"null\",\"long\"],\"doc\":\"Represents position of record within a file group for easier access. It will be used for index lookup.\",\"default\":null}]}],\"doc\":\"Metadata Index that contains information about record keys and their location in the dataset\",\"default\":null},{\"name\":\"SecondaryIndexMetadata\",\"type\":[\"null\",{\"type\":\"record\",\"name\":\"HoodieSecondaryIndexInfo\",\"fields\":[{\"name\":\"isDeleted\",\"type\":\"boolean\",\"doc\":\"True if this entry has been deleted\"}]}],\"doc\":\"Metadata Index that contains information about secondary keys and the corresponding record keys in the dataset\",\"default\":null}]}}|null   |\n",
      "+-------------+------------------------------------------------------------------------------------------------------------------------------------------------------------------------+-----------------------------------------------------------------------------------------------------------------------------------------------------------------------------------------------------------------------------------------------------------------------------------------------------------------------------------------------------------------------------------------------------------------------------------------------------------------------------------------------------------------------------------------------------------------------------------------------------------------------------------------------------------------------------------------------------------------------------------------------------------------------------------------------------------------------------------------------------------------------------------------------------------------------------------------------------------------------------------------------------------------------------------------------------------------------------------------------------------------------------------------------------------------------------------------------------------------------------------------------------------------------------------------------------------------------------------------------------------------------------------------------------------------------------------------------------------------------------------------------------------------------------------------------------------------------------------------------------------------------------------------------------------------------------------------------------------------------------------------------------------------------------------------------------------------------------------------------------------------------------------------------------------------------------------------------------------------------------------------------------------------------------------------------------------------------------------------------------------------------------------------------------------------------------------------------------------------------------------------------------------------------------------------------------------------------------------------------------------------------------------------------------------------------------------------------------------------------------------------------------------------------------------------------------------------------------------------------------------------------------------------------------------------------------------------------------------------------------------------------------------------------------------------------------------------------------------------------------------------------------------------------------------------------------------------------------------------------------------------------------------------------------------------------------------------------------------------------------------------------------------------------------------------------------------------------------------------------------------------------------------------------------------------------------------------------------------------------------------------------------------------------------------------------------------------------------------------------------------------------------------------------------------------------------------------------------------------------------------------------------------------------------------------------------------------------------------------------------------------------------------------------------------------------------------------------------------------------------------------------------------------------------------------------------------------------------------------------------------------------------------------------------------------------------------------------------------------------------------------------------------------------------------------------------------------------------------------------------------------------------------------------------------------------------------------------------------------------------------------------------------------------------------------------------------------------------------------------------------------------------------------------------------------------------------------------------------------------------------------------------------------------------------------------------------------------------------------------------------------------------------------------------------------------------------------------------------------------------------------------------------------------------------------------------------------------------------------------------------------------------------------------------------------------------------------------------------------------------------------------------------------------------------------------------------------------------------------------------------------------------------------------------------------------------------------------------------------------------------------------------------------------------------------------------------------------------------------------------------------------------------------------------------------------------------------------------------------------------------------------------------------------------------------------------------------------------------------------------------------------------------------------------------------------------------------------------------------------------------------------------------------------------------------------------------------------------------------------------------------------------------------------------------------------------------------------------------------------------------------------------------------------------------------------------------------------------------------------------------------------------------------------------------------------------------------------------------------------------------------------------------------------------------------------------------------------------------------------------------------------------------------------------------------------------------------------------------------------------------------------------------------------------------------------------------------------------------------------------------------------------------------------------------------------------------------------------------------------------------------------------------------------------------------------------------------------------------------------------------------------------------------------------------------------------------------------------------------------------------------------------------------------------------------------------------------------------------------------------------------------------------------------------------------------------------------------------------------------------------------------------------------------------------------------------------------------------------------------------------------------------------------------------------------------------------------------------------------------------------------------------------------------------------------------------------------------+-------+\n",
      "\n",
      "\n",
      "/tmp/hudi/trips_table/.hoodie/metadata/.hoodie/timeline/20250303220644309_20250303220647611.deltacommit\n",
      "+--------------+---------------------------------------------------------------------------------------------------------------------------------------------------------------------------------------------------------------------------+-----------------------------------------------------------------------------------------------------------------------------------------------------------------------------------------------------------------------------------------------------------------------------------------------------------------------------------------------------------------------------------------------------------------------------------------------------------------------------------------------------------------------------------------------------------------------------------------------------------------------------------------------------------------------------------------------------------------------------------------------------------------------------------------------------------------------------------------------------------------------------------------------------------------------------------------------------------------------------------------------------------------------------------------------------------------------------------------------------------------------------------------------------------------------------------------------------------------------------------------------------------------------------------------------------------------------------------------------------------------------------------------------------------------------------------------------------------------------------------------------------------------------------------------------------------------------------------------------------------------------------------------------------------------------------------------------------------------------------------------------------------------------------------------------------------------------------------------------------------------------------------------------------------------------------------------------------------------------------------------------------------------------------------------------------------------------------------------------------------------------------------------------------------------------------------------------------------------------------------------------------------------------------------------------------------------------------------------------------------------------------------------------------------------------------------------------------------------------------------------------------------------------------------------------------------------------------------------------------------------------------------------------------------------------------------------------------------------------------------------------------------------------------------------------------------------------------------------------------------------------------------------------------------------------------------------------------------------------------------------------------------------------------------------------------------------------------------------------------------------------------------------------------------------------------------------------------------------------------------------------------------------------------------------------------------------------------------------------------------------------------------------------------------------------------------------------------------------------------------------------------------------------------------------------------------------------------------------------------------------------------------------------------------------------------------------------------------------------------------------------------------------------------------------------------------------------------------------------------------------------------------------------------------------------------------------------------------------------------------------------------------------------------------------------------------------------------------------------------------------------------------------------------------------------------------------------------------------------------------------------------------------------------------------------------------------------------------------------------------------------------------------------------------------------------------------------------------------------------------------------------------------------------------------------------------------------------------------------------------------------------------------------------------------------------------------------------------------------------------------------------------------------------------------------------------------------------------------------------------------------------------------------------------------------------------------------------------------------------------------------------------------------------------------------------------------------------------------------------------------------------------------------------------------------------------------------------------------------------------------------------------------------------------------------------------------------------------------------------------------------------------------------------------------------------------------------------------------------------------------------------------------------------------------------------------------------------------------------------------------------------------------------------------------------------------------------------------------------------------------------------------------------------------------------------------------------------------------------------------------------------------------------------------------------------------------------------------------------------------------------------------------------------------------------------------------------------------------------------------------------------------------------------------------------------------------------------------------------------------------------------------------------------------------------------------------------------------------------------------------------------------------------------------------------------------------------------------------------------------------------------------------------------------------------------------------------------------------------------------------------------------------------------------------------------------------------------------------------------------------------------------------------------------------------------------------------------------------------------------------------------------------------------------------------------------------------------------------------------------------------------------------------------------------------------------------------------------------------------------------------------------------------------------------------------------------------------------------------------------------------------------------------------------------------------------------------------------------------------------------------------------------------------------------------------------------------------------------------------------------------------------------------------------------------------------------------------------------------------------------------------------------------------------------------------------------------+-------+\n",
      "|operationType |partitionToWriteStats                                                                                                                                                                                                      |extraMetadata                                                                                                                                                                                                                                                                                                                                                                                                                                                                                                                                                                                                                                                                                                                                                                                                                                                                                                                                                                                                                                                                                                                                                                                                                                                                                                                                                                                                                                                                                                                                                                                                                                                                                                                                                                                                                                                                                                                                                                                                                                                                                                                                                                                                                                                                                                                                                                                                                                                                                                                                                                                                                                                                                                                                                                                                                                                                                                                                                                                                                                                                                                                                                                                                                                                                                                                                                                                                                                                                                                                                                                                                                                                                                                                                                                                                                                                                                                                                                                                                                                                                                                                                                                                                                                                                                                                                                                                                                                                                                                                                                                                                                                                                                                                                                                                                                                                                                                                                                                                                                                                                                                                                                                                                                                                                                                                                                                                                                                                                                                                                                                                                                                                                                                                                                                                                                                                                                                                                                                                                                                                                                                                                                                                                                                                                                                                                                                                                                                                                                                                                                                                                                                                                                                                                                                                                                                                                                                                                                                                                                                                                                                                                                                                                                                                                                                                                                                                                                                                                                                                                                                                                                                                                                  |version|\n",
      "+--------------+---------------------------------------------------------------------------------------------------------------------------------------------------------------------------------------------------------------------------+-----------------------------------------------------------------------------------------------------------------------------------------------------------------------------------------------------------------------------------------------------------------------------------------------------------------------------------------------------------------------------------------------------------------------------------------------------------------------------------------------------------------------------------------------------------------------------------------------------------------------------------------------------------------------------------------------------------------------------------------------------------------------------------------------------------------------------------------------------------------------------------------------------------------------------------------------------------------------------------------------------------------------------------------------------------------------------------------------------------------------------------------------------------------------------------------------------------------------------------------------------------------------------------------------------------------------------------------------------------------------------------------------------------------------------------------------------------------------------------------------------------------------------------------------------------------------------------------------------------------------------------------------------------------------------------------------------------------------------------------------------------------------------------------------------------------------------------------------------------------------------------------------------------------------------------------------------------------------------------------------------------------------------------------------------------------------------------------------------------------------------------------------------------------------------------------------------------------------------------------------------------------------------------------------------------------------------------------------------------------------------------------------------------------------------------------------------------------------------------------------------------------------------------------------------------------------------------------------------------------------------------------------------------------------------------------------------------------------------------------------------------------------------------------------------------------------------------------------------------------------------------------------------------------------------------------------------------------------------------------------------------------------------------------------------------------------------------------------------------------------------------------------------------------------------------------------------------------------------------------------------------------------------------------------------------------------------------------------------------------------------------------------------------------------------------------------------------------------------------------------------------------------------------------------------------------------------------------------------------------------------------------------------------------------------------------------------------------------------------------------------------------------------------------------------------------------------------------------------------------------------------------------------------------------------------------------------------------------------------------------------------------------------------------------------------------------------------------------------------------------------------------------------------------------------------------------------------------------------------------------------------------------------------------------------------------------------------------------------------------------------------------------------------------------------------------------------------------------------------------------------------------------------------------------------------------------------------------------------------------------------------------------------------------------------------------------------------------------------------------------------------------------------------------------------------------------------------------------------------------------------------------------------------------------------------------------------------------------------------------------------------------------------------------------------------------------------------------------------------------------------------------------------------------------------------------------------------------------------------------------------------------------------------------------------------------------------------------------------------------------------------------------------------------------------------------------------------------------------------------------------------------------------------------------------------------------------------------------------------------------------------------------------------------------------------------------------------------------------------------------------------------------------------------------------------------------------------------------------------------------------------------------------------------------------------------------------------------------------------------------------------------------------------------------------------------------------------------------------------------------------------------------------------------------------------------------------------------------------------------------------------------------------------------------------------------------------------------------------------------------------------------------------------------------------------------------------------------------------------------------------------------------------------------------------------------------------------------------------------------------------------------------------------------------------------------------------------------------------------------------------------------------------------------------------------------------------------------------------------------------------------------------------------------------------------------------------------------------------------------------------------------------------------------------------------------------------------------------------------------------------------------------------------------------------------------------------------------------------------------------------------------------------------------------------------------------------------------------------------------------------------------------------------------------------------------------------------------------------------------------------------------------------------------------------------------------------------------------------------------------------------------------------------------------------------------------+-------+\n",
      "|UPSERT_PREPPED|{files -> [{files-0000-0, files/.files-0000-0_20250303220644309.log.1_0-11-10, 20250303220644309, 4, 0, 4, 14237, 0, files, 0, null, 0, 0, 0, 0, 0, 14237, 1, 0, , [.files-0000-0_20250303220644309.log.1_0-11-10], null}]}|{schema -> {\"type\":\"record\",\"name\":\"HoodieMetadataRecord\",\"namespace\":\"org.apache.hudi.avro.model\",\"doc\":\"A record saved within the Metadata Table\",\"fields\":[{\"name\":\"key\",\"type\":{\"type\":\"string\",\"avro.java.string\":\"String\"}},{\"name\":\"type\",\"type\":\"int\",\"doc\":\"Type of the metadata record\"},{\"name\":\"filesystemMetadata\",\"type\":[\"null\",{\"type\":\"map\",\"values\":{\"type\":\"record\",\"name\":\"HoodieMetadataFileInfo\",\"fields\":[{\"name\":\"size\",\"type\":\"long\",\"doc\":\"Size of the file\"},{\"name\":\"isDeleted\",\"type\":\"boolean\",\"doc\":\"True if this file has been deleted\"}]},\"avro.java.string\":\"String\"}],\"doc\":\"Contains information about partitions and files within the dataset\"},{\"name\":\"BloomFilterMetadata\",\"type\":[\"null\",{\"type\":\"record\",\"name\":\"HoodieMetadataBloomFilter\",\"doc\":\"Data file bloom filter details\",\"fields\":[{\"name\":\"type\",\"type\":{\"type\":\"string\",\"avro.java.string\":\"String\"},\"doc\":\"Bloom filter type code\"},{\"name\":\"timestamp\",\"type\":{\"type\":\"string\",\"avro.java.string\":\"String\"},\"doc\":\"Instant timestamp when this metadata was created/updated\"},{\"name\":\"bloomFilter\",\"type\":\"bytes\",\"doc\":\"Bloom filter binary byte array\"},{\"name\":\"isDeleted\",\"type\":\"boolean\",\"doc\":\"Bloom filter entry valid/deleted flag\"}]}],\"doc\":\"Metadata Index of bloom filters for all data files in the user table\",\"default\":null},{\"name\":\"ColumnStatsMetadata\",\"type\":[\"null\",{\"type\":\"record\",\"name\":\"HoodieMetadataColumnStats\",\"doc\":\"Data file column statistics\",\"fields\":[{\"name\":\"fileName\",\"type\":[\"null\",{\"type\":\"string\",\"avro.java.string\":\"String\"}],\"doc\":\"File name for which this column statistics applies\",\"default\":null},{\"name\":\"columnName\",\"type\":[\"null\",{\"type\":\"string\",\"avro.java.string\":\"String\"}],\"doc\":\"Column name for which this column statistics applies\",\"default\":null},{\"name\":\"minValue\",\"type\":[\"null\",{\"type\":\"record\",\"name\":\"BooleanWrapper\",\"doc\":\"A record wrapping boolean type to be able to be used it w/in Avro's Union\",\"fields\":[{\"name\":\"value\",\"type\":\"boolean\"}]},{\"type\":\"record\",\"name\":\"IntWrapper\",\"doc\":\"A record wrapping int type to be able to be used it w/in Avro's Union\",\"fields\":[{\"name\":\"value\",\"type\":\"int\"}]},{\"type\":\"record\",\"name\":\"LongWrapper\",\"doc\":\"A record wrapping long type to be able to be used it w/in Avro's Union\",\"fields\":[{\"name\":\"value\",\"type\":\"long\"}]},{\"type\":\"record\",\"name\":\"FloatWrapper\",\"doc\":\"A record wrapping float type to be able to be used it w/in Avro's Union\",\"fields\":[{\"name\":\"value\",\"type\":\"float\"}]},{\"type\":\"record\",\"name\":\"DoubleWrapper\",\"doc\":\"A record wrapping double type to be able to be used it w/in Avro's Union\",\"fields\":[{\"name\":\"value\",\"type\":\"double\"}]},{\"type\":\"record\",\"name\":\"BytesWrapper\",\"doc\":\"A record wrapping bytes type to be able to be used it w/in Avro's Union\",\"fields\":[{\"name\":\"value\",\"type\":\"bytes\"}]},{\"type\":\"record\",\"name\":\"StringWrapper\",\"doc\":\"A record wrapping string type to be able to be used it w/in Avro's Union\",\"fields\":[{\"name\":\"value\",\"type\":{\"type\":\"string\",\"avro.java.string\":\"String\"}}]},{\"type\":\"record\",\"name\":\"DateWrapper\",\"doc\":\"A record wrapping Date logical type to be able to be used it w/in Avro's Union\",\"fields\":[{\"name\":\"value\",\"type\":\"int\"}]},{\"type\":\"record\",\"name\":\"DecimalWrapper\",\"doc\":\"A record wrapping Decimal logical type to be able to be used it w/in Avro's Union\",\"fields\":[{\"name\":\"value\",\"type\":{\"type\":\"bytes\",\"logicalType\":\"decimal\",\"precision\":30,\"scale\":15}}]},{\"type\":\"record\",\"name\":\"TimeMicrosWrapper\",\"doc\":\"A record wrapping Time-micros logical type to be able to be used it w/in Avro's Union\",\"fields\":[{\"name\":\"value\",\"type\":{\"type\":\"long\",\"logicalType\":\"time-micros\"}}]},{\"type\":\"record\",\"name\":\"TimestampMicrosWrapper\",\"doc\":\"A record wrapping Timestamp-micros logical type to be able to be used it w/in Avro's Union\",\"fields\":[{\"name\":\"value\",\"type\":\"long\"}]}],\"doc\":\"Minimum value in the range. Based on user data table schema, we can convert this to appropriate type\",\"default\":null},{\"name\":\"maxValue\",\"type\":[\"null\",\"BooleanWrapper\",\"IntWrapper\",\"LongWrapper\",\"FloatWrapper\",\"DoubleWrapper\",\"BytesWrapper\",\"StringWrapper\",\"DateWrapper\",\"DecimalWrapper\",\"TimeMicrosWrapper\",\"TimestampMicrosWrapper\"],\"doc\":\"Maximum value in the range. Based on user data table schema, we can convert it to appropriate type\",\"default\":null},{\"name\":\"valueCount\",\"type\":[\"null\",\"long\"],\"doc\":\"Total count of values\",\"default\":null},{\"name\":\"nullCount\",\"type\":[\"null\",\"long\"],\"doc\":\"Total count of null values\",\"default\":null},{\"name\":\"totalSize\",\"type\":[\"null\",\"long\"],\"doc\":\"Total storage size on disk\",\"default\":null},{\"name\":\"totalUncompressedSize\",\"type\":[\"null\",\"long\"],\"doc\":\"Total uncompressed storage size on disk\",\"default\":null},{\"name\":\"isDeleted\",\"type\":\"boolean\",\"doc\":\"Column range entry valid/deleted flag\"},{\"name\":\"isTightBound\",\"type\":\"boolean\",\"doc\":\"Whether the min/max range of a column is tight bound or not\",\"default\":false}]}],\"doc\":\"Metadata Index of column statistics for all data files in the user table\",\"default\":null},{\"name\":\"recordIndexMetadata\",\"type\":[\"null\",{\"type\":\"record\",\"name\":\"HoodieRecordIndexInfo\",\"fields\":[{\"name\":\"partitionName\",\"type\":[\"null\",{\"type\":\"string\",\"avro.java.string\":\"String\"}],\"doc\":\"Refers to the partition name the record belongs to\",\"default\":null},{\"name\":\"fileIdHighBits\",\"type\":[\"null\",\"long\"],\"doc\":\"Refers to high 64 bits if the fileId is based on UUID format. \\nA UUID based fileId is stored as 3 pieces in RLI (fileIdHighBits, fileIdLowBits and fileIndex). \\nFileID format is {UUID}-{fileIndex}.\",\"default\":null},{\"name\":\"fileIdLowBits\",\"type\":[\"null\",\"long\"],\"doc\":\"Refers to low 64 bits if the fileId is based on UUID format. \\nA UUID based fileId is stored as 3 pieces in RLI (fileIdHighBits, fileIdLowBits and fileIndex). \\nFileID format is {UUID}-{fileIndex}.\",\"default\":null},{\"name\":\"fileIndex\",\"type\":[\"null\",\"int\"],\"doc\":\"Index representing file index which is used to re-construct UUID based fileID. Applicable when the fileId is based on UUID format. \\nA UUID based fileId is stored as 3 pieces in RLI (fileIdHighBits, fileIdLowBits and fileIndex). \\nFileID format is {UUID}-{fileIndex}.\",\"default\":null},{\"name\":\"fileId\",\"type\":[\"null\",{\"type\":\"string\",\"avro.java.string\":\"String\"}],\"doc\":\"Represents fileId of the location where record belongs to. When the encoding is 1, fileID is stored in raw string format.\",\"default\":null},{\"name\":\"instantTime\",\"type\":[\"null\",\"long\"],\"doc\":\"Epoch time in millisecond representing the commit time at which record was added\",\"default\":null},{\"name\":\"fileIdEncoding\",\"type\":\"int\",\"doc\":\"Represents fileId encoding. Possible values are 0 and 1. O represents UUID based fileID, and 1 represents raw string format of the fileId. \\nWhen the encoding is 0, reader can deduce fileID from fileIdLowBits, fileIdHighBits and fileIndex.\",\"default\":0},{\"name\":\"position\",\"type\":[\"null\",\"long\"],\"doc\":\"Represents position of record within a file group for easier access. It will be used for index lookup.\",\"default\":null}]}],\"doc\":\"Metadata Index that contains information about record keys and their location in the dataset\",\"default\":null},{\"name\":\"SecondaryIndexMetadata\",\"type\":[\"null\",{\"type\":\"record\",\"name\":\"HoodieSecondaryIndexInfo\",\"fields\":[{\"name\":\"isDeleted\",\"type\":\"boolean\",\"doc\":\"True if this entry has been deleted\"}]}],\"doc\":\"Metadata Index that contains information about secondary keys and the corresponding record keys in the dataset\",\"default\":null}]}}|null   |\n",
      "+--------------+---------------------------------------------------------------------------------------------------------------------------------------------------------------------------------------------------------------------------+-----------------------------------------------------------------------------------------------------------------------------------------------------------------------------------------------------------------------------------------------------------------------------------------------------------------------------------------------------------------------------------------------------------------------------------------------------------------------------------------------------------------------------------------------------------------------------------------------------------------------------------------------------------------------------------------------------------------------------------------------------------------------------------------------------------------------------------------------------------------------------------------------------------------------------------------------------------------------------------------------------------------------------------------------------------------------------------------------------------------------------------------------------------------------------------------------------------------------------------------------------------------------------------------------------------------------------------------------------------------------------------------------------------------------------------------------------------------------------------------------------------------------------------------------------------------------------------------------------------------------------------------------------------------------------------------------------------------------------------------------------------------------------------------------------------------------------------------------------------------------------------------------------------------------------------------------------------------------------------------------------------------------------------------------------------------------------------------------------------------------------------------------------------------------------------------------------------------------------------------------------------------------------------------------------------------------------------------------------------------------------------------------------------------------------------------------------------------------------------------------------------------------------------------------------------------------------------------------------------------------------------------------------------------------------------------------------------------------------------------------------------------------------------------------------------------------------------------------------------------------------------------------------------------------------------------------------------------------------------------------------------------------------------------------------------------------------------------------------------------------------------------------------------------------------------------------------------------------------------------------------------------------------------------------------------------------------------------------------------------------------------------------------------------------------------------------------------------------------------------------------------------------------------------------------------------------------------------------------------------------------------------------------------------------------------------------------------------------------------------------------------------------------------------------------------------------------------------------------------------------------------------------------------------------------------------------------------------------------------------------------------------------------------------------------------------------------------------------------------------------------------------------------------------------------------------------------------------------------------------------------------------------------------------------------------------------------------------------------------------------------------------------------------------------------------------------------------------------------------------------------------------------------------------------------------------------------------------------------------------------------------------------------------------------------------------------------------------------------------------------------------------------------------------------------------------------------------------------------------------------------------------------------------------------------------------------------------------------------------------------------------------------------------------------------------------------------------------------------------------------------------------------------------------------------------------------------------------------------------------------------------------------------------------------------------------------------------------------------------------------------------------------------------------------------------------------------------------------------------------------------------------------------------------------------------------------------------------------------------------------------------------------------------------------------------------------------------------------------------------------------------------------------------------------------------------------------------------------------------------------------------------------------------------------------------------------------------------------------------------------------------------------------------------------------------------------------------------------------------------------------------------------------------------------------------------------------------------------------------------------------------------------------------------------------------------------------------------------------------------------------------------------------------------------------------------------------------------------------------------------------------------------------------------------------------------------------------------------------------------------------------------------------------------------------------------------------------------------------------------------------------------------------------------------------------------------------------------------------------------------------------------------------------------------------------------------------------------------------------------------------------------------------------------------------------------------------------------------------------------------------------------------------------------------------------------------------------------------------------------------------------------------------------------------------------------------------------------------------------------------------------------------------------------------------------------------------------------------------------------------------------------------------------------------------------------------------------------------------------------------------------------------------------------------------------------------+-------+\n",
      "\n",
      "\n",
      "/tmp/hudi/trips_table/.hoodie/metadata/.hoodie/timeline/20250303220705496_20250303220706320.deltacommit\n",
      "+--------------+---------------------------------------------------------------------------------------------------------------------------------------------------------------------------------------------------------------------------+-----------------------------------------------------------------------------------------------------------------------------------------------------------------------------------------------------------------------------------------------------------------------------------------------------------------------------------------------------------------------------------------------------------------------------------------------------------------------------------------------------------------------------------------------------------------------------------------------------------------------------------------------------------------------------------------------------------------------------------------------------------------------------------------------------------------------------------------------------------------------------------------------------------------------------------------------------------------------------------------------------------------------------------------------------------------------------------------------------------------------------------------------------------------------------------------------------------------------------------------------------------------------------------------------------------------------------------------------------------------------------------------------------------------------------------------------------------------------------------------------------------------------------------------------------------------------------------------------------------------------------------------------------------------------------------------------------------------------------------------------------------------------------------------------------------------------------------------------------------------------------------------------------------------------------------------------------------------------------------------------------------------------------------------------------------------------------------------------------------------------------------------------------------------------------------------------------------------------------------------------------------------------------------------------------------------------------------------------------------------------------------------------------------------------------------------------------------------------------------------------------------------------------------------------------------------------------------------------------------------------------------------------------------------------------------------------------------------------------------------------------------------------------------------------------------------------------------------------------------------------------------------------------------------------------------------------------------------------------------------------------------------------------------------------------------------------------------------------------------------------------------------------------------------------------------------------------------------------------------------------------------------------------------------------------------------------------------------------------------------------------------------------------------------------------------------------------------------------------------------------------------------------------------------------------------------------------------------------------------------------------------------------------------------------------------------------------------------------------------------------------------------------------------------------------------------------------------------------------------------------------------------------------------------------------------------------------------------------------------------------------------------------------------------------------------------------------------------------------------------------------------------------------------------------------------------------------------------------------------------------------------------------------------------------------------------------------------------------------------------------------------------------------------------------------------------------------------------------------------------------------------------------------------------------------------------------------------------------------------------------------------------------------------------------------------------------------------------------------------------------------------------------------------------------------------------------------------------------------------------------------------------------------------------------------------------------------------------------------------------------------------------------------------------------------------------------------------------------------------------------------------------------------------------------------------------------------------------------------------------------------------------------------------------------------------------------------------------------------------------------------------------------------------------------------------------------------------------------------------------------------------------------------------------------------------------------------------------------------------------------------------------------------------------------------------------------------------------------------------------------------------------------------------------------------------------------------------------------------------------------------------------------------------------------------------------------------------------------------------------------------------------------------------------------------------------------------------------------------------------------------------------------------------------------------------------------------------------------------------------------------------------------------------------------------------------------------------------------------------------------------------------------------------------------------------------------------------------------------------------------------------------------------------------------------------------------------------------------------------------------------------------------------------------------------------------------------------------------------------------------------------------------------------------------------------------------------------------------------------------------------------------------------------------------------------------------------------------------------------------------------------------------------------------------------------------------------------------------------------------------------------------------------------------------------------------------------------------------------------------------------------------------------------------------------------------------------------------------------------------------------------------------------------------------------------------------------------------------------------------------------------------------------------------------------------------------------------------------------------------------------------------------------------------------------------------------+-------+\n",
      "|operationType |partitionToWriteStats                                                                                                                                                                                                      |extraMetadata                                                                                                                                                                                                                                                                                                                                                                                                                                                                                                                                                                                                                                                                                                                                                                                                                                                                                                                                                                                                                                                                                                                                                                                                                                                                                                                                                                                                                                                                                                                                                                                                                                                                                                                                                                                                                                                                                                                                                                                                                                                                                                                                                                                                                                                                                                                                                                                                                                                                                                                                                                                                                                                                                                                                                                                                                                                                                                                                                                                                                                                                                                                                                                                                                                                                                                                                                                                                                                                                                                                                                                                                                                                                                                                                                                                                                                                                                                                                                                                                                                                                                                                                                                                                                                                                                                                                                                                                                                                                                                                                                                                                                                                                                                                                                                                                                                                                                                                                                                                                                                                                                                                                                                                                                                                                                                                                                                                                                                                                                                                                                                                                                                                                                                                                                                                                                                                                                                                                                                                                                                                                                                                                                                                                                                                                                                                                                                                                                                                                                                                                                                                                                                                                                                                                                                                                                                                                                                                                                                                                                                                                                                                                                                                                                                                                                                                                                                                                                                                                                                                                                                                                                                                                                  |version|\n",
      "+--------------+---------------------------------------------------------------------------------------------------------------------------------------------------------------------------------------------------------------------------+-----------------------------------------------------------------------------------------------------------------------------------------------------------------------------------------------------------------------------------------------------------------------------------------------------------------------------------------------------------------------------------------------------------------------------------------------------------------------------------------------------------------------------------------------------------------------------------------------------------------------------------------------------------------------------------------------------------------------------------------------------------------------------------------------------------------------------------------------------------------------------------------------------------------------------------------------------------------------------------------------------------------------------------------------------------------------------------------------------------------------------------------------------------------------------------------------------------------------------------------------------------------------------------------------------------------------------------------------------------------------------------------------------------------------------------------------------------------------------------------------------------------------------------------------------------------------------------------------------------------------------------------------------------------------------------------------------------------------------------------------------------------------------------------------------------------------------------------------------------------------------------------------------------------------------------------------------------------------------------------------------------------------------------------------------------------------------------------------------------------------------------------------------------------------------------------------------------------------------------------------------------------------------------------------------------------------------------------------------------------------------------------------------------------------------------------------------------------------------------------------------------------------------------------------------------------------------------------------------------------------------------------------------------------------------------------------------------------------------------------------------------------------------------------------------------------------------------------------------------------------------------------------------------------------------------------------------------------------------------------------------------------------------------------------------------------------------------------------------------------------------------------------------------------------------------------------------------------------------------------------------------------------------------------------------------------------------------------------------------------------------------------------------------------------------------------------------------------------------------------------------------------------------------------------------------------------------------------------------------------------------------------------------------------------------------------------------------------------------------------------------------------------------------------------------------------------------------------------------------------------------------------------------------------------------------------------------------------------------------------------------------------------------------------------------------------------------------------------------------------------------------------------------------------------------------------------------------------------------------------------------------------------------------------------------------------------------------------------------------------------------------------------------------------------------------------------------------------------------------------------------------------------------------------------------------------------------------------------------------------------------------------------------------------------------------------------------------------------------------------------------------------------------------------------------------------------------------------------------------------------------------------------------------------------------------------------------------------------------------------------------------------------------------------------------------------------------------------------------------------------------------------------------------------------------------------------------------------------------------------------------------------------------------------------------------------------------------------------------------------------------------------------------------------------------------------------------------------------------------------------------------------------------------------------------------------------------------------------------------------------------------------------------------------------------------------------------------------------------------------------------------------------------------------------------------------------------------------------------------------------------------------------------------------------------------------------------------------------------------------------------------------------------------------------------------------------------------------------------------------------------------------------------------------------------------------------------------------------------------------------------------------------------------------------------------------------------------------------------------------------------------------------------------------------------------------------------------------------------------------------------------------------------------------------------------------------------------------------------------------------------------------------------------------------------------------------------------------------------------------------------------------------------------------------------------------------------------------------------------------------------------------------------------------------------------------------------------------------------------------------------------------------------------------------------------------------------------------------------------------------------------------------------------------------------------------------------------------------------------------------------------------------------------------------------------------------------------------------------------------------------------------------------------------------------------------------------------------------------------------------------------------------------------------------------------------------------------------------------------------------------------------------------------------------------------------------+-------+\n",
      "|UPSERT_PREPPED|{files -> [{files-0000-0, files/.files-0000-0_20250303220705496.log.1_0-26-27, 20250303220705496, 2, 0, 2, 14182, 0, files, 0, null, 0, 0, 0, 0, 0, 14182, 1, 0, , [.files-0000-0_20250303220705496.log.1_0-26-27], null}]}|{schema -> {\"type\":\"record\",\"name\":\"HoodieMetadataRecord\",\"namespace\":\"org.apache.hudi.avro.model\",\"doc\":\"A record saved within the Metadata Table\",\"fields\":[{\"name\":\"key\",\"type\":{\"type\":\"string\",\"avro.java.string\":\"String\"}},{\"name\":\"type\",\"type\":\"int\",\"doc\":\"Type of the metadata record\"},{\"name\":\"filesystemMetadata\",\"type\":[\"null\",{\"type\":\"map\",\"values\":{\"type\":\"record\",\"name\":\"HoodieMetadataFileInfo\",\"fields\":[{\"name\":\"size\",\"type\":\"long\",\"doc\":\"Size of the file\"},{\"name\":\"isDeleted\",\"type\":\"boolean\",\"doc\":\"True if this file has been deleted\"}]},\"avro.java.string\":\"String\"}],\"doc\":\"Contains information about partitions and files within the dataset\"},{\"name\":\"BloomFilterMetadata\",\"type\":[\"null\",{\"type\":\"record\",\"name\":\"HoodieMetadataBloomFilter\",\"doc\":\"Data file bloom filter details\",\"fields\":[{\"name\":\"type\",\"type\":{\"type\":\"string\",\"avro.java.string\":\"String\"},\"doc\":\"Bloom filter type code\"},{\"name\":\"timestamp\",\"type\":{\"type\":\"string\",\"avro.java.string\":\"String\"},\"doc\":\"Instant timestamp when this metadata was created/updated\"},{\"name\":\"bloomFilter\",\"type\":\"bytes\",\"doc\":\"Bloom filter binary byte array\"},{\"name\":\"isDeleted\",\"type\":\"boolean\",\"doc\":\"Bloom filter entry valid/deleted flag\"}]}],\"doc\":\"Metadata Index of bloom filters for all data files in the user table\",\"default\":null},{\"name\":\"ColumnStatsMetadata\",\"type\":[\"null\",{\"type\":\"record\",\"name\":\"HoodieMetadataColumnStats\",\"doc\":\"Data file column statistics\",\"fields\":[{\"name\":\"fileName\",\"type\":[\"null\",{\"type\":\"string\",\"avro.java.string\":\"String\"}],\"doc\":\"File name for which this column statistics applies\",\"default\":null},{\"name\":\"columnName\",\"type\":[\"null\",{\"type\":\"string\",\"avro.java.string\":\"String\"}],\"doc\":\"Column name for which this column statistics applies\",\"default\":null},{\"name\":\"minValue\",\"type\":[\"null\",{\"type\":\"record\",\"name\":\"BooleanWrapper\",\"doc\":\"A record wrapping boolean type to be able to be used it w/in Avro's Union\",\"fields\":[{\"name\":\"value\",\"type\":\"boolean\"}]},{\"type\":\"record\",\"name\":\"IntWrapper\",\"doc\":\"A record wrapping int type to be able to be used it w/in Avro's Union\",\"fields\":[{\"name\":\"value\",\"type\":\"int\"}]},{\"type\":\"record\",\"name\":\"LongWrapper\",\"doc\":\"A record wrapping long type to be able to be used it w/in Avro's Union\",\"fields\":[{\"name\":\"value\",\"type\":\"long\"}]},{\"type\":\"record\",\"name\":\"FloatWrapper\",\"doc\":\"A record wrapping float type to be able to be used it w/in Avro's Union\",\"fields\":[{\"name\":\"value\",\"type\":\"float\"}]},{\"type\":\"record\",\"name\":\"DoubleWrapper\",\"doc\":\"A record wrapping double type to be able to be used it w/in Avro's Union\",\"fields\":[{\"name\":\"value\",\"type\":\"double\"}]},{\"type\":\"record\",\"name\":\"BytesWrapper\",\"doc\":\"A record wrapping bytes type to be able to be used it w/in Avro's Union\",\"fields\":[{\"name\":\"value\",\"type\":\"bytes\"}]},{\"type\":\"record\",\"name\":\"StringWrapper\",\"doc\":\"A record wrapping string type to be able to be used it w/in Avro's Union\",\"fields\":[{\"name\":\"value\",\"type\":{\"type\":\"string\",\"avro.java.string\":\"String\"}}]},{\"type\":\"record\",\"name\":\"DateWrapper\",\"doc\":\"A record wrapping Date logical type to be able to be used it w/in Avro's Union\",\"fields\":[{\"name\":\"value\",\"type\":\"int\"}]},{\"type\":\"record\",\"name\":\"DecimalWrapper\",\"doc\":\"A record wrapping Decimal logical type to be able to be used it w/in Avro's Union\",\"fields\":[{\"name\":\"value\",\"type\":{\"type\":\"bytes\",\"logicalType\":\"decimal\",\"precision\":30,\"scale\":15}}]},{\"type\":\"record\",\"name\":\"TimeMicrosWrapper\",\"doc\":\"A record wrapping Time-micros logical type to be able to be used it w/in Avro's Union\",\"fields\":[{\"name\":\"value\",\"type\":{\"type\":\"long\",\"logicalType\":\"time-micros\"}}]},{\"type\":\"record\",\"name\":\"TimestampMicrosWrapper\",\"doc\":\"A record wrapping Timestamp-micros logical type to be able to be used it w/in Avro's Union\",\"fields\":[{\"name\":\"value\",\"type\":\"long\"}]}],\"doc\":\"Minimum value in the range. Based on user data table schema, we can convert this to appropriate type\",\"default\":null},{\"name\":\"maxValue\",\"type\":[\"null\",\"BooleanWrapper\",\"IntWrapper\",\"LongWrapper\",\"FloatWrapper\",\"DoubleWrapper\",\"BytesWrapper\",\"StringWrapper\",\"DateWrapper\",\"DecimalWrapper\",\"TimeMicrosWrapper\",\"TimestampMicrosWrapper\"],\"doc\":\"Maximum value in the range. Based on user data table schema, we can convert it to appropriate type\",\"default\":null},{\"name\":\"valueCount\",\"type\":[\"null\",\"long\"],\"doc\":\"Total count of values\",\"default\":null},{\"name\":\"nullCount\",\"type\":[\"null\",\"long\"],\"doc\":\"Total count of null values\",\"default\":null},{\"name\":\"totalSize\",\"type\":[\"null\",\"long\"],\"doc\":\"Total storage size on disk\",\"default\":null},{\"name\":\"totalUncompressedSize\",\"type\":[\"null\",\"long\"],\"doc\":\"Total uncompressed storage size on disk\",\"default\":null},{\"name\":\"isDeleted\",\"type\":\"boolean\",\"doc\":\"Column range entry valid/deleted flag\"},{\"name\":\"isTightBound\",\"type\":\"boolean\",\"doc\":\"Whether the min/max range of a column is tight bound or not\",\"default\":false}]}],\"doc\":\"Metadata Index of column statistics for all data files in the user table\",\"default\":null},{\"name\":\"recordIndexMetadata\",\"type\":[\"null\",{\"type\":\"record\",\"name\":\"HoodieRecordIndexInfo\",\"fields\":[{\"name\":\"partitionName\",\"type\":[\"null\",{\"type\":\"string\",\"avro.java.string\":\"String\"}],\"doc\":\"Refers to the partition name the record belongs to\",\"default\":null},{\"name\":\"fileIdHighBits\",\"type\":[\"null\",\"long\"],\"doc\":\"Refers to high 64 bits if the fileId is based on UUID format. \\nA UUID based fileId is stored as 3 pieces in RLI (fileIdHighBits, fileIdLowBits and fileIndex). \\nFileID format is {UUID}-{fileIndex}.\",\"default\":null},{\"name\":\"fileIdLowBits\",\"type\":[\"null\",\"long\"],\"doc\":\"Refers to low 64 bits if the fileId is based on UUID format. \\nA UUID based fileId is stored as 3 pieces in RLI (fileIdHighBits, fileIdLowBits and fileIndex). \\nFileID format is {UUID}-{fileIndex}.\",\"default\":null},{\"name\":\"fileIndex\",\"type\":[\"null\",\"int\"],\"doc\":\"Index representing file index which is used to re-construct UUID based fileID. Applicable when the fileId is based on UUID format. \\nA UUID based fileId is stored as 3 pieces in RLI (fileIdHighBits, fileIdLowBits and fileIndex). \\nFileID format is {UUID}-{fileIndex}.\",\"default\":null},{\"name\":\"fileId\",\"type\":[\"null\",{\"type\":\"string\",\"avro.java.string\":\"String\"}],\"doc\":\"Represents fileId of the location where record belongs to. When the encoding is 1, fileID is stored in raw string format.\",\"default\":null},{\"name\":\"instantTime\",\"type\":[\"null\",\"long\"],\"doc\":\"Epoch time in millisecond representing the commit time at which record was added\",\"default\":null},{\"name\":\"fileIdEncoding\",\"type\":\"int\",\"doc\":\"Represents fileId encoding. Possible values are 0 and 1. O represents UUID based fileID, and 1 represents raw string format of the fileId. \\nWhen the encoding is 0, reader can deduce fileID from fileIdLowBits, fileIdHighBits and fileIndex.\",\"default\":0},{\"name\":\"position\",\"type\":[\"null\",\"long\"],\"doc\":\"Represents position of record within a file group for easier access. It will be used for index lookup.\",\"default\":null}]}],\"doc\":\"Metadata Index that contains information about record keys and their location in the dataset\",\"default\":null},{\"name\":\"SecondaryIndexMetadata\",\"type\":[\"null\",{\"type\":\"record\",\"name\":\"HoodieSecondaryIndexInfo\",\"fields\":[{\"name\":\"isDeleted\",\"type\":\"boolean\",\"doc\":\"True if this entry has been deleted\"}]}],\"doc\":\"Metadata Index that contains information about secondary keys and the corresponding record keys in the dataset\",\"default\":null}]}}|null   |\n",
      "+--------------+---------------------------------------------------------------------------------------------------------------------------------------------------------------------------------------------------------------------------+-----------------------------------------------------------------------------------------------------------------------------------------------------------------------------------------------------------------------------------------------------------------------------------------------------------------------------------------------------------------------------------------------------------------------------------------------------------------------------------------------------------------------------------------------------------------------------------------------------------------------------------------------------------------------------------------------------------------------------------------------------------------------------------------------------------------------------------------------------------------------------------------------------------------------------------------------------------------------------------------------------------------------------------------------------------------------------------------------------------------------------------------------------------------------------------------------------------------------------------------------------------------------------------------------------------------------------------------------------------------------------------------------------------------------------------------------------------------------------------------------------------------------------------------------------------------------------------------------------------------------------------------------------------------------------------------------------------------------------------------------------------------------------------------------------------------------------------------------------------------------------------------------------------------------------------------------------------------------------------------------------------------------------------------------------------------------------------------------------------------------------------------------------------------------------------------------------------------------------------------------------------------------------------------------------------------------------------------------------------------------------------------------------------------------------------------------------------------------------------------------------------------------------------------------------------------------------------------------------------------------------------------------------------------------------------------------------------------------------------------------------------------------------------------------------------------------------------------------------------------------------------------------------------------------------------------------------------------------------------------------------------------------------------------------------------------------------------------------------------------------------------------------------------------------------------------------------------------------------------------------------------------------------------------------------------------------------------------------------------------------------------------------------------------------------------------------------------------------------------------------------------------------------------------------------------------------------------------------------------------------------------------------------------------------------------------------------------------------------------------------------------------------------------------------------------------------------------------------------------------------------------------------------------------------------------------------------------------------------------------------------------------------------------------------------------------------------------------------------------------------------------------------------------------------------------------------------------------------------------------------------------------------------------------------------------------------------------------------------------------------------------------------------------------------------------------------------------------------------------------------------------------------------------------------------------------------------------------------------------------------------------------------------------------------------------------------------------------------------------------------------------------------------------------------------------------------------------------------------------------------------------------------------------------------------------------------------------------------------------------------------------------------------------------------------------------------------------------------------------------------------------------------------------------------------------------------------------------------------------------------------------------------------------------------------------------------------------------------------------------------------------------------------------------------------------------------------------------------------------------------------------------------------------------------------------------------------------------------------------------------------------------------------------------------------------------------------------------------------------------------------------------------------------------------------------------------------------------------------------------------------------------------------------------------------------------------------------------------------------------------------------------------------------------------------------------------------------------------------------------------------------------------------------------------------------------------------------------------------------------------------------------------------------------------------------------------------------------------------------------------------------------------------------------------------------------------------------------------------------------------------------------------------------------------------------------------------------------------------------------------------------------------------------------------------------------------------------------------------------------------------------------------------------------------------------------------------------------------------------------------------------------------------------------------------------------------------------------------------------------------------------------------------------------------------------------------------------------------------------------------------------------------------------------------------------------------------------------------------------------------------------------------------------------------------------------------------------------------------------------------------------------------------------------------------------------------------------------------------------------------------------------------------------------------------------------------------------------------------------------------------------------------------------------------------------------------+-------+\n",
      "\n",
      "\n",
      "/tmp/hudi/trips_table/.hoodie/metadata/.hoodie/timeline/20250303220848889_20250303220849630.deltacommit\n",
      "+--------------+---------------------------------------------------------------------------------------------------------------------------------------------------------------------------------------------------------------------------+-----------------------------------------------------------------------------------------------------------------------------------------------------------------------------------------------------------------------------------------------------------------------------------------------------------------------------------------------------------------------------------------------------------------------------------------------------------------------------------------------------------------------------------------------------------------------------------------------------------------------------------------------------------------------------------------------------------------------------------------------------------------------------------------------------------------------------------------------------------------------------------------------------------------------------------------------------------------------------------------------------------------------------------------------------------------------------------------------------------------------------------------------------------------------------------------------------------------------------------------------------------------------------------------------------------------------------------------------------------------------------------------------------------------------------------------------------------------------------------------------------------------------------------------------------------------------------------------------------------------------------------------------------------------------------------------------------------------------------------------------------------------------------------------------------------------------------------------------------------------------------------------------------------------------------------------------------------------------------------------------------------------------------------------------------------------------------------------------------------------------------------------------------------------------------------------------------------------------------------------------------------------------------------------------------------------------------------------------------------------------------------------------------------------------------------------------------------------------------------------------------------------------------------------------------------------------------------------------------------------------------------------------------------------------------------------------------------------------------------------------------------------------------------------------------------------------------------------------------------------------------------------------------------------------------------------------------------------------------------------------------------------------------------------------------------------------------------------------------------------------------------------------------------------------------------------------------------------------------------------------------------------------------------------------------------------------------------------------------------------------------------------------------------------------------------------------------------------------------------------------------------------------------------------------------------------------------------------------------------------------------------------------------------------------------------------------------------------------------------------------------------------------------------------------------------------------------------------------------------------------------------------------------------------------------------------------------------------------------------------------------------------------------------------------------------------------------------------------------------------------------------------------------------------------------------------------------------------------------------------------------------------------------------------------------------------------------------------------------------------------------------------------------------------------------------------------------------------------------------------------------------------------------------------------------------------------------------------------------------------------------------------------------------------------------------------------------------------------------------------------------------------------------------------------------------------------------------------------------------------------------------------------------------------------------------------------------------------------------------------------------------------------------------------------------------------------------------------------------------------------------------------------------------------------------------------------------------------------------------------------------------------------------------------------------------------------------------------------------------------------------------------------------------------------------------------------------------------------------------------------------------------------------------------------------------------------------------------------------------------------------------------------------------------------------------------------------------------------------------------------------------------------------------------------------------------------------------------------------------------------------------------------------------------------------------------------------------------------------------------------------------------------------------------------------------------------------------------------------------------------------------------------------------------------------------------------------------------------------------------------------------------------------------------------------------------------------------------------------------------------------------------------------------------------------------------------------------------------------------------------------------------------------------------------------------------------------------------------------------------------------------------------------------------------------------------------------------------------------------------------------------------------------------------------------------------------------------------------------------------------------------------------------------------------------------------------------------------------------------------------------------------------------------------------------------------------------------------------------------------------------------------------------------------------------------------------------------------------------------------------------------------------------------------------------------------------------------------------------------------------------------------------------------------------------------------------------------------------------------------------------------------------------------------------------------------------------------------------------------------------------------------------------------------------------------------------+-------+\n",
      "|operationType |partitionToWriteStats                                                                                                                                                                                                      |extraMetadata                                                                                                                                                                                                                                                                                                                                                                                                                                                                                                                                                                                                                                                                                                                                                                                                                                                                                                                                                                                                                                                                                                                                                                                                                                                                                                                                                                                                                                                                                                                                                                                                                                                                                                                                                                                                                                                                                                                                                                                                                                                                                                                                                                                                                                                                                                                                                                                                                                                                                                                                                                                                                                                                                                                                                                                                                                                                                                                                                                                                                                                                                                                                                                                                                                                                                                                                                                                                                                                                                                                                                                                                                                                                                                                                                                                                                                                                                                                                                                                                                                                                                                                                                                                                                                                                                                                                                                                                                                                                                                                                                                                                                                                                                                                                                                                                                                                                                                                                                                                                                                                                                                                                                                                                                                                                                                                                                                                                                                                                                                                                                                                                                                                                                                                                                                                                                                                                                                                                                                                                                                                                                                                                                                                                                                                                                                                                                                                                                                                                                                                                                                                                                                                                                                                                                                                                                                                                                                                                                                                                                                                                                                                                                                                                                                                                                                                                                                                                                                                                                                                                                                                                                                                                                  |version|\n",
      "+--------------+---------------------------------------------------------------------------------------------------------------------------------------------------------------------------------------------------------------------------+-----------------------------------------------------------------------------------------------------------------------------------------------------------------------------------------------------------------------------------------------------------------------------------------------------------------------------------------------------------------------------------------------------------------------------------------------------------------------------------------------------------------------------------------------------------------------------------------------------------------------------------------------------------------------------------------------------------------------------------------------------------------------------------------------------------------------------------------------------------------------------------------------------------------------------------------------------------------------------------------------------------------------------------------------------------------------------------------------------------------------------------------------------------------------------------------------------------------------------------------------------------------------------------------------------------------------------------------------------------------------------------------------------------------------------------------------------------------------------------------------------------------------------------------------------------------------------------------------------------------------------------------------------------------------------------------------------------------------------------------------------------------------------------------------------------------------------------------------------------------------------------------------------------------------------------------------------------------------------------------------------------------------------------------------------------------------------------------------------------------------------------------------------------------------------------------------------------------------------------------------------------------------------------------------------------------------------------------------------------------------------------------------------------------------------------------------------------------------------------------------------------------------------------------------------------------------------------------------------------------------------------------------------------------------------------------------------------------------------------------------------------------------------------------------------------------------------------------------------------------------------------------------------------------------------------------------------------------------------------------------------------------------------------------------------------------------------------------------------------------------------------------------------------------------------------------------------------------------------------------------------------------------------------------------------------------------------------------------------------------------------------------------------------------------------------------------------------------------------------------------------------------------------------------------------------------------------------------------------------------------------------------------------------------------------------------------------------------------------------------------------------------------------------------------------------------------------------------------------------------------------------------------------------------------------------------------------------------------------------------------------------------------------------------------------------------------------------------------------------------------------------------------------------------------------------------------------------------------------------------------------------------------------------------------------------------------------------------------------------------------------------------------------------------------------------------------------------------------------------------------------------------------------------------------------------------------------------------------------------------------------------------------------------------------------------------------------------------------------------------------------------------------------------------------------------------------------------------------------------------------------------------------------------------------------------------------------------------------------------------------------------------------------------------------------------------------------------------------------------------------------------------------------------------------------------------------------------------------------------------------------------------------------------------------------------------------------------------------------------------------------------------------------------------------------------------------------------------------------------------------------------------------------------------------------------------------------------------------------------------------------------------------------------------------------------------------------------------------------------------------------------------------------------------------------------------------------------------------------------------------------------------------------------------------------------------------------------------------------------------------------------------------------------------------------------------------------------------------------------------------------------------------------------------------------------------------------------------------------------------------------------------------------------------------------------------------------------------------------------------------------------------------------------------------------------------------------------------------------------------------------------------------------------------------------------------------------------------------------------------------------------------------------------------------------------------------------------------------------------------------------------------------------------------------------------------------------------------------------------------------------------------------------------------------------------------------------------------------------------------------------------------------------------------------------------------------------------------------------------------------------------------------------------------------------------------------------------------------------------------------------------------------------------------------------------------------------------------------------------------------------------------------------------------------------------------------------------------------------------------------------------------------------------------------------------------------------------------------------------------------------------------------------------------------------------------------+-------+\n",
      "|UPSERT_PREPPED|{files -> [{files-0000-0, files/.files-0000-0_20250303220848889.log.1_0-54-52, 20250303220848889, 2, 0, 2, 14181, 0, files, 0, null, 0, 0, 0, 0, 0, 14181, 1, 0, , [.files-0000-0_20250303220848889.log.1_0-54-52], null}]}|{schema -> {\"type\":\"record\",\"name\":\"HoodieMetadataRecord\",\"namespace\":\"org.apache.hudi.avro.model\",\"doc\":\"A record saved within the Metadata Table\",\"fields\":[{\"name\":\"key\",\"type\":{\"type\":\"string\",\"avro.java.string\":\"String\"}},{\"name\":\"type\",\"type\":\"int\",\"doc\":\"Type of the metadata record\"},{\"name\":\"filesystemMetadata\",\"type\":[\"null\",{\"type\":\"map\",\"values\":{\"type\":\"record\",\"name\":\"HoodieMetadataFileInfo\",\"fields\":[{\"name\":\"size\",\"type\":\"long\",\"doc\":\"Size of the file\"},{\"name\":\"isDeleted\",\"type\":\"boolean\",\"doc\":\"True if this file has been deleted\"}]},\"avro.java.string\":\"String\"}],\"doc\":\"Contains information about partitions and files within the dataset\"},{\"name\":\"BloomFilterMetadata\",\"type\":[\"null\",{\"type\":\"record\",\"name\":\"HoodieMetadataBloomFilter\",\"doc\":\"Data file bloom filter details\",\"fields\":[{\"name\":\"type\",\"type\":{\"type\":\"string\",\"avro.java.string\":\"String\"},\"doc\":\"Bloom filter type code\"},{\"name\":\"timestamp\",\"type\":{\"type\":\"string\",\"avro.java.string\":\"String\"},\"doc\":\"Instant timestamp when this metadata was created/updated\"},{\"name\":\"bloomFilter\",\"type\":\"bytes\",\"doc\":\"Bloom filter binary byte array\"},{\"name\":\"isDeleted\",\"type\":\"boolean\",\"doc\":\"Bloom filter entry valid/deleted flag\"}]}],\"doc\":\"Metadata Index of bloom filters for all data files in the user table\",\"default\":null},{\"name\":\"ColumnStatsMetadata\",\"type\":[\"null\",{\"type\":\"record\",\"name\":\"HoodieMetadataColumnStats\",\"doc\":\"Data file column statistics\",\"fields\":[{\"name\":\"fileName\",\"type\":[\"null\",{\"type\":\"string\",\"avro.java.string\":\"String\"}],\"doc\":\"File name for which this column statistics applies\",\"default\":null},{\"name\":\"columnName\",\"type\":[\"null\",{\"type\":\"string\",\"avro.java.string\":\"String\"}],\"doc\":\"Column name for which this column statistics applies\",\"default\":null},{\"name\":\"minValue\",\"type\":[\"null\",{\"type\":\"record\",\"name\":\"BooleanWrapper\",\"doc\":\"A record wrapping boolean type to be able to be used it w/in Avro's Union\",\"fields\":[{\"name\":\"value\",\"type\":\"boolean\"}]},{\"type\":\"record\",\"name\":\"IntWrapper\",\"doc\":\"A record wrapping int type to be able to be used it w/in Avro's Union\",\"fields\":[{\"name\":\"value\",\"type\":\"int\"}]},{\"type\":\"record\",\"name\":\"LongWrapper\",\"doc\":\"A record wrapping long type to be able to be used it w/in Avro's Union\",\"fields\":[{\"name\":\"value\",\"type\":\"long\"}]},{\"type\":\"record\",\"name\":\"FloatWrapper\",\"doc\":\"A record wrapping float type to be able to be used it w/in Avro's Union\",\"fields\":[{\"name\":\"value\",\"type\":\"float\"}]},{\"type\":\"record\",\"name\":\"DoubleWrapper\",\"doc\":\"A record wrapping double type to be able to be used it w/in Avro's Union\",\"fields\":[{\"name\":\"value\",\"type\":\"double\"}]},{\"type\":\"record\",\"name\":\"BytesWrapper\",\"doc\":\"A record wrapping bytes type to be able to be used it w/in Avro's Union\",\"fields\":[{\"name\":\"value\",\"type\":\"bytes\"}]},{\"type\":\"record\",\"name\":\"StringWrapper\",\"doc\":\"A record wrapping string type to be able to be used it w/in Avro's Union\",\"fields\":[{\"name\":\"value\",\"type\":{\"type\":\"string\",\"avro.java.string\":\"String\"}}]},{\"type\":\"record\",\"name\":\"DateWrapper\",\"doc\":\"A record wrapping Date logical type to be able to be used it w/in Avro's Union\",\"fields\":[{\"name\":\"value\",\"type\":\"int\"}]},{\"type\":\"record\",\"name\":\"DecimalWrapper\",\"doc\":\"A record wrapping Decimal logical type to be able to be used it w/in Avro's Union\",\"fields\":[{\"name\":\"value\",\"type\":{\"type\":\"bytes\",\"logicalType\":\"decimal\",\"precision\":30,\"scale\":15}}]},{\"type\":\"record\",\"name\":\"TimeMicrosWrapper\",\"doc\":\"A record wrapping Time-micros logical type to be able to be used it w/in Avro's Union\",\"fields\":[{\"name\":\"value\",\"type\":{\"type\":\"long\",\"logicalType\":\"time-micros\"}}]},{\"type\":\"record\",\"name\":\"TimestampMicrosWrapper\",\"doc\":\"A record wrapping Timestamp-micros logical type to be able to be used it w/in Avro's Union\",\"fields\":[{\"name\":\"value\",\"type\":\"long\"}]}],\"doc\":\"Minimum value in the range. Based on user data table schema, we can convert this to appropriate type\",\"default\":null},{\"name\":\"maxValue\",\"type\":[\"null\",\"BooleanWrapper\",\"IntWrapper\",\"LongWrapper\",\"FloatWrapper\",\"DoubleWrapper\",\"BytesWrapper\",\"StringWrapper\",\"DateWrapper\",\"DecimalWrapper\",\"TimeMicrosWrapper\",\"TimestampMicrosWrapper\"],\"doc\":\"Maximum value in the range. Based on user data table schema, we can convert it to appropriate type\",\"default\":null},{\"name\":\"valueCount\",\"type\":[\"null\",\"long\"],\"doc\":\"Total count of values\",\"default\":null},{\"name\":\"nullCount\",\"type\":[\"null\",\"long\"],\"doc\":\"Total count of null values\",\"default\":null},{\"name\":\"totalSize\",\"type\":[\"null\",\"long\"],\"doc\":\"Total storage size on disk\",\"default\":null},{\"name\":\"totalUncompressedSize\",\"type\":[\"null\",\"long\"],\"doc\":\"Total uncompressed storage size on disk\",\"default\":null},{\"name\":\"isDeleted\",\"type\":\"boolean\",\"doc\":\"Column range entry valid/deleted flag\"},{\"name\":\"isTightBound\",\"type\":\"boolean\",\"doc\":\"Whether the min/max range of a column is tight bound or not\",\"default\":false}]}],\"doc\":\"Metadata Index of column statistics for all data files in the user table\",\"default\":null},{\"name\":\"recordIndexMetadata\",\"type\":[\"null\",{\"type\":\"record\",\"name\":\"HoodieRecordIndexInfo\",\"fields\":[{\"name\":\"partitionName\",\"type\":[\"null\",{\"type\":\"string\",\"avro.java.string\":\"String\"}],\"doc\":\"Refers to the partition name the record belongs to\",\"default\":null},{\"name\":\"fileIdHighBits\",\"type\":[\"null\",\"long\"],\"doc\":\"Refers to high 64 bits if the fileId is based on UUID format. \\nA UUID based fileId is stored as 3 pieces in RLI (fileIdHighBits, fileIdLowBits and fileIndex). \\nFileID format is {UUID}-{fileIndex}.\",\"default\":null},{\"name\":\"fileIdLowBits\",\"type\":[\"null\",\"long\"],\"doc\":\"Refers to low 64 bits if the fileId is based on UUID format. \\nA UUID based fileId is stored as 3 pieces in RLI (fileIdHighBits, fileIdLowBits and fileIndex). \\nFileID format is {UUID}-{fileIndex}.\",\"default\":null},{\"name\":\"fileIndex\",\"type\":[\"null\",\"int\"],\"doc\":\"Index representing file index which is used to re-construct UUID based fileID. Applicable when the fileId is based on UUID format. \\nA UUID based fileId is stored as 3 pieces in RLI (fileIdHighBits, fileIdLowBits and fileIndex). \\nFileID format is {UUID}-{fileIndex}.\",\"default\":null},{\"name\":\"fileId\",\"type\":[\"null\",{\"type\":\"string\",\"avro.java.string\":\"String\"}],\"doc\":\"Represents fileId of the location where record belongs to. When the encoding is 1, fileID is stored in raw string format.\",\"default\":null},{\"name\":\"instantTime\",\"type\":[\"null\",\"long\"],\"doc\":\"Epoch time in millisecond representing the commit time at which record was added\",\"default\":null},{\"name\":\"fileIdEncoding\",\"type\":\"int\",\"doc\":\"Represents fileId encoding. Possible values are 0 and 1. O represents UUID based fileID, and 1 represents raw string format of the fileId. \\nWhen the encoding is 0, reader can deduce fileID from fileIdLowBits, fileIdHighBits and fileIndex.\",\"default\":0},{\"name\":\"position\",\"type\":[\"null\",\"long\"],\"doc\":\"Represents position of record within a file group for easier access. It will be used for index lookup.\",\"default\":null}]}],\"doc\":\"Metadata Index that contains information about record keys and their location in the dataset\",\"default\":null},{\"name\":\"SecondaryIndexMetadata\",\"type\":[\"null\",{\"type\":\"record\",\"name\":\"HoodieSecondaryIndexInfo\",\"fields\":[{\"name\":\"isDeleted\",\"type\":\"boolean\",\"doc\":\"True if this entry has been deleted\"}]}],\"doc\":\"Metadata Index that contains information about secondary keys and the corresponding record keys in the dataset\",\"default\":null}]}}|null   |\n",
      "+--------------+---------------------------------------------------------------------------------------------------------------------------------------------------------------------------------------------------------------------------+-----------------------------------------------------------------------------------------------------------------------------------------------------------------------------------------------------------------------------------------------------------------------------------------------------------------------------------------------------------------------------------------------------------------------------------------------------------------------------------------------------------------------------------------------------------------------------------------------------------------------------------------------------------------------------------------------------------------------------------------------------------------------------------------------------------------------------------------------------------------------------------------------------------------------------------------------------------------------------------------------------------------------------------------------------------------------------------------------------------------------------------------------------------------------------------------------------------------------------------------------------------------------------------------------------------------------------------------------------------------------------------------------------------------------------------------------------------------------------------------------------------------------------------------------------------------------------------------------------------------------------------------------------------------------------------------------------------------------------------------------------------------------------------------------------------------------------------------------------------------------------------------------------------------------------------------------------------------------------------------------------------------------------------------------------------------------------------------------------------------------------------------------------------------------------------------------------------------------------------------------------------------------------------------------------------------------------------------------------------------------------------------------------------------------------------------------------------------------------------------------------------------------------------------------------------------------------------------------------------------------------------------------------------------------------------------------------------------------------------------------------------------------------------------------------------------------------------------------------------------------------------------------------------------------------------------------------------------------------------------------------------------------------------------------------------------------------------------------------------------------------------------------------------------------------------------------------------------------------------------------------------------------------------------------------------------------------------------------------------------------------------------------------------------------------------------------------------------------------------------------------------------------------------------------------------------------------------------------------------------------------------------------------------------------------------------------------------------------------------------------------------------------------------------------------------------------------------------------------------------------------------------------------------------------------------------------------------------------------------------------------------------------------------------------------------------------------------------------------------------------------------------------------------------------------------------------------------------------------------------------------------------------------------------------------------------------------------------------------------------------------------------------------------------------------------------------------------------------------------------------------------------------------------------------------------------------------------------------------------------------------------------------------------------------------------------------------------------------------------------------------------------------------------------------------------------------------------------------------------------------------------------------------------------------------------------------------------------------------------------------------------------------------------------------------------------------------------------------------------------------------------------------------------------------------------------------------------------------------------------------------------------------------------------------------------------------------------------------------------------------------------------------------------------------------------------------------------------------------------------------------------------------------------------------------------------------------------------------------------------------------------------------------------------------------------------------------------------------------------------------------------------------------------------------------------------------------------------------------------------------------------------------------------------------------------------------------------------------------------------------------------------------------------------------------------------------------------------------------------------------------------------------------------------------------------------------------------------------------------------------------------------------------------------------------------------------------------------------------------------------------------------------------------------------------------------------------------------------------------------------------------------------------------------------------------------------------------------------------------------------------------------------------------------------------------------------------------------------------------------------------------------------------------------------------------------------------------------------------------------------------------------------------------------------------------------------------------------------------------------------------------------------------------------------------------------------------------------------------------------------------------------------------------------------------------------------------------------------------------------------------------------------------------------------------------------------------------------------------------------------------------------------------------------------------------------------------------------------------------------------------------------------------------------------------------------------------------------------------------------------------------------------------------------------------------------------+-------+\n",
      "\n",
      "\n"
     ]
    },
    {
     "data": {
      "text/html": [
       "<div class=\"jp-RenderedText\">\n",
       "<pre><code><span style=\"color: rgb(0, 187, 187)\"><span class=\"ansi-cyan-fg\">command</span></span>: <span style=\"color: rgb(0, 187, 0)\"><span class=\"ansi-green-fg\">String</span></span> = <span style=\"color: rgb(0, 187, 0)\"><span class=\"ansi-green-fg\">&quot;find /tmp/hudi/trips_table -name \\&quot;*.deltacommit\\&quot; -exec stat -c \\\\\\&quot;%y %s %n\\\\\\&quot; {} + | sort&quot;</span></span>\n",
       "<span style=\"color: rgb(0, 187, 187)\"><span class=\"ansi-cyan-fg\">result</span></span>: <span style=\"color: rgb(0, 187, 0)\"><span class=\"ansi-green-fg\">String</span></span> = <span style=\"color: white\"><span class=\"ansi-white-fg\">[lazy]</span></span>\n",
       "<span style=\"color: rgb(0, 187, 187)\"><span class=\"ansi-cyan-fg\">hudiMetas</span></span>: <span style=\"color: rgb(0, 187, 0)\"><span class=\"ansi-green-fg\">Array</span></span>[<span style=\"color: rgb(0, 187, 0)\"><span class=\"ansi-green-fg\">String</span></span>] = <span style=\"color: white\"><span class=\"ansi-white-fg\">[lazy]</span></span></code></pre>\n",
       "</div>"
      ],
      "text/plain": [
       "\u001b[36mcommand\u001b[39m: \u001b[32mString\u001b[39m = \u001b[32m\"find /tmp/hudi/trips_table -name \\\"*.deltacommit\\\" -exec stat -c \\\\\\\"%y %s %n\\\\\\\" {} + | sort\"\u001b[39m\n",
       "\u001b[36mresult\u001b[39m: \u001b[32mString\u001b[39m = \u001b[37m[lazy]\u001b[39m\n",
       "\u001b[36mhudiMetas\u001b[39m: \u001b[32mArray\u001b[39m[\u001b[32mString\u001b[39m] = \u001b[37m[lazy]\u001b[39m"
      ]
     },
     "metadata": {},
     "output_type": "display_data"
    }
   ],
   "source": [
    "val command = \"\"\"find /tmp/hudi/trips_table -name \"*.deltacommit\" -exec stat -c \\\"%y %s %n\\\" {} + | sort\"\"\"\n",
    "lazy val result = Seq(\"bash\", \"-c\", s\"eval $command\").!!\n",
    "lazy val hudiMetas = result.split(\"\\n\")\n",
    "for(hudiMeta <- hudiMetas){\n",
    "    val path = hudiMeta.split(\" \")(4)\n",
    "    println(path)\n",
    "    spark.read.format(\"avro\").load(path).select(\"operationType\", \"partitionToWriteStats\", \"extraMetadata\", \"version\").show(truncate=false)\n",
    "    println()\n",
    "}"
   ]
  },
  {
   "cell_type": "code",
   "execution_count": 25,
   "metadata": {},
   "outputs": [
    {
     "name": "stdout",
     "output_type": "stream",
     "text": [
      "/tmp/hudi/trips_table/.hoodie/timeline/20250303220644309_20250303220647646.commit\n",
      "+-------------+---------------------------------------------------------------------------------------------------------------------------------------------------------------------------------------------------------------------------------------------------------------------------------------------------------------------------------------------------------------------------------------------------------------------------------------------------------------------------------------------------------------------------------------------------------------------------------------------------------------------------------------------------------------------------------------------------------------------------------------------------------------------------------------------+----------------------------------------------------------------------------------------------------------------------------------------------------------------------------------------------------------------------------------------------------------------------------------------------------------------------------------------------------------------------------------------------------------------------------------------------------------------------------------------------------------------------------------------------------------------------------------------------------------+-------+\n",
      "|operationType|partitionToWriteStats                                                                                                                                                                                                                                                                                                                                                                                                                                                                                                                                                                                                                                                                                                                                                                        |extraMetadata                                                                                                                                                                                                                                                                                                                                                                                                                                                                                                                                                                                             |version|\n",
      "+-------------+---------------------------------------------------------------------------------------------------------------------------------------------------------------------------------------------------------------------------------------------------------------------------------------------------------------------------------------------------------------------------------------------------------------------------------------------------------------------------------------------------------------------------------------------------------------------------------------------------------------------------------------------------------------------------------------------------------------------------------------------------------------------------------------------+----------------------------------------------------------------------------------------------------------------------------------------------------------------------------------------------------------------------------------------------------------------------------------------------------------------------------------------------------------------------------------------------------------------------------------------------------------------------------------------------------------------------------------------------------------------------------------------------------------+-------+\n",
      "|BULK_INSERT  |{city=san_francisco -> [{a3dec851-53dd-4d0b-8eff-c3d084817da0-0, city=san_francisco/a3dec851-53dd-4d0b-8eff-c3d084817da0-0_0-6-0_20250303220644309.parquet, null, 3, 0, 0, 436124, 0, city=san_francisco, 0, null, 0, 3, 0, 0, 0, 436124, null, null, null, null, null}], city=sao_paulo -> [{a3dec851-53dd-4d0b-8eff-c3d084817da0-1, city=sao_paulo/a3dec851-53dd-4d0b-8eff-c3d084817da0-1_0-6-0_20250303220644309.parquet, null, 1, 0, 0, 435952, 0, city=sao_paulo, 0, null, 0, 1, 0, 0, 0, 435952, null, null, null, null, null}], city=chennai -> [{a3dec851-53dd-4d0b-8eff-c3d084817da0-2, city=chennai/a3dec851-53dd-4d0b-8eff-c3d084817da0-2_0-6-0_20250303220644309.parquet, null, 1, 0, 0, 435923, 0, city=chennai, 0, null, 0, 1, 0, 0, 0, 435923, null, null, null, null, null}]}|{schema -> {\"type\":\"record\",\"name\":\"trips_table_record\",\"namespace\":\"hoodie.trips_table\",\"fields\":[{\"name\":\"ts\",\"type\":\"long\"},{\"name\":\"uuid\",\"type\":[\"null\",\"string\"],\"default\":null},{\"name\":\"rider\",\"type\":[\"null\",\"string\"],\"default\":null},{\"name\":\"driver\",\"type\":[\"null\",\"string\"],\"default\":null},{\"name\":\"fare\",\"type\":\"double\"},{\"name\":\"city\",\"type\":[\"null\",\"string\"],\"default\":null}]}, _hoodie.metadata.ignore.spurious.deletes -> true, _.hoodie.allow.multi.write.on.same.instant -> false, _hoodie.optimistic.consistency.guard.enable -> false, _hoodie.hfile.use.native.reader -> true}|null   |\n",
      "+-------------+---------------------------------------------------------------------------------------------------------------------------------------------------------------------------------------------------------------------------------------------------------------------------------------------------------------------------------------------------------------------------------------------------------------------------------------------------------------------------------------------------------------------------------------------------------------------------------------------------------------------------------------------------------------------------------------------------------------------------------------------------------------------------------------------+----------------------------------------------------------------------------------------------------------------------------------------------------------------------------------------------------------------------------------------------------------------------------------------------------------------------------------------------------------------------------------------------------------------------------------------------------------------------------------------------------------------------------------------------------------------------------------------------------------+-------+\n",
      "\n",
      "\n",
      "/tmp/hudi/trips_table/.hoodie/timeline/20250303220705496_20250303220706345.commit\n",
      "+--------------+----------------------------------------------------------------------------------------------------------------------------------------------------------------------------------------------------------------------------------------------------------------------------------------+----------------------------------------------------------------------------------------------------------------------------------------------------------------------------------------------------------------------------------------------------------------------------------------------------------------------------------------------------------------------------------------------------+-------+\n",
      "|operationType |partitionToWriteStats                                                                                                                                                                                                                                                                   |extraMetadata                                                                                                                                                                                                                                                                                                                                                                                       |version|\n",
      "+--------------+----------------------------------------------------------------------------------------------------------------------------------------------------------------------------------------------------------------------------------------------------------------------------------------+----------------------------------------------------------------------------------------------------------------------------------------------------------------------------------------------------------------------------------------------------------------------------------------------------------------------------------------------------------------------------------------------------+-------+\n",
      "|UPSERT_PREPPED|{city=san_francisco -> [{a3dec851-53dd-4d0b-8eff-c3d084817da0-0, city=san_francisco/a3dec851-53dd-4d0b-8eff-c3d084817da0-0_0-20-22_20250303220705496.parquet, 20250303220644309, 3, 0, 1, 436098, 0, city=san_francisco, 0, null, 0, 0, 0, 0, 0, 436098, null, null, null, null, null}]}|{schema -> {\"type\":\"record\",\"name\":\"trips_table_record\",\"namespace\":\"hoodie.trips_table\",\"fields\":[{\"name\":\"ts\",\"type\":\"long\"},{\"name\":\"uuid\",\"type\":[\"null\",\"string\"],\"default\":null},{\"name\":\"rider\",\"type\":[\"null\",\"string\"],\"default\":null},{\"name\":\"driver\",\"type\":[\"null\",\"string\"],\"default\":null},{\"name\":\"fare\",\"type\":\"double\"},{\"name\":\"city\",\"type\":[\"null\",\"string\"],\"default\":null}]}}|null   |\n",
      "+--------------+----------------------------------------------------------------------------------------------------------------------------------------------------------------------------------------------------------------------------------------------------------------------------------------+----------------------------------------------------------------------------------------------------------------------------------------------------------------------------------------------------------------------------------------------------------------------------------------------------------------------------------------------------------------------------------------------------+-------+\n",
      "\n",
      "\n",
      "/tmp/hudi/trips_table/.hoodie/timeline/20250303220848889_20250303220849654.commit\n",
      "+--------------+----------------------------------------------------------------------------------------------------------------------------------------------------------------------------------------------------------------------------------------------------------------------------------------+----------------------------------------------------------------------------------------------------------------------------------------------------------------------------------------------------------------------------------------------------------------------------------------------------------------------------------------------------------------------------------------------------+-------+\n",
      "|operationType |partitionToWriteStats                                                                                                                                                                                                                                                                   |extraMetadata                                                                                                                                                                                                                                                                                                                                                                                       |version|\n",
      "+--------------+----------------------------------------------------------------------------------------------------------------------------------------------------------------------------------------------------------------------------------------------------------------------------------------+----------------------------------------------------------------------------------------------------------------------------------------------------------------------------------------------------------------------------------------------------------------------------------------------------------------------------------------------------------------------------------------------------+-------+\n",
      "|UPSERT_PREPPED|{city=san_francisco -> [{a3dec851-53dd-4d0b-8eff-c3d084817da0-0, city=san_francisco/a3dec851-53dd-4d0b-8eff-c3d084817da0-0_0-47-47_20250303220848889.parquet, 20250303220705496, 3, 0, 2, 436098, 0, city=san_francisco, 0, null, 0, 0, 0, 0, 0, 436098, null, null, null, null, null}]}|{schema -> {\"type\":\"record\",\"name\":\"trips_table_record\",\"namespace\":\"hoodie.trips_table\",\"fields\":[{\"name\":\"ts\",\"type\":\"long\"},{\"name\":\"uuid\",\"type\":[\"null\",\"string\"],\"default\":null},{\"name\":\"rider\",\"type\":[\"null\",\"string\"],\"default\":null},{\"name\":\"driver\",\"type\":[\"null\",\"string\"],\"default\":null},{\"name\":\"fare\",\"type\":\"double\"},{\"name\":\"city\",\"type\":[\"null\",\"string\"],\"default\":null}]}}|null   |\n",
      "+--------------+----------------------------------------------------------------------------------------------------------------------------------------------------------------------------------------------------------------------------------------------------------------------------------------+----------------------------------------------------------------------------------------------------------------------------------------------------------------------------------------------------------------------------------------------------------------------------------------------------------------------------------------------------------------------------------------------------+-------+\n",
      "\n",
      "\n"
     ]
    },
    {
     "data": {
      "text/html": [
       "<div class=\"jp-RenderedText\">\n",
       "<pre><code><span style=\"color: rgb(0, 187, 187)\"><span class=\"ansi-cyan-fg\">command</span></span>: <span style=\"color: rgb(0, 187, 0)\"><span class=\"ansi-green-fg\">String</span></span> = <span style=\"color: rgb(0, 187, 0)\"><span class=\"ansi-green-fg\">&quot;find /tmp/hudi/trips_table -name \\&quot;*.commit\\&quot; -exec stat -c \\\\\\&quot;%y %s %n\\\\\\&quot; {} + | sort&quot;</span></span>\n",
       "<span style=\"color: rgb(0, 187, 187)\"><span class=\"ansi-cyan-fg\">result</span></span>: <span style=\"color: rgb(0, 187, 0)\"><span class=\"ansi-green-fg\">String</span></span> = <span style=\"color: white\"><span class=\"ansi-white-fg\">[lazy]</span></span>\n",
       "<span style=\"color: rgb(0, 187, 187)\"><span class=\"ansi-cyan-fg\">hudiMetas</span></span>: <span style=\"color: rgb(0, 187, 0)\"><span class=\"ansi-green-fg\">Array</span></span>[<span style=\"color: rgb(0, 187, 0)\"><span class=\"ansi-green-fg\">String</span></span>] = <span style=\"color: white\"><span class=\"ansi-white-fg\">[lazy]</span></span></code></pre>\n",
       "</div>"
      ],
      "text/plain": [
       "\u001b[36mcommand\u001b[39m: \u001b[32mString\u001b[39m = \u001b[32m\"find /tmp/hudi/trips_table -name \\\"*.commit\\\" -exec stat -c \\\\\\\"%y %s %n\\\\\\\" {} + | sort\"\u001b[39m\n",
       "\u001b[36mresult\u001b[39m: \u001b[32mString\u001b[39m = \u001b[37m[lazy]\u001b[39m\n",
       "\u001b[36mhudiMetas\u001b[39m: \u001b[32mArray\u001b[39m[\u001b[32mString\u001b[39m] = \u001b[37m[lazy]\u001b[39m"
      ]
     },
     "metadata": {},
     "output_type": "display_data"
    }
   ],
   "source": [
    "val command = \"\"\"find /tmp/hudi/trips_table -name \"*.commit\" -exec stat -c \\\"%y %s %n\\\" {} + | sort\"\"\"\n",
    "lazy val result = Seq(\"bash\", \"-c\", s\"eval $command\").!!\n",
    "lazy val hudiMetas = result.split(\"\\n\")\n",
    "for(hudiMeta <- hudiMetas){\n",
    "    val path = hudiMeta.split(\" \")(4)\n",
    "    println(path)\n",
    "    spark.read.format(\"avro\").load(path).select(\"operationType\", \"partitionToWriteStats\", \"extraMetadata\", \"version\").show(truncate=false)\n",
    "    println()\n",
    "}"
   ]
  },
  {
   "cell_type": "markdown",
   "metadata": {},
   "source": [
    "### Merging Data (Partial Updates) if use sql and not CustomMergeIntoConnector.\n",
    "* Reason for trips_table2 is so that we can work around the dataframe table write limitation with dataframe create table.\n",
    "* Later when we refresh trips_table, it will still show the correct data."
   ]
  },
  {
   "cell_type": "code",
   "execution_count": 26,
   "metadata": {},
   "outputs": [
    {
     "data": {
      "text/plain": [
       "\u001b[36mres26\u001b[39m: \u001b[32mDataFrame\u001b[39m = []"
      ]
     },
     "execution_count": 26,
     "metadata": {},
     "output_type": "execute_result"
    }
   ],
   "source": [
    "spark.sql(\n",
    "\"\"\"\n",
    "CREATE TABLE fare_adjustment (ts BIGINT, uuid STRING, rider STRING, driver STRING, fare DOUBLE, city STRING) \n",
    "USING HUDI\n",
    "LOCATION \"/tmp/hudi/fare_adjustment\"\n",
    ";\n",
    "\"\"\"\n",
    ")"
   ]
  },
  {
   "cell_type": "code",
   "execution_count": 27,
   "metadata": {},
   "outputs": [
    {
     "data": {
      "text/plain": [
       "\u001b[36mres27\u001b[39m: \u001b[32mDataFrame\u001b[39m = []"
      ]
     },
     "execution_count": 27,
     "metadata": {},
     "output_type": "execute_result"
    }
   ],
   "source": [
    "spark.sql(\n",
    "\"\"\"\n",
    "INSERT INTO fare_adjustment VALUES \n",
    "(1695091554788,'e96c4396-3fad-413a-a942-4cb36106d721','rider-C','driver-M',-2.70 ,'san_francisco'),\n",
    "(1695530237068,'3f3d9565-7261-40e6-9b39-b8aa784f95e2','rider-K','driver-U',64.20 ,'san_francisco'),\n",
    "(1695241330902,'ea4c36ff-2069-4148-9927-ef8c1a5abd24','rider-H','driver-R',66.60 ,'sao_paulo'    ),\n",
    "(1695115999911,'c8abbe79-8d89-47ea-b4ce-4d224bae5bfa','rider-J','driver-T',1.85,'chennai'      );\n",
    "\"\"\"\n",
    ")"
   ]
  },
  {
   "cell_type": "code",
   "execution_count": 33,
   "metadata": {},
   "outputs": [
    {
     "data": {
      "text/plain": [
       "\u001b[36mres33\u001b[39m: \u001b[32mDataFrame\u001b[39m = []"
      ]
     },
     "execution_count": 33,
     "metadata": {},
     "output_type": "execute_result"
    }
   ],
   "source": [
    "// Register the dataframe created table to Hive metastore.\n",
    "spark.sql(\n",
    "s\"\"\"\n",
    "CREATE TABLE IF NOT EXISTS trips_table2 (\n",
    "    ts BIGINT,\n",
    "    uuid STRING,\n",
    "    rider STRING,\n",
    "    driver STRING,\n",
    "    fare DOUBLE,\n",
    "    city STRING\n",
    ") USING HUDI\n",
    "PARTITIONED BY (city)\n",
    "LOCATION \"$basePath\"\n",
    "\"\"\"\n",
    ")"
   ]
  },
  {
   "cell_type": "code",
   "execution_count": 34,
   "metadata": {},
   "outputs": [
    {
     "name": "stdout",
     "output_type": "stream",
     "text": [
      "+-------------------+--------------------+--------------------+----------------------+--------------------+-------------+--------------------+-------+--------+-----+-------------+\n",
      "|_hoodie_commit_time|_hoodie_commit_seqno|  _hoodie_record_key|_hoodie_partition_path|   _hoodie_file_name|           ts|                uuid|  rider|  driver| fare|         city|\n",
      "+-------------------+--------------------+--------------------+----------------------+--------------------+-------------+--------------------+-------+--------+-----+-------------+\n",
      "|  20250303220848889|20250303220848889...|20250303220644309...|    city=san_francisco|a3dec851-53dd-4d0...|1695159649087|334e26e9-8355-45c...|rider-A|driver-K|210.1|san_francisco|\n",
      "|  20250303220848889|20250303220848889...|20250303220644309...|    city=san_francisco|a3dec851-53dd-4d0...|1695091554788|e96c4396-3fad-413...|rider-C|driver-M|304.7|san_francisco|\n",
      "|  20250303220705496|20250303220705496...|20250303220644309...|    city=san_francisco|a3dec851-53dd-4d0...|1695046462179|9909a8b1-2d15-4d3...|rider-D|driver-L|339.0|san_francisco|\n",
      "|  20250303220644309|20250303220644309...|20250303220644309...|        city=sao_paulo|a3dec851-53dd-4d0...|1695516137016|e3cf430c-889d-401...|rider-F|driver-P|34.15|    sao_paulo|\n",
      "|  20250303220644309|20250303220644309...|20250303220644309...|          city=chennai|a3dec851-53dd-4d0...|1695115999911|c8abbe79-8d89-47e...|rider-J|driver-T|17.85|      chennai|\n",
      "+-------------------+--------------------+--------------------+----------------------+--------------------+-------------+--------------------+-------+--------+-----+-------------+\n",
      "\n"
     ]
    }
   ],
   "source": [
    "spark.sql(\n",
    "s\"\"\"\n",
    "SELECT * FROM trips_table2\n",
    "\"\"\"\n",
    ").show()"
   ]
  },
  {
   "cell_type": "code",
   "execution_count": 35,
   "metadata": {},
   "outputs": [
    {
     "data": {
      "text/plain": [
       "\u001b[36mres35\u001b[39m: \u001b[32mDataFrame\u001b[39m = []"
      ]
     },
     "execution_count": 35,
     "metadata": {},
     "output_type": "execute_result"
    }
   ],
   "source": [
    "spark.sql(\n",
    "s\"\"\"\n",
    "MERGE INTO trips_table2 AS target\n",
    "USING fare_adjustment AS source\n",
    "ON target.uuid = source.uuid\n",
    "WHEN MATCHED THEN UPDATE SET fare = source.fare\n",
    "WHEN NOT MATCHED THEN INSERT *\n",
    ";\n",
    "\"\"\"\n",
    ")"
   ]
  },
  {
   "cell_type": "code",
   "execution_count": 40,
   "metadata": {},
   "outputs": [
    {
     "name": "stdout",
     "output_type": "stream",
     "text": [
      "+-------------------+--------------------+--------------------+----------------------+--------------------+-------------+--------------------+-------+--------+-----+-------------+\n",
      "|_hoodie_commit_time|_hoodie_commit_seqno|  _hoodie_record_key|_hoodie_partition_path|   _hoodie_file_name|           ts|                uuid|  rider|  driver| fare|         city|\n",
      "+-------------------+--------------------+--------------------+----------------------+--------------------+-------------+--------------------+-------+--------+-----+-------------+\n",
      "|  20250303220848889|20250303220848889...|20250303220644309...|    city=san_francisco|a3dec851-53dd-4d0...|1695159649087|334e26e9-8355-45c...|rider-A|driver-K|210.1|san_francisco|\n",
      "|  20250303221422928|20250303221422928...|20250303220644309...|    city=san_francisco|a3dec851-53dd-4d0...|1695091554788|e96c4396-3fad-413...|rider-C|driver-M| -2.7|san_francisco|\n",
      "|  20250303220705496|20250303220705496...|20250303220644309...|    city=san_francisco|a3dec851-53dd-4d0...|1695046462179|9909a8b1-2d15-4d3...|rider-D|driver-L|339.0|san_francisco|\n",
      "|  20250303221422928|20250303221422928...|20250303221422928...|    city=san_francisco|a3dec851-53dd-4d0...|1695530237068|3f3d9565-7261-40e...|rider-K|driver-U| 64.2|san_francisco|\n",
      "|  20250303220644309|20250303220644309...|20250303220644309...|        city=sao_paulo|a3dec851-53dd-4d0...|1695516137016|e3cf430c-889d-401...|rider-F|driver-P|34.15|    sao_paulo|\n",
      "|  20250303221422928|20250303221422928...|20250303221422928...|        city=sao_paulo|a3dec851-53dd-4d0...|1695241330902|ea4c36ff-2069-414...|rider-H|driver-R| 66.6|    sao_paulo|\n",
      "|  20250303221422928|20250303221422928...|20250303220644309...|          city=chennai|a3dec851-53dd-4d0...|1695115999911|c8abbe79-8d89-47e...|rider-J|driver-T| 1.85|      chennai|\n",
      "+-------------------+--------------------+--------------------+----------------------+--------------------+-------------+--------------------+-------+--------+-----+-------------+\n",
      "\n"
     ]
    }
   ],
   "source": [
    "spark.catalog.refreshTable(\"trips_table\")\n",
    "spark.sql(\n",
    "s\"\"\"\n",
    "SELECT * FROM trips_table\n",
    "\"\"\"\n",
    ").show()"
   ]
  },
  {
   "cell_type": "code",
   "execution_count": 41,
   "metadata": {},
   "outputs": [
    {
     "name": "stdout",
     "output_type": "stream",
     "text": [
      "+-------------------+--------------------+--------------------+----------------------+--------------------+-------------+--------------------+-------+--------+-----+-------------+\n",
      "|_hoodie_commit_time|_hoodie_commit_seqno|  _hoodie_record_key|_hoodie_partition_path|   _hoodie_file_name|           ts|                uuid|  rider|  driver| fare|         city|\n",
      "+-------------------+--------------------+--------------------+----------------------+--------------------+-------------+--------------------+-------+--------+-----+-------------+\n",
      "|  20250303220848889|20250303220848889...|20250303220644309...|    city=san_francisco|a3dec851-53dd-4d0...|1695159649087|334e26e9-8355-45c...|rider-A|driver-K|210.1|san_francisco|\n",
      "|  20250303221422928|20250303221422928...|20250303220644309...|    city=san_francisco|a3dec851-53dd-4d0...|1695091554788|e96c4396-3fad-413...|rider-C|driver-M| -2.7|san_francisco|\n",
      "|  20250303220705496|20250303220705496...|20250303220644309...|    city=san_francisco|a3dec851-53dd-4d0...|1695046462179|9909a8b1-2d15-4d3...|rider-D|driver-L|339.0|san_francisco|\n",
      "|  20250303221422928|20250303221422928...|20250303221422928...|    city=san_francisco|a3dec851-53dd-4d0...|1695530237068|3f3d9565-7261-40e...|rider-K|driver-U| 64.2|san_francisco|\n",
      "|  20250303220644309|20250303220644309...|20250303220644309...|        city=sao_paulo|a3dec851-53dd-4d0...|1695516137016|e3cf430c-889d-401...|rider-F|driver-P|34.15|    sao_paulo|\n",
      "|  20250303221422928|20250303221422928...|20250303221422928...|        city=sao_paulo|a3dec851-53dd-4d0...|1695241330902|ea4c36ff-2069-414...|rider-H|driver-R| 66.6|    sao_paulo|\n",
      "|  20250303221422928|20250303221422928...|20250303220644309...|          city=chennai|a3dec851-53dd-4d0...|1695115999911|c8abbe79-8d89-47e...|rider-J|driver-T| 1.85|      chennai|\n",
      "+-------------------+--------------------+--------------------+----------------------+--------------------+-------------+--------------------+-------+--------+-----+-------------+\n",
      "\n"
     ]
    }
   ],
   "source": [
    "// Or use spark load.\n",
    "spark.read.format(\"Hudi\").load(basePath).show()"
   ]
  },
  {
   "cell_type": "markdown",
   "metadata": {},
   "source": [
    "* If we check the parquet files, now we have the fourth parquet files."
   ]
  },
  {
   "cell_type": "code",
   "execution_count": 43,
   "metadata": {},
   "outputs": [
    {
     "name": "stdout",
     "output_type": "stream",
     "text": [
      "2025-03-03 22:06:47.301991358 +0900 436124 /tmp/hudi/trips_table/city=san_francisco/a3dec851-53dd-4d0b-8eff-c3d084817da0-0_0-6-0_20250303220644309.parquet\n",
      "2025-03-03 22:07:06.088845410 +0900 436098 /tmp/hudi/trips_table/city=san_francisco/a3dec851-53dd-4d0b-8eff-c3d084817da0-0_0-20-22_20250303220705496.parquet\n",
      "2025-03-03 22:08:49.412629629 +0900 436098 /tmp/hudi/trips_table/city=san_francisco/a3dec851-53dd-4d0b-8eff-c3d084817da0-0_0-47-47_20250303220848889.parquet\n",
      "2025-03-03 22:14:23.559403106 +0900 436245 /tmp/hudi/trips_table/city=san_francisco/a3dec851-53dd-4d0b-8eff-c3d084817da0-0_0-101-101_20250303221422928.parquet\n",
      "\n"
     ]
    },
    {
     "data": {
      "text/html": [
       "<div class=\"jp-RenderedText\">\n",
       "<pre><code><span style=\"color: rgb(0, 187, 187)\"><span class=\"ansi-cyan-fg\">command</span></span>: <span style=\"color: rgb(0, 187, 0)\"><span class=\"ansi-green-fg\">String</span></span> = <span style=\"color: rgb(0, 187, 0)\"><span class=\"ansi-green-fg\">&quot;find /tmp/hudi/trips_table -path \\&quot;*san_francisco*\\&quot; -name \\&quot; *.parquet\\&quot; -exec stat -c \\\\\\&quot;%y %s %n\\\\\\&quot; {} + | sort&quot;</span></span>\n",
       "<span style=\"color: rgb(0, 187, 187)\"><span class=\"ansi-cyan-fg\">result</span></span>: <span style=\"color: rgb(0, 187, 0)\"><span class=\"ansi-green-fg\">String</span></span> = <span style=\"color: white\"><span class=\"ansi-white-fg\">[lazy]</span></span></code></pre>\n",
       "</div>"
      ],
      "text/plain": [
       "\u001b[36mcommand\u001b[39m: \u001b[32mString\u001b[39m = \u001b[32m\"find /tmp/hudi/trips_table -path \\\"*san_francisco*\\\" -name \\\" *.parquet\\\" -exec stat -c \\\\\\\"%y %s %n\\\\\\\" {} + | sort\"\u001b[39m\n",
       "\u001b[36mresult\u001b[39m: \u001b[32mString\u001b[39m = \u001b[37m[lazy]\u001b[39m"
      ]
     },
     "metadata": {},
     "output_type": "display_data"
    }
   ],
   "source": [
    "val command = \"\"\"find /tmp/hudi/trips_table -path \"*san_francisco*\" -name \" *.parquet\" -exec stat -c \\\"%y %s %n\\\" {} + | sort\"\"\"\n",
    "lazy val result = Seq(\"bash\", \"-c\", s\"eval $command\").!!\n",
    "println(result)"
   ]
  },
  {
   "cell_type": "code",
   "execution_count": 38,
   "metadata": {},
   "outputs": [
    {
     "name": "stdout",
     "output_type": "stream",
     "text": [
      "/tmp/hudi/trips_table/.hoodie/timeline/20250303220644309_20250303220647646.commit\n",
      "+-------------+---------------------------------------------------------------------------------------------------------------------------------------------------------------------------------------------------------------------------------------------------------------------------------------------------------------------------------------------------------------------------------------------------------------------------------------------------------------------------------------------------------------------------------------------------------------------------------------------------------------------------------------------------------------------------------------------------------------------------------------------------------------------------------------------+----------------------------------------------------------------------------------------------------------------------------------------------------------------------------------------------------------------------------------------------------------------------------------------------------------------------------------------------------------------------------------------------------------------------------------------------------------------------------------------------------------------------------------------------------------------------------------------------------------+-------+\n",
      "|operationType|partitionToWriteStats                                                                                                                                                                                                                                                                                                                                                                                                                                                                                                                                                                                                                                                                                                                                                                        |extraMetadata                                                                                                                                                                                                                                                                                                                                                                                                                                                                                                                                                                                             |version|\n",
      "+-------------+---------------------------------------------------------------------------------------------------------------------------------------------------------------------------------------------------------------------------------------------------------------------------------------------------------------------------------------------------------------------------------------------------------------------------------------------------------------------------------------------------------------------------------------------------------------------------------------------------------------------------------------------------------------------------------------------------------------------------------------------------------------------------------------------+----------------------------------------------------------------------------------------------------------------------------------------------------------------------------------------------------------------------------------------------------------------------------------------------------------------------------------------------------------------------------------------------------------------------------------------------------------------------------------------------------------------------------------------------------------------------------------------------------------+-------+\n",
      "|BULK_INSERT  |{city=san_francisco -> [{a3dec851-53dd-4d0b-8eff-c3d084817da0-0, city=san_francisco/a3dec851-53dd-4d0b-8eff-c3d084817da0-0_0-6-0_20250303220644309.parquet, null, 3, 0, 0, 436124, 0, city=san_francisco, 0, null, 0, 3, 0, 0, 0, 436124, null, null, null, null, null}], city=sao_paulo -> [{a3dec851-53dd-4d0b-8eff-c3d084817da0-1, city=sao_paulo/a3dec851-53dd-4d0b-8eff-c3d084817da0-1_0-6-0_20250303220644309.parquet, null, 1, 0, 0, 435952, 0, city=sao_paulo, 0, null, 0, 1, 0, 0, 0, 435952, null, null, null, null, null}], city=chennai -> [{a3dec851-53dd-4d0b-8eff-c3d084817da0-2, city=chennai/a3dec851-53dd-4d0b-8eff-c3d084817da0-2_0-6-0_20250303220644309.parquet, null, 1, 0, 0, 435923, 0, city=chennai, 0, null, 0, 1, 0, 0, 0, 435923, null, null, null, null, null}]}|{schema -> {\"type\":\"record\",\"name\":\"trips_table_record\",\"namespace\":\"hoodie.trips_table\",\"fields\":[{\"name\":\"ts\",\"type\":\"long\"},{\"name\":\"uuid\",\"type\":[\"null\",\"string\"],\"default\":null},{\"name\":\"rider\",\"type\":[\"null\",\"string\"],\"default\":null},{\"name\":\"driver\",\"type\":[\"null\",\"string\"],\"default\":null},{\"name\":\"fare\",\"type\":\"double\"},{\"name\":\"city\",\"type\":[\"null\",\"string\"],\"default\":null}]}, _hoodie.metadata.ignore.spurious.deletes -> true, _.hoodie.allow.multi.write.on.same.instant -> false, _hoodie.optimistic.consistency.guard.enable -> false, _hoodie.hfile.use.native.reader -> true}|null   |\n",
      "+-------------+---------------------------------------------------------------------------------------------------------------------------------------------------------------------------------------------------------------------------------------------------------------------------------------------------------------------------------------------------------------------------------------------------------------------------------------------------------------------------------------------------------------------------------------------------------------------------------------------------------------------------------------------------------------------------------------------------------------------------------------------------------------------------------------------+----------------------------------------------------------------------------------------------------------------------------------------------------------------------------------------------------------------------------------------------------------------------------------------------------------------------------------------------------------------------------------------------------------------------------------------------------------------------------------------------------------------------------------------------------------------------------------------------------------+-------+\n",
      "\n",
      "\n",
      "/tmp/hudi/trips_table/.hoodie/timeline/20250303220705496_20250303220706345.commit\n",
      "+--------------+----------------------------------------------------------------------------------------------------------------------------------------------------------------------------------------------------------------------------------------------------------------------------------------+----------------------------------------------------------------------------------------------------------------------------------------------------------------------------------------------------------------------------------------------------------------------------------------------------------------------------------------------------------------------------------------------------+-------+\n",
      "|operationType |partitionToWriteStats                                                                                                                                                                                                                                                                   |extraMetadata                                                                                                                                                                                                                                                                                                                                                                                       |version|\n",
      "+--------------+----------------------------------------------------------------------------------------------------------------------------------------------------------------------------------------------------------------------------------------------------------------------------------------+----------------------------------------------------------------------------------------------------------------------------------------------------------------------------------------------------------------------------------------------------------------------------------------------------------------------------------------------------------------------------------------------------+-------+\n",
      "|UPSERT_PREPPED|{city=san_francisco -> [{a3dec851-53dd-4d0b-8eff-c3d084817da0-0, city=san_francisco/a3dec851-53dd-4d0b-8eff-c3d084817da0-0_0-20-22_20250303220705496.parquet, 20250303220644309, 3, 0, 1, 436098, 0, city=san_francisco, 0, null, 0, 0, 0, 0, 0, 436098, null, null, null, null, null}]}|{schema -> {\"type\":\"record\",\"name\":\"trips_table_record\",\"namespace\":\"hoodie.trips_table\",\"fields\":[{\"name\":\"ts\",\"type\":\"long\"},{\"name\":\"uuid\",\"type\":[\"null\",\"string\"],\"default\":null},{\"name\":\"rider\",\"type\":[\"null\",\"string\"],\"default\":null},{\"name\":\"driver\",\"type\":[\"null\",\"string\"],\"default\":null},{\"name\":\"fare\",\"type\":\"double\"},{\"name\":\"city\",\"type\":[\"null\",\"string\"],\"default\":null}]}}|null   |\n",
      "+--------------+----------------------------------------------------------------------------------------------------------------------------------------------------------------------------------------------------------------------------------------------------------------------------------------+----------------------------------------------------------------------------------------------------------------------------------------------------------------------------------------------------------------------------------------------------------------------------------------------------------------------------------------------------------------------------------------------------+-------+\n",
      "\n",
      "\n",
      "/tmp/hudi/trips_table/.hoodie/timeline/20250303220848889_20250303220849654.commit\n",
      "+--------------+----------------------------------------------------------------------------------------------------------------------------------------------------------------------------------------------------------------------------------------------------------------------------------------+----------------------------------------------------------------------------------------------------------------------------------------------------------------------------------------------------------------------------------------------------------------------------------------------------------------------------------------------------------------------------------------------------+-------+\n",
      "|operationType |partitionToWriteStats                                                                                                                                                                                                                                                                   |extraMetadata                                                                                                                                                                                                                                                                                                                                                                                       |version|\n",
      "+--------------+----------------------------------------------------------------------------------------------------------------------------------------------------------------------------------------------------------------------------------------------------------------------------------------+----------------------------------------------------------------------------------------------------------------------------------------------------------------------------------------------------------------------------------------------------------------------------------------------------------------------------------------------------------------------------------------------------+-------+\n",
      "|UPSERT_PREPPED|{city=san_francisco -> [{a3dec851-53dd-4d0b-8eff-c3d084817da0-0, city=san_francisco/a3dec851-53dd-4d0b-8eff-c3d084817da0-0_0-47-47_20250303220848889.parquet, 20250303220705496, 3, 0, 2, 436098, 0, city=san_francisco, 0, null, 0, 0, 0, 0, 0, 436098, null, null, null, null, null}]}|{schema -> {\"type\":\"record\",\"name\":\"trips_table_record\",\"namespace\":\"hoodie.trips_table\",\"fields\":[{\"name\":\"ts\",\"type\":\"long\"},{\"name\":\"uuid\",\"type\":[\"null\",\"string\"],\"default\":null},{\"name\":\"rider\",\"type\":[\"null\",\"string\"],\"default\":null},{\"name\":\"driver\",\"type\":[\"null\",\"string\"],\"default\":null},{\"name\":\"fare\",\"type\":\"double\"},{\"name\":\"city\",\"type\":[\"null\",\"string\"],\"default\":null}]}}|null   |\n",
      "+--------------+----------------------------------------------------------------------------------------------------------------------------------------------------------------------------------------------------------------------------------------------------------------------------------------+----------------------------------------------------------------------------------------------------------------------------------------------------------------------------------------------------------------------------------------------------------------------------------------------------------------------------------------------------------------------------------------------------+-------+\n",
      "\n",
      "\n",
      "/tmp/hudi/trips_table/.hoodie/timeline/20250303221422928_20250303221423946.commit\n",
      "+-------------+------------------------------------------------------------------------------------------------------------------------------------------------------------------------------------------------------------------------------------------------------------------------------------------------------------------------------------------------------------------------------------------------------------------------------------------------------------------------------------------------------------------------------------------------------------------------------------------------------------------------------------------------------------------------------------------------------------------------------------------------------------------------------------------------------------------------------------------------+--------------------------------------------------------------------------------------------------------------------------------------------------------------------------------------------------------------------------------------------------------------------------------------------------------------------------------------------------------------------------------------------------------------------------------------------------------------------------------------------------+-------+\n",
      "|operationType|partitionToWriteStats                                                                                                                                                                                                                                                                                                                                                                                                                                                                                                                                                                                                                                                                                                                                                                                                                           |extraMetadata                                                                                                                                                                                                                                                                                                                                                                                                                                                                                     |version|\n",
      "+-------------+------------------------------------------------------------------------------------------------------------------------------------------------------------------------------------------------------------------------------------------------------------------------------------------------------------------------------------------------------------------------------------------------------------------------------------------------------------------------------------------------------------------------------------------------------------------------------------------------------------------------------------------------------------------------------------------------------------------------------------------------------------------------------------------------------------------------------------------------+--------------------------------------------------------------------------------------------------------------------------------------------------------------------------------------------------------------------------------------------------------------------------------------------------------------------------------------------------------------------------------------------------------------------------------------------------------------------------------------------------+-------+\n",
      "|UPSERT       |{city=san_francisco -> [{a3dec851-53dd-4d0b-8eff-c3d084817da0-0, city=san_francisco/a3dec851-53dd-4d0b-8eff-c3d084817da0-0_0-101-101_20250303221422928.parquet, 20250303220848889, 4, 0, 1, 436245, 0, city=san_francisco, 0, null, 0, 1, 0, 0, 0, 436245, null, null, null, null, null}], city=sao_paulo -> [{a3dec851-53dd-4d0b-8eff-c3d084817da0-1, city=sao_paulo/a3dec851-53dd-4d0b-8eff-c3d084817da0-1_2-101-103_20250303221422928.parquet, 20250303220644309, 2, 0, 0, 436014, 0, city=sao_paulo, 0, null, 0, 1, 0, 0, 0, 436014, null, null, null, null, null}], city=chennai -> [{a3dec851-53dd-4d0b-8eff-c3d084817da0-2, city=chennai/a3dec851-53dd-4d0b-8eff-c3d084817da0-2_1-101-102_20250303221422928.parquet, 20250303220644309, 1, 0, 1, 435987, 0, city=chennai, 0, null, 0, 0, 0, 0, 0, 435987, null, null, null, null, null}]}|{schema -> {\"type\":\"record\",\"name\":\"trips_table_record\",\"namespace\":\"hoodie.trips_table\",\"fields\":[{\"name\":\"ts\",\"type\":[\"null\",\"long\"],\"default\":null},{\"name\":\"uuid\",\"type\":[\"null\",\"string\"],\"default\":null},{\"name\":\"rider\",\"type\":[\"null\",\"string\"],\"default\":null},{\"name\":\"driver\",\"type\":[\"null\",\"string\"],\"default\":null},{\"name\":\"fare\",\"type\":[\"null\",\"double\"],\"default\":null},{\"name\":\"city\",\"type\":[\"null\",\"string\"],\"default\":null}]}, _hoodie.spark.sql.merge.into.prepped -> true}|null   |\n",
      "+-------------+------------------------------------------------------------------------------------------------------------------------------------------------------------------------------------------------------------------------------------------------------------------------------------------------------------------------------------------------------------------------------------------------------------------------------------------------------------------------------------------------------------------------------------------------------------------------------------------------------------------------------------------------------------------------------------------------------------------------------------------------------------------------------------------------------------------------------------------------+--------------------------------------------------------------------------------------------------------------------------------------------------------------------------------------------------------------------------------------------------------------------------------------------------------------------------------------------------------------------------------------------------------------------------------------------------------------------------------------------------+-------+\n",
      "\n",
      "\n"
     ]
    },
    {
     "data": {
      "text/html": [
       "<div class=\"jp-RenderedText\">\n",
       "<pre><code><span style=\"color: rgb(0, 187, 187)\"><span class=\"ansi-cyan-fg\">command</span></span>: <span style=\"color: rgb(0, 187, 0)\"><span class=\"ansi-green-fg\">String</span></span> = <span style=\"color: rgb(0, 187, 0)\"><span class=\"ansi-green-fg\">&quot;find /tmp/hudi/trips_table -name \\&quot;*.commit\\&quot; -exec stat -c \\\\\\&quot;%y %s %n\\\\\\&quot; {} + | sort&quot;</span></span>\n",
       "<span style=\"color: rgb(0, 187, 187)\"><span class=\"ansi-cyan-fg\">result</span></span>: <span style=\"color: rgb(0, 187, 0)\"><span class=\"ansi-green-fg\">String</span></span> = <span style=\"color: white\"><span class=\"ansi-white-fg\">[lazy]</span></span>\n",
       "<span style=\"color: rgb(0, 187, 187)\"><span class=\"ansi-cyan-fg\">hudiMetas</span></span>: <span style=\"color: rgb(0, 187, 0)\"><span class=\"ansi-green-fg\">Array</span></span>[<span style=\"color: rgb(0, 187, 0)\"><span class=\"ansi-green-fg\">String</span></span>] = <span style=\"color: white\"><span class=\"ansi-white-fg\">[lazy]</span></span></code></pre>\n",
       "</div>"
      ],
      "text/plain": [
       "\u001b[36mcommand\u001b[39m: \u001b[32mString\u001b[39m = \u001b[32m\"find /tmp/hudi/trips_table -name \\\"*.commit\\\" -exec stat -c \\\\\\\"%y %s %n\\\\\\\" {} + | sort\"\u001b[39m\n",
       "\u001b[36mresult\u001b[39m: \u001b[32mString\u001b[39m = \u001b[37m[lazy]\u001b[39m\n",
       "\u001b[36mhudiMetas\u001b[39m: \u001b[32mArray\u001b[39m[\u001b[32mString\u001b[39m] = \u001b[37m[lazy]\u001b[39m"
      ]
     },
     "metadata": {},
     "output_type": "display_data"
    }
   ],
   "source": [
    "val command = \"\"\"find /tmp/hudi/trips_table -name \"*.commit\" -exec stat -c \\\"%y %s %n\\\" {} + | sort\"\"\"\n",
    "lazy val result = Seq(\"bash\", \"-c\", s\"eval $command\").!!\n",
    "lazy val hudiMetas = result.split(\"\\n\")\n",
    "for(hudiMeta <- hudiMetas){\n",
    "    val path = hudiMeta.split(\" \")(4)\n",
    "    println(path)\n",
    "    spark.read.format(\"avro\").load(path).select(\"operationType\", \"partitionToWriteStats\", \"extraMetadata\", \"version\").show(truncate=false)\n",
    "    println()\n",
    "}"
   ]
  },
  {
   "cell_type": "markdown",
   "metadata": {},
   "source": [
    "### Delete data"
   ]
  },
  {
   "cell_type": "code",
   "execution_count": 44,
   "metadata": {},
   "outputs": [
    {
     "data": {
      "text/plain": [
       "\u001b[36mdeletesDF\u001b[39m: \u001b[32mDataset\u001b[39m[\u001b[32mRow\u001b[39m] = [_hoodie_commit_time: string, _hoodie_commit_seqno: string ... 9 more fields]"
      ]
     },
     "execution_count": 44,
     "metadata": {},
     "output_type": "execute_result"
    }
   ],
   "source": [
    "// Lets  delete rider: rider-D\n",
    "val deletesDF = spark.read.format(\"hudi\").load(basePath).filter($\"rider\" === \"rider-F\")\n",
    "\n",
    "deletesDF.write.format(\"hudi\").\n",
    "  option(\"hoodie.datasource.write.operation\", \"delete\").\n",
    "  option(\"hoodie.datasource.write.partitionpath.field\", \"city\").\n",
    "  option(\"hoodie.table.name\", tableName).\n",
    "  mode(Append).\n",
    "  save(basePath)"
   ]
  },
  {
   "cell_type": "code",
   "execution_count": 45,
   "metadata": {},
   "outputs": [
    {
     "name": "stdout",
     "output_type": "stream",
     "text": [
      "+-------------------+--------------------+--------------------+----------------------+--------------------+-------------+--------------------+-------+--------+-----+-------------+\n",
      "|_hoodie_commit_time|_hoodie_commit_seqno|  _hoodie_record_key|_hoodie_partition_path|   _hoodie_file_name|           ts|                uuid|  rider|  driver| fare|         city|\n",
      "+-------------------+--------------------+--------------------+----------------------+--------------------+-------------+--------------------+-------+--------+-----+-------------+\n",
      "|  20250303220848889|20250303220848889...|20250303220644309...|    city=san_francisco|a3dec851-53dd-4d0...|1695159649087|334e26e9-8355-45c...|rider-A|driver-K|210.1|san_francisco|\n",
      "|  20250303221422928|20250303221422928...|20250303220644309...|    city=san_francisco|a3dec851-53dd-4d0...|1695091554788|e96c4396-3fad-413...|rider-C|driver-M| -2.7|san_francisco|\n",
      "|  20250303220705496|20250303220705496...|20250303220644309...|    city=san_francisco|a3dec851-53dd-4d0...|1695046462179|9909a8b1-2d15-4d3...|rider-D|driver-L|339.0|san_francisco|\n",
      "|  20250303221422928|20250303221422928...|20250303221422928...|    city=san_francisco|a3dec851-53dd-4d0...|1695530237068|3f3d9565-7261-40e...|rider-K|driver-U| 64.2|san_francisco|\n",
      "|  20250303221422928|20250303221422928...|20250303221422928...|        city=sao_paulo|a3dec851-53dd-4d0...|1695241330902|ea4c36ff-2069-414...|rider-H|driver-R| 66.6|    sao_paulo|\n",
      "|  20250303221422928|20250303221422928...|20250303220644309...|          city=chennai|a3dec851-53dd-4d0...|1695115999911|c8abbe79-8d89-47e...|rider-J|driver-T| 1.85|      chennai|\n",
      "+-------------------+--------------------+--------------------+----------------------+--------------------+-------------+--------------------+-------+--------+-----+-------------+\n",
      "\n"
     ]
    }
   ],
   "source": [
    "spark.read.format(\"hudi\").load(basePath).show()"
   ]
  },
  {
   "cell_type": "markdown",
   "metadata": {},
   "source": [
    "* If we check sao_paulo, we have 3 files now.\n",
    "    * 1 original.\n",
    "    * 1 when we do merge upsert [Merging Data (Partial Updates)](###-Merging-Data-(Partial-Updates)-if-use-sql-and-not-CustomMergeIntoConnector.)\n",
    "    * 1 from delete."
   ]
  },
  {
   "cell_type": "code",
   "execution_count": 53,
   "metadata": {},
   "outputs": [
    {
     "name": "stdout",
     "output_type": "stream",
     "text": [
      "2025-03-03 22:06:47.301991358 +0900 435952 /tmp/hudi/trips_table/city=sao_paulo/a3dec851-53dd-4d0b-8eff-c3d084817da0-1_0-6-0_20250303220644309.parquet\n",
      "2025-03-03 22:14:23.692494677 +0900 436014 /tmp/hudi/trips_table/city=sao_paulo/a3dec851-53dd-4d0b-8eff-c3d084817da0-1_2-101-103_20250303221422928.parquet\n",
      "2025-03-03 22:23:55.952726513 +0900 436016 /tmp/hudi/trips_table/city=sao_paulo/a3dec851-53dd-4d0b-8eff-c3d084817da0-1_0-123-129_20250303222355530.parquet\n",
      "\n"
     ]
    },
    {
     "data": {
      "text/html": [
       "<div class=\"jp-RenderedText\">\n",
       "<pre><code><span style=\"color: rgb(0, 187, 187)\"><span class=\"ansi-cyan-fg\">command</span></span>: <span style=\"color: rgb(0, 187, 0)\"><span class=\"ansi-green-fg\">String</span></span> = <span style=\"color: rgb(0, 187, 0)\"><span class=\"ansi-green-fg\">&quot;find /tmp/hudi/trips_table -path \\&quot;*sao_paulo*\\&quot; -name \\&quot; *.parquet\\&quot; -exec stat -c \\\\\\&quot;%y %s %n\\\\\\&quot; {} + | sort&quot;</span></span>\n",
       "<span style=\"color: rgb(0, 187, 187)\"><span class=\"ansi-cyan-fg\">result</span></span>: <span style=\"color: rgb(0, 187, 0)\"><span class=\"ansi-green-fg\">String</span></span> = <span style=\"color: white\"><span class=\"ansi-white-fg\">[lazy]</span></span></code></pre>\n",
       "</div>"
      ],
      "text/plain": [
       "\u001b[36mcommand\u001b[39m: \u001b[32mString\u001b[39m = \u001b[32m\"find /tmp/hudi/trips_table -path \\\"*sao_paulo*\\\" -name \\\" *.parquet\\\" -exec stat -c \\\\\\\"%y %s %n\\\\\\\" {} + | sort\"\u001b[39m\n",
       "\u001b[36mresult\u001b[39m: \u001b[32mString\u001b[39m = \u001b[37m[lazy]\u001b[39m"
      ]
     },
     "metadata": {},
     "output_type": "display_data"
    }
   ],
   "source": [
    "val command = \"\"\"find /tmp/hudi/trips_table -path \"*sao_paulo*\" -name \" *.parquet\" -exec stat -c \\\"%y %s %n\\\" {} + | sort\"\"\"\n",
    "lazy val result = Seq(\"bash\", \"-c\", s\"eval $command\").!!\n",
    "println(result)"
   ]
  },
  {
   "cell_type": "markdown",
   "metadata": {},
   "source": [
    "* Lets check the commit files."
   ]
  },
  {
   "cell_type": "code",
   "execution_count": 54,
   "metadata": {},
   "outputs": [
    {
     "name": "stdout",
     "output_type": "stream",
     "text": [
      "/tmp/hudi/trips_table/.hoodie/timeline/20250303221422928_20250303221423946.commit\n",
      "+-------------+------------------------------------------------------------------------------------------------------------------------------------------------------------------------------------------------------------------------------------------------------------------------------------------------------------------------------------------------------------------------------------------------------------------------------------------------------------------------------------------------------------------------------------------------------------------------------------------------------------------------------------------------------------------------------------------------------------------------------------------------------------------------------------------------------------------------------------------------+--------------------------------------------------------------------------------------------------------------------------------------------------------------------------------------------------------------------------------------------------------------------------------------------------------------------------------------------------------------------------------------------------------------------------------------------------------------------------------------------------+-------+\n",
      "|operationType|partitionToWriteStats                                                                                                                                                                                                                                                                                                                                                                                                                                                                                                                                                                                                                                                                                                                                                                                                                           |extraMetadata                                                                                                                                                                                                                                                                                                                                                                                                                                                                                     |version|\n",
      "+-------------+------------------------------------------------------------------------------------------------------------------------------------------------------------------------------------------------------------------------------------------------------------------------------------------------------------------------------------------------------------------------------------------------------------------------------------------------------------------------------------------------------------------------------------------------------------------------------------------------------------------------------------------------------------------------------------------------------------------------------------------------------------------------------------------------------------------------------------------------+--------------------------------------------------------------------------------------------------------------------------------------------------------------------------------------------------------------------------------------------------------------------------------------------------------------------------------------------------------------------------------------------------------------------------------------------------------------------------------------------------+-------+\n",
      "|UPSERT       |{city=san_francisco -> [{a3dec851-53dd-4d0b-8eff-c3d084817da0-0, city=san_francisco/a3dec851-53dd-4d0b-8eff-c3d084817da0-0_0-101-101_20250303221422928.parquet, 20250303220848889, 4, 0, 1, 436245, 0, city=san_francisco, 0, null, 0, 1, 0, 0, 0, 436245, null, null, null, null, null}], city=sao_paulo -> [{a3dec851-53dd-4d0b-8eff-c3d084817da0-1, city=sao_paulo/a3dec851-53dd-4d0b-8eff-c3d084817da0-1_2-101-103_20250303221422928.parquet, 20250303220644309, 2, 0, 0, 436014, 0, city=sao_paulo, 0, null, 0, 1, 0, 0, 0, 436014, null, null, null, null, null}], city=chennai -> [{a3dec851-53dd-4d0b-8eff-c3d084817da0-2, city=chennai/a3dec851-53dd-4d0b-8eff-c3d084817da0-2_1-101-102_20250303221422928.parquet, 20250303220644309, 1, 0, 1, 435987, 0, city=chennai, 0, null, 0, 0, 0, 0, 0, 435987, null, null, null, null, null}]}|{schema -> {\"type\":\"record\",\"name\":\"trips_table_record\",\"namespace\":\"hoodie.trips_table\",\"fields\":[{\"name\":\"ts\",\"type\":[\"null\",\"long\"],\"default\":null},{\"name\":\"uuid\",\"type\":[\"null\",\"string\"],\"default\":null},{\"name\":\"rider\",\"type\":[\"null\",\"string\"],\"default\":null},{\"name\":\"driver\",\"type\":[\"null\",\"string\"],\"default\":null},{\"name\":\"fare\",\"type\":[\"null\",\"double\"],\"default\":null},{\"name\":\"city\",\"type\":[\"null\",\"string\"],\"default\":null}]}, _hoodie.spark.sql.merge.into.prepped -> true}|null   |\n",
      "+-------------+------------------------------------------------------------------------------------------------------------------------------------------------------------------------------------------------------------------------------------------------------------------------------------------------------------------------------------------------------------------------------------------------------------------------------------------------------------------------------------------------------------------------------------------------------------------------------------------------------------------------------------------------------------------------------------------------------------------------------------------------------------------------------------------------------------------------------------------------+--------------------------------------------------------------------------------------------------------------------------------------------------------------------------------------------------------------------------------------------------------------------------------------------------------------------------------------------------------------------------------------------------------------------------------------------------------------------------------------------------+-------+\n",
      "\n",
      "\n",
      "/tmp/hudi/trips_table/.hoodie/timeline/20250303222355530_20250303222356174.commit\n",
      "+--------------+------------------------------------------------------------------------------------------------------------------------------------------------------------------------------------------------------------------------------------------------------------------------------+----------------------------------------------------------------------------------------------------------------------------------------------------------------------------------------------------------------------------------------------------------------------------------------------------------------------------------------------------------------------------------------------------------------------------------------------------+-------+\n",
      "|operationType |partitionToWriteStats                                                                                                                                                                                                                                                         |extraMetadata                                                                                                                                                                                                                                                                                                                                                                                                                                       |version|\n",
      "+--------------+------------------------------------------------------------------------------------------------------------------------------------------------------------------------------------------------------------------------------------------------------------------------------+----------------------------------------------------------------------------------------------------------------------------------------------------------------------------------------------------------------------------------------------------------------------------------------------------------------------------------------------------------------------------------------------------------------------------------------------------+-------+\n",
      "|DELETE_PREPPED|{city=sao_paulo -> [{a3dec851-53dd-4d0b-8eff-c3d084817da0-1, city=sao_paulo/a3dec851-53dd-4d0b-8eff-c3d084817da0-1_0-123-129_20250303222355530.parquet, 20250303221422928, 1, 1, 0, 436016, 0, city=sao_paulo, 0, null, 0, 0, 0, 0, 0, 436016, null, null, null, null, null}]}|{schema -> {\"type\":\"record\",\"name\":\"trips_table_record\",\"namespace\":\"hoodie.trips_table\",\"fields\":[{\"name\":\"ts\",\"type\":[\"null\",\"long\"],\"default\":null},{\"name\":\"uuid\",\"type\":[\"null\",\"string\"],\"default\":null},{\"name\":\"rider\",\"type\":[\"null\",\"string\"],\"default\":null},{\"name\":\"driver\",\"type\":[\"null\",\"string\"],\"default\":null},{\"name\":\"fare\",\"type\":[\"null\",\"double\"],\"default\":null},{\"name\":\"city\",\"type\":[\"null\",\"string\"],\"default\":null}]}}|null   |\n",
      "+--------------+------------------------------------------------------------------------------------------------------------------------------------------------------------------------------------------------------------------------------------------------------------------------------+----------------------------------------------------------------------------------------------------------------------------------------------------------------------------------------------------------------------------------------------------------------------------------------------------------------------------------------------------------------------------------------------------------------------------------------------------+-------+\n",
      "\n",
      "\n"
     ]
    },
    {
     "data": {
      "text/html": [
       "<div class=\"jp-RenderedText\">\n",
       "<pre><code><span style=\"color: rgb(0, 187, 187)\"><span class=\"ansi-cyan-fg\">command</span></span>: <span style=\"color: rgb(0, 187, 0)\"><span class=\"ansi-green-fg\">String</span></span> = <span style=\"color: rgb(0, 187, 0)\"><span class=\"ansi-green-fg\">&quot;find /tmp/hudi/trips_table -name \\&quot;*.commit\\&quot; -exec stat -c \\\\\\&quot;%y %s %n\\\\\\&quot; {} + | sort | tail -n 2&quot;</span></span>\n",
       "<span style=\"color: rgb(0, 187, 187)\"><span class=\"ansi-cyan-fg\">result</span></span>: <span style=\"color: rgb(0, 187, 0)\"><span class=\"ansi-green-fg\">String</span></span> = <span style=\"color: white\"><span class=\"ansi-white-fg\">[lazy]</span></span>\n",
       "<span style=\"color: rgb(0, 187, 187)\"><span class=\"ansi-cyan-fg\">hudiMetas</span></span>: <span style=\"color: rgb(0, 187, 0)\"><span class=\"ansi-green-fg\">Array</span></span>[<span style=\"color: rgb(0, 187, 0)\"><span class=\"ansi-green-fg\">String</span></span>] = <span style=\"color: white\"><span class=\"ansi-white-fg\">[lazy]</span></span></code></pre>\n",
       "</div>"
      ],
      "text/plain": [
       "\u001b[36mcommand\u001b[39m: \u001b[32mString\u001b[39m = \u001b[32m\"find /tmp/hudi/trips_table -name \\\"*.commit\\\" -exec stat -c \\\\\\\"%y %s %n\\\\\\\" {} + | sort | tail -n 2\"\u001b[39m\n",
       "\u001b[36mresult\u001b[39m: \u001b[32mString\u001b[39m = \u001b[37m[lazy]\u001b[39m\n",
       "\u001b[36mhudiMetas\u001b[39m: \u001b[32mArray\u001b[39m[\u001b[32mString\u001b[39m] = \u001b[37m[lazy]\u001b[39m"
      ]
     },
     "metadata": {},
     "output_type": "display_data"
    }
   ],
   "source": [
    "val command = \"\"\"find /tmp/hudi/trips_table -name \"*.commit\" -exec stat -c \\\"%y %s %n\\\" {} + | sort | tail -n 2\"\"\"\n",
    "lazy val result = Seq(\"bash\", \"-c\", s\"eval $command\").!!\n",
    "lazy val hudiMetas = result.split(\"\\n\")\n",
    "for(hudiMeta <- hudiMetas){\n",
    "    val path = hudiMeta.split(\" \")(4)\n",
    "    println(path)\n",
    "    spark.read.format(\"avro\").load(path).select(\"operationType\", \"partitionToWriteStats\", \"extraMetadata\", \"version\").show(truncate=false)\n",
    "    println()\n",
    "}"
   ]
  },
  {
   "cell_type": "markdown",
   "metadata": {},
   "source": [
    "* Now we can see \"DELETE_PREPPED\" operation."
   ]
  },
  {
   "cell_type": "code",
   "execution_count": 55,
   "metadata": {},
   "outputs": [
    {
     "name": "stdout",
     "output_type": "stream",
     "text": [
      "/tmp/hudi/trips_table/city=sao_paulo/a3dec851-53dd-4d0b-8eff-c3d084817da0-1_0-6-0_20250303220644309.parquet\n",
      "+-------------------+---------------------+---------------------+----------------------+----------------------------------------------------------------------+-------------+------------------------------------+-------+--------+-----+---------+\n",
      "|_hoodie_commit_time|_hoodie_commit_seqno |_hoodie_record_key   |_hoodie_partition_path|_hoodie_file_name                                                     |ts           |uuid                                |rider  |driver  |fare |city     |\n",
      "+-------------------+---------------------+---------------------+----------------------+----------------------------------------------------------------------+-------------+------------------------------------+-------+--------+-----+---------+\n",
      "|20250303220644309  |20250303220644309_0_4|20250303220644309_0_3|city=sao_paulo        |a3dec851-53dd-4d0b-8eff-c3d084817da0-1_0-6-0_20250303220644309.parquet|1695516137016|e3cf430c-889d-4015-bc98-59bdce1e530c|rider-F|driver-P|34.15|sao_paulo|\n",
      "+-------------------+---------------------+---------------------+----------------------+----------------------------------------------------------------------+-------------+------------------------------------+-------+--------+-----+---------+\n",
      "\n",
      "\n",
      "/tmp/hudi/trips_table/city=sao_paulo/a3dec851-53dd-4d0b-8eff-c3d084817da0-1_2-101-103_20250303221422928.parquet\n",
      "+-------------------+---------------------+---------------------+----------------------+--------------------------------------------------------------------------+-------------+------------------------------------+-------+--------+-----+---------+\n",
      "|_hoodie_commit_time|_hoodie_commit_seqno |_hoodie_record_key   |_hoodie_partition_path|_hoodie_file_name                                                         |ts           |uuid                                |rider  |driver  |fare |city     |\n",
      "+-------------------+---------------------+---------------------+----------------------+--------------------------------------------------------------------------+-------------+------------------------------------+-------+--------+-----+---------+\n",
      "|20250303220644309  |20250303220644309_0_4|20250303220644309_0_3|city=sao_paulo        |a3dec851-53dd-4d0b-8eff-c3d084817da0-1_2-101-103_20250303221422928.parquet|1695516137016|e3cf430c-889d-4015-bc98-59bdce1e530c|rider-F|driver-P|34.15|sao_paulo|\n",
      "|20250303221422928  |20250303221422928_2_1|20250303221422928_0_2|city=sao_paulo        |a3dec851-53dd-4d0b-8eff-c3d084817da0-1_2-101-103_20250303221422928.parquet|1695241330902|ea4c36ff-2069-4148-9927-ef8c1a5abd24|rider-H|driver-R|66.6 |sao_paulo|\n",
      "+-------------------+---------------------+---------------------+----------------------+--------------------------------------------------------------------------+-------------+------------------------------------+-------+--------+-----+---------+\n",
      "\n",
      "\n",
      "/tmp/hudi/trips_table/city=sao_paulo/a3dec851-53dd-4d0b-8eff-c3d084817da0-1_0-123-129_20250303222355530.parquet\n",
      "+-------------------+---------------------+---------------------+----------------------+--------------------------------------------------------------------------+-------------+------------------------------------+-------+--------+----+---------+\n",
      "|_hoodie_commit_time|_hoodie_commit_seqno |_hoodie_record_key   |_hoodie_partition_path|_hoodie_file_name                                                         |ts           |uuid                                |rider  |driver  |fare|city     |\n",
      "+-------------------+---------------------+---------------------+----------------------+--------------------------------------------------------------------------+-------------+------------------------------------+-------+--------+----+---------+\n",
      "|20250303221422928  |20250303221422928_2_1|20250303221422928_0_2|city=sao_paulo        |a3dec851-53dd-4d0b-8eff-c3d084817da0-1_0-123-129_20250303222355530.parquet|1695241330902|ea4c36ff-2069-4148-9927-ef8c1a5abd24|rider-H|driver-R|66.6|sao_paulo|\n",
      "+-------------------+---------------------+---------------------+----------------------+--------------------------------------------------------------------------+-------------+------------------------------------+-------+--------+----+---------+\n",
      "\n",
      "\n"
     ]
    },
    {
     "data": {
      "text/html": [
       "<div class=\"jp-RenderedText\">\n",
       "<pre><code><span style=\"color: rgb(0, 187, 187)\"><span class=\"ansi-cyan-fg\">command</span></span>: <span style=\"color: rgb(0, 187, 0)\"><span class=\"ansi-green-fg\">String</span></span> = <span style=\"color: rgb(0, 187, 0)\"><span class=\"ansi-green-fg\">&quot;find /tmp/hudi/trips_table -path \\&quot;*sao_paulo*\\&quot; -name \\&quot;*.parquet\\&quot; -exec stat -c \\\\\\&quot;%y %s %n\\\\\\&quot; {} + | sort&quot;</span></span>\n",
       "<span style=\"color: rgb(0, 187, 187)\"><span class=\"ansi-cyan-fg\">result</span></span>: <span style=\"color: rgb(0, 187, 0)\"><span class=\"ansi-green-fg\">String</span></span> = <span style=\"color: white\"><span class=\"ansi-white-fg\">[lazy]</span></span>\n",
       "<span style=\"color: rgb(0, 187, 187)\"><span class=\"ansi-cyan-fg\">parquetFiles</span></span>: <span style=\"color: rgb(0, 187, 0)\"><span class=\"ansi-green-fg\">Array</span></span>[<span style=\"color: rgb(0, 187, 0)\"><span class=\"ansi-green-fg\">String</span></span>] = <span style=\"color: white\"><span class=\"ansi-white-fg\">[lazy]</span></span></code></pre>\n",
       "</div>"
      ],
      "text/plain": [
       "\u001b[36mcommand\u001b[39m: \u001b[32mString\u001b[39m = \u001b[32m\"find /tmp/hudi/trips_table -path \\\"*sao_paulo*\\\" -name \\\"*.parquet\\\" -exec stat -c \\\\\\\"%y %s %n\\\\\\\" {} + | sort\"\u001b[39m\n",
       "\u001b[36mresult\u001b[39m: \u001b[32mString\u001b[39m = \u001b[37m[lazy]\u001b[39m\n",
       "\u001b[36mparquetFiles\u001b[39m: \u001b[32mArray\u001b[39m[\u001b[32mString\u001b[39m] = \u001b[37m[lazy]\u001b[39m"
      ]
     },
     "metadata": {},
     "output_type": "display_data"
    }
   ],
   "source": [
    "val command = \"\"\"find /tmp/hudi/trips_table -path \"*sao_paulo*\" -name \"*.parquet\" -exec stat -c \\\"%y %s %n\\\" {} + | sort\"\"\"\n",
    "lazy val result = Seq(\"bash\", \"-c\", s\"eval $command\").!!\n",
    "lazy val parquetFiles = result.split(\"\\n\")\n",
    "for(parquetFile <- parquetFiles){\n",
    "    val path = parquetFile.split(\" \")(4)\n",
    "    println(path)\n",
    "    spark.read.format(\"parquet\").load(path).show(truncate=false)\n",
    "    println()\n",
    "}"
   ]
  },
  {
   "cell_type": "markdown",
   "metadata": {},
   "source": [
    "* And the following is our final dir structure."
   ]
  },
  {
   "cell_type": "code",
   "execution_count": 56,
   "metadata": {},
   "outputs": [
    {
     "name": "stdout",
     "output_type": "stream",
     "text": [
      "/tmp/hudi/trips_table\n",
      "├── .hoodie\n",
      "│   ├── .aux\n",
      "│   │   └── .bootstrap\n",
      "│   │       ├── .fileids\n",
      "│   │       └── .partitions\n",
      "│   ├── .hoodie.properties.crc\n",
      "│   ├── .schema\n",
      "│   ├── .temp\n",
      "│   ├── hoodie.properties\n",
      "│   ├── metadata\n",
      "│   │   ├── .hoodie\n",
      "│   │   │   ├── .aux\n",
      "│   │   │   │   └── .bootstrap\n",
      "│   │   │   │       ├── .fileids\n",
      "│   │   │   │       └── .partitions\n",
      "│   │   │   ├── .hoodie.properties.crc\n",
      "│   │   │   ├── .schema\n",
      "│   │   │   ├── .temp\n",
      "│   │   │   ├── hoodie.properties\n",
      "│   │   │   └── timeline\n",
      "│   │   │       ├── .00000000000000000.deltacommit.inflight.crc\n",
      "│   │   │       ├── .00000000000000000.deltacommit.requested.crc\n",
      "│   │   │       ├── .00000000000000000_20250303220645500.deltacommit.crc\n",
      "│   │   │       ├── .20250303220644309.deltacommit.inflight.crc\n",
      "│   │   │       ├── .20250303220644309.deltacommit.requested.crc\n",
      "│   │   │       ├── .20250303220644309_20250303220647611.deltacommit.crc\n",
      "│   │   │       ├── .20250303220705496.deltacommit.inflight.crc\n",
      "│   │   │       ├── .20250303220705496.deltacommit.requested.crc\n",
      "│   │   │       ├── .20250303220705496_20250303220706320.deltacommit.crc\n",
      "│   │   │       ├── .20250303220848889.deltacommit.inflight.crc\n",
      "│   │   │       ├── .20250303220848889.deltacommit.requested.crc\n",
      "│   │   │       ├── .20250303220848889_20250303220849630.deltacommit.crc\n",
      "│   │   │       ├── .20250303221422928.deltacommit.inflight.crc\n",
      "│   │   │       ├── .20250303221422928.deltacommit.requested.crc\n",
      "│   │   │       ├── .20250303221422928_20250303221423915.deltacommit.crc\n",
      "│   │   │       ├── .20250303222355530.deltacommit.inflight.crc\n",
      "│   │   │       ├── .20250303222355530.deltacommit.requested.crc\n",
      "│   │   │       ├── .20250303222355530_20250303222356151.deltacommit.crc\n",
      "│   │   │       ├── 00000000000000000.deltacommit.inflight\n",
      "│   │   │       ├── 00000000000000000.deltacommit.requested\n",
      "│   │   │       ├── 00000000000000000_20250303220645500.deltacommit\n",
      "│   │   │       ├── 20250303220644309.deltacommit.inflight\n",
      "│   │   │       ├── 20250303220644309.deltacommit.requested\n",
      "│   │   │       ├── 20250303220644309_20250303220647611.deltacommit\n",
      "│   │   │       ├── 20250303220705496.deltacommit.inflight\n",
      "│   │   │       ├── 20250303220705496.deltacommit.requested\n",
      "│   │   │       ├── 20250303220705496_20250303220706320.deltacommit\n",
      "│   │   │       ├── 20250303220848889.deltacommit.inflight\n",
      "│   │   │       ├── 20250303220848889.deltacommit.requested\n",
      "│   │   │       ├── 20250303220848889_20250303220849630.deltacommit\n",
      "│   │   │       ├── 20250303221422928.deltacommit.inflight\n",
      "│   │   │       ├── 20250303221422928.deltacommit.requested\n",
      "│   │   │       ├── 20250303221422928_20250303221423915.deltacommit\n",
      "│   │   │       ├── 20250303222355530.deltacommit.inflight\n",
      "│   │   │       ├── 20250303222355530.deltacommit.requested\n",
      "│   │   │       ├── 20250303222355530_20250303222356151.deltacommit\n",
      "│   │   │       └── history\n",
      "│   │   └── files\n",
      "│   │       ├── ..files-0000-0_00000000000000000.log.1_0-0-0.crc\n",
      "│   │       ├── ..files-0000-0_20250303220644309.log.1_0-11-10.crc\n",
      "│   │       ├── ..files-0000-0_20250303220705496.log.1_0-26-27.crc\n",
      "│   │       ├── ..files-0000-0_20250303220848889.log.1_0-54-52.crc\n",
      "│   │       ├── ..files-0000-0_20250303221422928.log.1_0-107-110.crc\n",
      "│   │       ├── ..files-0000-0_20250303222355530.log.1_0-129-134.crc\n",
      "│   │       ├── ..hoodie_partition_metadata.crc\n",
      "│   │       ├── .files-0000-0_0-4-3_00000000000000000.hfile.crc\n",
      "│   │       ├── .files-0000-0_00000000000000000.log.1_0-0-0\n",
      "│   │       ├── .files-0000-0_20250303220644309.log.1_0-11-10\n",
      "│   │       ├── .files-0000-0_20250303220705496.log.1_0-26-27\n",
      "│   │       ├── .files-0000-0_20250303220848889.log.1_0-54-52\n",
      "│   │       ├── .files-0000-0_20250303221422928.log.1_0-107-110\n",
      "│   │       ├── .files-0000-0_20250303222355530.log.1_0-129-134\n",
      "│   │       ├── .hoodie_partition_metadata\n",
      "│   │       └── files-0000-0_0-4-3_00000000000000000.hfile\n",
      "│   └── timeline\n",
      "│       ├── .20250303220644309.commit.requested.crc\n",
      "│       ├── .20250303220644309.inflight.crc\n",
      "│       ├── .20250303220644309_20250303220647646.commit.crc\n",
      "│       ├── .20250303220705496.commit.requested.crc\n",
      "│       ├── .20250303220705496.inflight.crc\n",
      "│       ├── .20250303220705496_20250303220706345.commit.crc\n",
      "│       ├── .20250303220848889.commit.requested.crc\n",
      "│       ├── .20250303220848889.inflight.crc\n",
      "│       ├── .20250303220848889_20250303220849654.commit.crc\n",
      "│       ├── .20250303221422928.commit.requested.crc\n",
      "│       ├── .20250303221422928.inflight.crc\n",
      "│       ├── .20250303221422928_20250303221423946.commit.crc\n",
      "│       ├── .20250303222355530.commit.requested.crc\n",
      "│       ├── .20250303222355530.inflight.crc\n",
      "│       ├── .20250303222355530_20250303222356174.commit.crc\n",
      "│       ├── 20250303220644309.commit.requested\n",
      "│       ├── 20250303220644309.inflight\n",
      "│       ├── 20250303220644309_20250303220647646.commit\n",
      "│       ├── 20250303220705496.commit.requested\n",
      "│       ├── 20250303220705496.inflight\n",
      "│       ├── 20250303220705496_20250303220706345.commit\n",
      "│       ├── 20250303220848889.commit.requested\n",
      "│       ├── 20250303220848889.inflight\n",
      "│       ├── 20250303220848889_20250303220849654.commit\n",
      "│       ├── 20250303221422928.commit.requested\n",
      "│       ├── 20250303221422928.inflight\n",
      "│       ├── 20250303221422928_20250303221423946.commit\n",
      "│       ├── 20250303222355530.commit.requested\n",
      "│       ├── 20250303222355530.inflight\n",
      "│       ├── 20250303222355530_20250303222356174.commit\n",
      "│       └── history\n",
      "├── city=chennai\n",
      "│   ├── ..hoodie_partition_metadata.crc\n",
      "│   ├── .a3dec851-53dd-4d0b-8eff-c3d084817da0-2_0-6-0_20250303220644309.parquet.crc\n",
      "│   ├── .a3dec851-53dd-4d0b-8eff-c3d084817da0-2_1-101-102_20250303221422928.parquet.crc\n",
      "│   ├── .hoodie_partition_metadata\n",
      "│   ├── a3dec851-53dd-4d0b-8eff-c3d084817da0-2_0-6-0_20250303220644309.parquet\n",
      "│   └── a3dec851-53dd-4d0b-8eff-c3d084817da0-2_1-101-102_20250303221422928.parquet\n",
      "├── city=san_francisco\n",
      "│   ├── ..hoodie_partition_metadata.crc\n",
      "│   ├── .a3dec851-53dd-4d0b-8eff-c3d084817da0-0_0-101-101_20250303221422928.parquet.crc\n",
      "│   ├── .a3dec851-53dd-4d0b-8eff-c3d084817da0-0_0-20-22_20250303220705496.parquet.crc\n",
      "│   ├── .a3dec851-53dd-4d0b-8eff-c3d084817da0-0_0-47-47_20250303220848889.parquet.crc\n",
      "│   ├── .a3dec851-53dd-4d0b-8eff-c3d084817da0-0_0-6-0_20250303220644309.parquet.crc\n",
      "│   ├── .hoodie_partition_metadata\n",
      "│   ├── a3dec851-53dd-4d0b-8eff-c3d084817da0-0_0-101-101_20250303221422928.parquet\n",
      "│   ├── a3dec851-53dd-4d0b-8eff-c3d084817da0-0_0-20-22_20250303220705496.parquet\n",
      "│   ├── a3dec851-53dd-4d0b-8eff-c3d084817da0-0_0-47-47_20250303220848889.parquet\n",
      "│   └── a3dec851-53dd-4d0b-8eff-c3d084817da0-0_0-6-0_20250303220644309.parquet\n",
      "└── city=sao_paulo\n",
      "    ├── ..hoodie_partition_metadata.crc\n",
      "    ├── .a3dec851-53dd-4d0b-8eff-c3d084817da0-1_0-123-129_20250303222355530.parquet.crc\n",
      "    ├── .a3dec851-53dd-4d0b-8eff-c3d084817da0-1_0-6-0_20250303220644309.parquet.crc\n",
      "    ├── .a3dec851-53dd-4d0b-8eff-c3d084817da0-1_2-101-103_20250303221422928.parquet.crc\n",
      "    ├── .hoodie_partition_metadata\n",
      "    ├── a3dec851-53dd-4d0b-8eff-c3d084817da0-1_0-123-129_20250303222355530.parquet\n",
      "    ├── a3dec851-53dd-4d0b-8eff-c3d084817da0-1_0-6-0_20250303220644309.parquet\n",
      "    └── a3dec851-53dd-4d0b-8eff-c3d084817da0-1_2-101-103_20250303221422928.parquet\n",
      "\n",
      "23 directories, 110 files\n",
      "\n"
     ]
    },
    {
     "data": {
      "text/html": [
       "<div class=\"jp-RenderedText\">\n",
       "<pre><code><span style=\"color: rgb(0, 187, 187)\"><span class=\"ansi-cyan-fg\">result</span></span>: <span style=\"color: rgb(0, 187, 0)\"><span class=\"ansi-green-fg\">String</span></span> = <span style=\"color: white\"><span class=\"ansi-white-fg\">[lazy]</span></span></code></pre>\n",
       "</div>"
      ],
      "text/plain": [
       "\u001b[36mresult\u001b[39m: \u001b[32mString\u001b[39m = \u001b[37m[lazy]\u001b[39m"
      ]
     },
     "metadata": {},
     "output_type": "display_data"
    }
   ],
   "source": [
    "lazy val result = \"tree -a /tmp/hudi/trips_table\".!!\n",
    "println(result)"
   ]
  },
  {
   "cell_type": "code",
   "execution_count": 57,
   "metadata": {},
   "outputs": [],
   "source": [
    "spark.stop()"
   ]
  }
 ],
 "metadata": {
  "kernelspec": {
   "display_name": "Scala",
   "language": "scala",
   "name": "scala"
  },
  "language_info": {
   "codemirror_mode": "text/x-scala",
   "file_extension": ".sc",
   "mimetype": "text/x-scala",
   "name": "scala",
   "nbconvert_exporter": "script",
   "version": "2.12.15"
  }
 },
 "nbformat": 4,
 "nbformat_minor": 2
}
