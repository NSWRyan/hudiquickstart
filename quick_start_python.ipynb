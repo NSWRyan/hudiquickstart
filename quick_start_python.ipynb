{
 "cells": [
  {
   "cell_type": "code",
   "execution_count": null,
   "metadata": {},
   "outputs": [],
   "source": [
    "from hudi import HudiTableBuilder\n",
    "import pyarrow as pa"
   ]
  },
  {
   "cell_type": "code",
   "execution_count": null,
   "metadata": {},
   "outputs": [],
   "source": [
    "# Run python_starter.ipynb first.\n",
    "hudi_table = HudiTableBuilder.from_base_uri(\"/tmp/hudi/trips_table\").build()\n",
    "batches = hudi_table.read_snapshot(filters=[(\"city\", \"=\", \"san_francisco\")])\n",
    "# If using newer Hudi library, either use Hudi CLI to downgrade the table version."
   ]
  },
  {
   "cell_type": "code",
   "execution_count": 21,
   "metadata": {},
   "outputs": [
    {
     "data": {
      "text/plain": [
       "[pyarrow.RecordBatch\n",
       " _hoodie_commit_time: string\n",
       " _hoodie_commit_seqno: string\n",
       " _hoodie_record_key: string\n",
       " _hoodie_partition_path: string\n",
       " _hoodie_file_name: string\n",
       " ts: int64 not null\n",
       " uuid: string\n",
       " rider: string\n",
       " driver: string\n",
       " fare: double not null\n",
       " city: string\n",
       " ----\n",
       " _hoodie_commit_time: [\"20250304001809024\",\"20250304001809024\",\"20250304001754658\"]\n",
       " _hoodie_commit_seqno: [\"20250304001809024_0_0\",\"20250304001809024_0_1\",\"20250304001754658_0_2\"]\n",
       " _hoodie_record_key: [\"20250304001707251_0_0\",\"20250304001707251_0_1\",\"20250304001707251_0_2\"]\n",
       " _hoodie_partition_path: [\"city=san_francisco\",\"city=san_francisco\",\"city=san_francisco\"]\n",
       " _hoodie_file_name: [\"14e71d60-c51e-4433-820d-41c8d194babd-0_0-46-54_20250304001809024.parquet\",\"14e71d60-c51e-4433-820d-41c8d194babd-0_0-46-54_20250304001809024.parquet\",\"14e71d60-c51e-4433-820d-41c8d194babd-0_0-46-54_20250304001809024.parquet\"]\n",
       " ts: [1695159649087,1695091554788,1695046462179]\n",
       " uuid: [\"334e26e9-8355-45cc-97c6-c31daf0df330\",\"e96c4396-3fad-413a-a942-4cb36106d721\",\"9909a8b1-2d15-4d3d-8ec9-efc48c536a00\"]\n",
       " rider: [\"rider-A\",\"rider-C\",\"rider-D\"]\n",
       " driver: [\"driver-K\",\"driver-M\",\"driver-L\"]\n",
       " fare: [210.1,304.7,339]\n",
       " ...]"
      ]
     },
     "execution_count": 21,
     "metadata": {},
     "output_type": "execute_result"
    }
   ],
   "source": [
    "batches"
   ]
  },
  {
   "cell_type": "code",
   "execution_count": 23,
   "metadata": {},
   "outputs": [
    {
     "name": "stdout",
     "output_type": "stream",
     "text": [
      "pyarrow.Table\n",
      "rider: string\n",
      "city: string\n",
      "ts: int64 not null\n",
      "fare: double not null\n",
      "----\n",
      "rider: [[\"rider-A\",\"rider-C\",\"rider-D\"]]\n",
      "city: [[\"san_francisco\",\"san_francisco\",\"san_francisco\"]]\n",
      "ts: [[1695159649087,1695091554788,1695046462179]]\n",
      "fare: [[210.1,304.7,339]]\n"
     ]
    }
   ],
   "source": [
    "arrow_table = pa.Table.from_batches(batches)\n",
    "result = arrow_table.select([\"rider\", \"city\", \"ts\", \"fare\"])\n",
    "print(result)"
   ]
  },
  {
   "cell_type": "code",
   "execution_count": 28,
   "metadata": {},
   "outputs": [
    {
     "name": "stdout",
     "output_type": "stream",
     "text": [
      "     rider           city             ts   fare\n",
      "0  rider-A  san_francisco  1695159649087  210.1\n",
      "1  rider-C  san_francisco  1695091554788  304.7\n",
      "2  rider-D  san_francisco  1695046462179  339.0\n"
     ]
    }
   ],
   "source": [
    "import pandas as pd\n",
    "\n",
    "df_trips = result.to_pandas()\n",
    "print(df_trips)"
   ]
  }
 ],
 "metadata": {
  "kernelspec": {
   "display_name": "Python 3 (ipykernel)",
   "language": "python",
   "name": "python3"
  },
  "language_info": {
   "codemirror_mode": {
    "name": "ipython",
    "version": 3
   },
   "file_extension": ".py",
   "mimetype": "text/x-python",
   "name": "python",
   "nbconvert_exporter": "python",
   "pygments_lexer": "ipython3",
   "version": "3.11.11+"
  }
 },
 "nbformat": 4,
 "nbformat_minor": 2
}
